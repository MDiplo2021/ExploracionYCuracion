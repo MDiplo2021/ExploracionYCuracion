{
 "cells": [
  {
   "cell_type": "markdown",
   "id": "4c06fd04-3458-4bba-a6ea-061d78db4e0f",
   "metadata": {},
   "source": [
    "\n",
    "# Diplomatura en Ciencia de Datos, Aprendizaje Automático y sus Aplicaciones\n",
    "\n",
    "<center>\n",
    "<img \n",
    "     src=\"http://www2.famaf.unc.edu.ar/~efernandez/egeo/img/logos/famaf.jpg\" \n",
    "     alt=\"Drawing\" \n",
    "     style=\"width:30%;\"\n",
    "/>\n",
    "</center>\n",
    "\n",
    "### Universidad Nacional de Córdoba\n",
    "---"
   ]
  },
  {
   "cell_type": "markdown",
   "id": "0274abb1-255e-4ded-ac4a-a2d00041f17e",
   "metadata": {},
   "source": [
    "## Practico\n",
    "### Curación y Exploración de Datos\n",
    "\n",
    "En la siguiente notebook, se presentará la consigna a seguir para el segundo práctico de la materia Exploración y Curación. El objetivo consiste en identificar e implementar los pasos necesarios para la limpieza de la base de datos, así como también analizar cruces de datos con mayor profundidad y validando el sentido lógico. \n",
    "\n",
    "Dataset: [here](https://drive.google.com/file/d/1wCNrWQbUd_bh1mdjZ-dg3g9y0r02JyQN/view?usp=sharing)"
   ]
  },
  {
   "cell_type": "markdown",
   "id": "6422abff",
   "metadata": {},
   "source": [
    "## Importación de Librerías"
   ]
  },
  {
   "cell_type": "code",
   "execution_count": 1,
   "id": "0c829368-c5f2-4aa0-8fd6-9d6a4a51104b",
   "metadata": {},
   "outputs": [],
   "source": [
    "import pyarrow\n",
    "import fastparquet\n",
    "import pandas as pd\n",
    "import numpy as np\n",
    "from sklearn.impute import SimpleImputer\n",
    "import missingno as msno\n",
    "import matplotlib.pyplot as plt\n",
    "import seaborn as sns\n",
    "import hashlib as hl\n",
    "import re\n",
    "\n",
    "from sklearn.decomposition import PCA\n",
    "from sklearn.experimental import enable_iterative_imputer\n",
    "from sklearn.impute import IterativeImputer\n",
    "from sklearn import (base, decomposition, feature_extraction, impute,\n",
    "                     neighbors, preprocessing)\n",
    "from sklearn.preprocessing import MinMaxScaler\n",
    "from unidecode import unidecode\n",
    "\n",
    "\n",
    "pd.set_option('display.max_columns', None)"
   ]
  },
  {
   "cell_type": "code",
   "execution_count": 2,
   "id": "8daae007-a767-4179-a416-319d102e7291",
   "metadata": {},
   "outputs": [],
   "source": [
    "#!pip install unidecode"
   ]
  },
  {
   "cell_type": "markdown",
   "id": "b31a8d4c-d01f-47b8-966d-3ad2bc4d6213",
   "metadata": {},
   "source": [
    "## Lectura de Datasets"
   ]
  },
  {
   "cell_type": "code",
   "execution_count": 3,
   "id": "860d6c11-23b7-4f29-b4a9-ed1a0118a87a",
   "metadata": {},
   "outputs": [],
   "source": [
    "df_orig = pd.read_parquet(\"cupones_ds.parquet\")\n",
    "df = df_orig#.sample(50000)"
   ]
  },
  {
   "cell_type": "code",
   "execution_count": 4,
   "id": "4c254dbc-087d-4798-8855-f7254668d7e8",
   "metadata": {},
   "outputs": [
    {
     "name": "stdout",
     "output_type": "stream",
     "text": [
      "<class 'pandas.core.frame.DataFrame'>\n",
      "RangeIndex: 4092077 entries, 0 to 4092076\n",
      "Data columns (total 41 columns):\n",
      " #   Column                               Dtype  \n",
      "---  ------                               -----  \n",
      " 0   dni_titular_movimiento               object \n",
      " 1   moneda_movimiento                    int64  \n",
      " 2   id_comercio_movimiento               int64  \n",
      " 3   nombre_comercio_histo                object \n",
      " 4   numero_cupon_movimiento              int64  \n",
      " 5   debito_credito_movimiento            int64  \n",
      " 6   producto_naranja_movimiento          object \n",
      " 7   codigo_empresa_movimiento            int64  \n",
      " 8   tipo_producto_tarjeta_movimiento     int64  \n",
      " 9   plan_movimiento                      int64  \n",
      " 10  fecha_vto_cupon_movimiento           object \n",
      " 11  fecha_presentacion_movimiento        object \n",
      " 12  fecha_cupon_movimiento               object \n",
      " 13  fecha_carga_sistema_movimiento       object \n",
      " 14  monto_compra_movimiento              float64\n",
      " 15  importe_cuota_movimiento             float64\n",
      " 16  interes_movimiento                   float64\n",
      " 17  cargo_adm_seguro_movimiento          float64\n",
      " 18  cargo_otorgamiento_movimiento        float64\n",
      " 19  cargo_seguro_vida_movimiento         float64\n",
      " 20  cargo_administrativo_movimiento      float64\n",
      " 21  seleccionado_ng                      int64  \n",
      " 22  tipo_prestamo_movimiento             object \n",
      " 23  codigo_contable_movimiento           int64  \n",
      " 24  local_venta_producto                 int64  \n",
      " 25  nombre_local_histo                   object \n",
      " 26  marca_debito_automatico              int64  \n",
      " 27  fecha_extraccion_movimiento          float64\n",
      " 28  id_comercio_otras_marcas_movimiento  int64  \n",
      " 29  fecha_nacimiento                     object \n",
      " 30  estado_civil_descripcion             object \n",
      " 31  sexo_descripcion                     object \n",
      " 32  pais                                 object \n",
      " 33  provincia                            object \n",
      " 34  ciudad                               object \n",
      " 35  domicilio_codigo_postal              float64\n",
      " 36  domicilio_barrio                     object \n",
      " 37  fecha_de_ingreso_histo               object \n",
      " 38  cargo_descripcion_histo              object \n",
      " 39  nivel_estudio_descripcion_histo      object \n",
      " 40  rel_vivienda_descripcion_histo       object \n",
      "dtypes: float64(9), int64(12), object(20)\n",
      "memory usage: 1.3+ GB\n"
     ]
    }
   ],
   "source": [
    "df.info()"
   ]
  },
  {
   "cell_type": "markdown",
   "id": "ced422d7-e04b-497b-845c-7a03deb6123d",
   "metadata": {},
   "source": [
    "Antes de iniciar la curación, se deben tener en cuenta dos factores importantes a la hora del análisis de los montos: El efecto de la inflación y el tipo de cambio."
   ]
  },
  {
   "cell_type": "markdown",
   "id": "dd367cfb-a249-462c-8d92-ae50b9930471",
   "metadata": {},
   "source": [
    "### Ajuste por Inflación"
   ]
  },
  {
   "cell_type": "markdown",
   "id": "246fdfe2-8fa2-41a6-b456-06b6474b179e",
   "metadata": {},
   "source": [
    "Fuente: https://datosmacro.expansion.com/ipc-paises/argentina?sector=IPC+General&sc=IPC-IG&anio=2020"
   ]
  },
  {
   "cell_type": "markdown",
   "id": "95ecb13d-8115-47d3-a2fb-1865863b6b9e",
   "metadata": {},
   "source": [
    "Como los consumos en pesos fueron efectuados durante ciertos meses, sumarlos en diferentes momentos temporales nos puede llevar a sacar conclusiones incorrectas. Obtuvimos los datos de inflación mensual de la fuente mencionada y aplicamos sobre las diferentes filas afectadas. Elegimos como mes base, el mes de Febrero del 2020, llevando todos los movimientos a la moneda de ese mes."
   ]
  },
  {
   "cell_type": "code",
   "execution_count": 5,
   "id": "62bb92f4-b970-4faf-ba89-f5efd4c5c644",
   "metadata": {},
   "outputs": [],
   "source": [
    "df_infl = pd.read_csv('https://raw.githubusercontent.com/JIBarrionuevoGaltier/DiploDatos_2021_Mentoria_Grupo_2/main/notebooks_tp2/Indices%20de%20inflaci%C3%B3n.csv', \n",
    "                      parse_dates=['mes'])"
   ]
  },
  {
   "cell_type": "code",
   "execution_count": 6,
   "id": "bbb24ff4-e915-4c65-afa1-0fb9ec88241b",
   "metadata": {},
   "outputs": [
    {
     "data": {
      "text/html": [
       "<div>\n",
       "<style scoped>\n",
       "    .dataframe tbody tr th:only-of-type {\n",
       "        vertical-align: middle;\n",
       "    }\n",
       "\n",
       "    .dataframe tbody tr th {\n",
       "        vertical-align: top;\n",
       "    }\n",
       "\n",
       "    .dataframe thead th {\n",
       "        text-align: right;\n",
       "    }\n",
       "</style>\n",
       "<table border=\"1\" class=\"dataframe\">\n",
       "  <thead>\n",
       "    <tr style=\"text-align: right;\">\n",
       "      <th></th>\n",
       "      <th>mes</th>\n",
       "      <th>inflacion_mensual</th>\n",
       "      <th>inflacion_acumulada</th>\n",
       "    </tr>\n",
       "  </thead>\n",
       "  <tbody>\n",
       "    <tr>\n",
       "      <th>0</th>\n",
       "      <td>2020-02-01</td>\n",
       "      <td>0.000</td>\n",
       "      <td>0.000</td>\n",
       "    </tr>\n",
       "    <tr>\n",
       "      <th>1</th>\n",
       "      <td>2020-03-01</td>\n",
       "      <td>0.033</td>\n",
       "      <td>0.033</td>\n",
       "    </tr>\n",
       "    <tr>\n",
       "      <th>2</th>\n",
       "      <td>2020-04-01</td>\n",
       "      <td>0.015</td>\n",
       "      <td>0.048</td>\n",
       "    </tr>\n",
       "    <tr>\n",
       "      <th>3</th>\n",
       "      <td>2020-05-01</td>\n",
       "      <td>0.015</td>\n",
       "      <td>0.063</td>\n",
       "    </tr>\n",
       "    <tr>\n",
       "      <th>4</th>\n",
       "      <td>2020-06-01</td>\n",
       "      <td>0.022</td>\n",
       "      <td>0.085</td>\n",
       "    </tr>\n",
       "    <tr>\n",
       "      <th>5</th>\n",
       "      <td>2020-07-01</td>\n",
       "      <td>0.019</td>\n",
       "      <td>0.104</td>\n",
       "    </tr>\n",
       "    <tr>\n",
       "      <th>6</th>\n",
       "      <td>2020-08-01</td>\n",
       "      <td>0.027</td>\n",
       "      <td>0.131</td>\n",
       "    </tr>\n",
       "    <tr>\n",
       "      <th>7</th>\n",
       "      <td>2020-09-01</td>\n",
       "      <td>0.028</td>\n",
       "      <td>0.159</td>\n",
       "    </tr>\n",
       "    <tr>\n",
       "      <th>8</th>\n",
       "      <td>2020-10-01</td>\n",
       "      <td>0.038</td>\n",
       "      <td>0.197</td>\n",
       "    </tr>\n",
       "    <tr>\n",
       "      <th>9</th>\n",
       "      <td>2020-11-01</td>\n",
       "      <td>0.032</td>\n",
       "      <td>0.229</td>\n",
       "    </tr>\n",
       "    <tr>\n",
       "      <th>10</th>\n",
       "      <td>2020-12-01</td>\n",
       "      <td>0.040</td>\n",
       "      <td>0.269</td>\n",
       "    </tr>\n",
       "    <tr>\n",
       "      <th>11</th>\n",
       "      <td>2021-01-01</td>\n",
       "      <td>0.041</td>\n",
       "      <td>0.310</td>\n",
       "    </tr>\n",
       "    <tr>\n",
       "      <th>12</th>\n",
       "      <td>2021-02-01</td>\n",
       "      <td>0.036</td>\n",
       "      <td>0.346</td>\n",
       "    </tr>\n",
       "    <tr>\n",
       "      <th>13</th>\n",
       "      <td>2021-03-01</td>\n",
       "      <td>0.048</td>\n",
       "      <td>0.394</td>\n",
       "    </tr>\n",
       "    <tr>\n",
       "      <th>14</th>\n",
       "      <td>2021-04-01</td>\n",
       "      <td>0.041</td>\n",
       "      <td>0.435</td>\n",
       "    </tr>\n",
       "    <tr>\n",
       "      <th>15</th>\n",
       "      <td>2021-05-01</td>\n",
       "      <td>0.033</td>\n",
       "      <td>0.468</td>\n",
       "    </tr>\n",
       "  </tbody>\n",
       "</table>\n",
       "</div>"
      ],
      "text/plain": [
       "          mes  inflacion_mensual  inflacion_acumulada\n",
       "0  2020-02-01              0.000                0.000\n",
       "1  2020-03-01              0.033                0.033\n",
       "2  2020-04-01              0.015                0.048\n",
       "3  2020-05-01              0.015                0.063\n",
       "4  2020-06-01              0.022                0.085\n",
       "5  2020-07-01              0.019                0.104\n",
       "6  2020-08-01              0.027                0.131\n",
       "7  2020-09-01              0.028                0.159\n",
       "8  2020-10-01              0.038                0.197\n",
       "9  2020-11-01              0.032                0.229\n",
       "10 2020-12-01              0.040                0.269\n",
       "11 2021-01-01              0.041                0.310\n",
       "12 2021-02-01              0.036                0.346\n",
       "13 2021-03-01              0.048                0.394\n",
       "14 2021-04-01              0.041                0.435\n",
       "15 2021-05-01              0.033                0.468"
      ]
     },
     "execution_count": 6,
     "metadata": {},
     "output_type": "execute_result"
    }
   ],
   "source": [
    "df_infl"
   ]
  },
  {
   "cell_type": "code",
   "execution_count": 7,
   "id": "be94ebaf-9a22-4fe0-9740-9e60223d1bfc",
   "metadata": {},
   "outputs": [],
   "source": [
    "df['anio_mes_cupon'] = pd.DatetimeIndex(df['fecha_cupon_movimiento']).year * 100 + pd.DatetimeIndex(df['fecha_cupon_movimiento']).month"
   ]
  },
  {
   "cell_type": "code",
   "execution_count": 8,
   "id": "39baebfb-e621-4b8e-8b57-30ee7f5e72f4",
   "metadata": {},
   "outputs": [],
   "source": [
    "df_infl['anio_mes_infl'] = pd.DatetimeIndex(df_infl['mes']).year * 100 + pd.DatetimeIndex(df_infl['mes']).month"
   ]
  },
  {
   "cell_type": "code",
   "execution_count": 9,
   "id": "738e639c-70e3-4ba1-a317-ce32d4dbc067",
   "metadata": {},
   "outputs": [],
   "source": [
    "df = df.merge(df_infl[['anio_mes_infl', 'inflacion_acumulada']]\n",
    "         ,left_on='anio_mes_cupon'\n",
    "         ,right_on='anio_mes_infl'\n",
    "         ,how='inner').drop(columns=['anio_mes_infl'])\n",
    "df.loc[df.moneda_movimiento != 1,'monto_ajustado'] = \\\n",
    "                df[df.moneda_movimiento != 1]['monto_compra_movimiento'] / (1 + df['inflacion_acumulada'])"
   ]
  },
  {
   "cell_type": "markdown",
   "id": "21d59565-3387-45e3-addf-163b1f3c0d86",
   "metadata": {},
   "source": [
    "### Ajuste por Tipo de Cambio"
   ]
  },
  {
   "cell_type": "markdown",
   "id": "9d22b378-c795-410c-96dc-6086a9d72b3b",
   "metadata": {},
   "source": [
    "Fuente: https://www.bna.com.ar/ (Buscar historicos de cotizaciones)"
   ]
  },
  {
   "cell_type": "markdown",
   "id": "76fe6385-24e3-4991-8580-8da82cb496f4",
   "metadata": {},
   "source": [
    "Sabemos que no se pueden sumar movimientos en diferentes divisas. Por lo tanto, decidimos aplicar el tipo de cambio vendedor a los montos en dólares presentes en el dataset. Sabemos que Tarjeta Naranja aplica, para esta conversión, el tipo de cambio del dia del pago del resumen. Hicimos la suposición de que los clientes abonaron el resumen a su vencimiento, el día 10 (o el primer dia hábil siguiente) de cada mes.\n",
    "\n",
    "Es necesario aclarar que el cierre de la tarjeta se da los dias 24 de cada mes. Por lo tanto, los movimientos efectuados luego de esa fecha se abonan al mes subsiguiente."
   ]
  },
  {
   "cell_type": "code",
   "execution_count": 10,
   "id": "42f25b0b-f5de-425f-bdfc-8107b1ee36ec",
   "metadata": {},
   "outputs": [],
   "source": [
    "df_tdc = pd.read_csv('https://raw.githubusercontent.com/JIBarrionuevoGaltier/DiploDatos_2021_Mentoria_Grupo_2/main/notebooks_tp2/Tipos%20de%20cambio.csv',\n",
    "                     parse_dates=['fecha_cotizacion'], dayfirst=True, delimiter=';')"
   ]
  },
  {
   "cell_type": "code",
   "execution_count": 11,
   "id": "0abdd6b9-f6ee-43ca-95a7-fcf055471932",
   "metadata": {
    "tags": []
   },
   "outputs": [
    {
     "data": {
      "text/html": [
       "<div>\n",
       "<style scoped>\n",
       "    .dataframe tbody tr th:only-of-type {\n",
       "        vertical-align: middle;\n",
       "    }\n",
       "\n",
       "    .dataframe tbody tr th {\n",
       "        vertical-align: top;\n",
       "    }\n",
       "\n",
       "    .dataframe thead th {\n",
       "        text-align: right;\n",
       "    }\n",
       "</style>\n",
       "<table border=\"1\" class=\"dataframe\">\n",
       "  <thead>\n",
       "    <tr style=\"text-align: right;\">\n",
       "      <th></th>\n",
       "      <th>fecha_cotizacion</th>\n",
       "      <th>compra</th>\n",
       "      <th>venta</th>\n",
       "      <th>anio_mes</th>\n",
       "    </tr>\n",
       "  </thead>\n",
       "  <tbody>\n",
       "    <tr>\n",
       "      <th>0</th>\n",
       "      <td>2020-02-10</td>\n",
       "      <td>58.00</td>\n",
       "      <td>63.00</td>\n",
       "      <td>202002</td>\n",
       "    </tr>\n",
       "    <tr>\n",
       "      <th>1</th>\n",
       "      <td>2020-02-11</td>\n",
       "      <td>58.25</td>\n",
       "      <td>63.25</td>\n",
       "      <td>202002</td>\n",
       "    </tr>\n",
       "    <tr>\n",
       "      <th>2</th>\n",
       "      <td>2020-02-12</td>\n",
       "      <td>58.25</td>\n",
       "      <td>63.25</td>\n",
       "      <td>202002</td>\n",
       "    </tr>\n",
       "    <tr>\n",
       "      <th>3</th>\n",
       "      <td>2020-02-13</td>\n",
       "      <td>58.25</td>\n",
       "      <td>63.25</td>\n",
       "      <td>202002</td>\n",
       "    </tr>\n",
       "    <tr>\n",
       "      <th>4</th>\n",
       "      <td>2020-02-14</td>\n",
       "      <td>58.25</td>\n",
       "      <td>63.25</td>\n",
       "      <td>202002</td>\n",
       "    </tr>\n",
       "    <tr>\n",
       "      <th>5</th>\n",
       "      <td>2020-02-17</td>\n",
       "      <td>58.25</td>\n",
       "      <td>63.25</td>\n",
       "      <td>202002</td>\n",
       "    </tr>\n",
       "    <tr>\n",
       "      <th>6</th>\n",
       "      <td>2020-02-18</td>\n",
       "      <td>58.25</td>\n",
       "      <td>63.25</td>\n",
       "      <td>202002</td>\n",
       "    </tr>\n",
       "    <tr>\n",
       "      <th>7</th>\n",
       "      <td>2020-02-19</td>\n",
       "      <td>58.50</td>\n",
       "      <td>63.50</td>\n",
       "      <td>202002</td>\n",
       "    </tr>\n",
       "    <tr>\n",
       "      <th>8</th>\n",
       "      <td>2020-02-20</td>\n",
       "      <td>58.50</td>\n",
       "      <td>63.50</td>\n",
       "      <td>202002</td>\n",
       "    </tr>\n",
       "    <tr>\n",
       "      <th>9</th>\n",
       "      <td>2020-02-21</td>\n",
       "      <td>58.50</td>\n",
       "      <td>63.50</td>\n",
       "      <td>202002</td>\n",
       "    </tr>\n",
       "  </tbody>\n",
       "</table>\n",
       "</div>"
      ],
      "text/plain": [
       "  fecha_cotizacion  compra  venta  anio_mes\n",
       "0       2020-02-10   58.00  63.00    202002\n",
       "1       2020-02-11   58.25  63.25    202002\n",
       "2       2020-02-12   58.25  63.25    202002\n",
       "3       2020-02-13   58.25  63.25    202002\n",
       "4       2020-02-14   58.25  63.25    202002\n",
       "5       2020-02-17   58.25  63.25    202002\n",
       "6       2020-02-18   58.25  63.25    202002\n",
       "7       2020-02-19   58.50  63.50    202002\n",
       "8       2020-02-20   58.50  63.50    202002\n",
       "9       2020-02-21   58.50  63.50    202002"
      ]
     },
     "execution_count": 11,
     "metadata": {},
     "output_type": "execute_result"
    }
   ],
   "source": [
    "df_tdc = df_tdc.sort_values(by=['fecha_cotizacion']).reset_index(level=None).drop(columns=['index'])\n",
    "df_tdc['anio_mes'] = (df_tdc.fecha_cotizacion.dt.year * 100) + df_tdc.fecha_cotizacion.dt.month\n",
    "df_tdc.head(10)"
   ]
  },
  {
   "cell_type": "code",
   "execution_count": 12,
   "id": "b24fe9e4-d813-435f-b024-459817f5440a",
   "metadata": {},
   "outputs": [],
   "source": [
    "df_tdc['day'] = df_tdc.fecha_cotizacion.dt.day"
   ]
  },
  {
   "cell_type": "code",
   "execution_count": 13,
   "id": "50d92148-bfd2-4a63-845d-25bb4d1e02b6",
   "metadata": {},
   "outputs": [],
   "source": [
    "meses_cdiez = df_tdc[df_tdc['day'].isin([10])]['anio_mes'].unique()\n",
    "meses_sdiez = df_tdc[(~df_tdc['day'].isin([10])) & (~df_tdc['anio_mes'].isin(meses_cdiez))]['anio_mes'].unique()\n",
    "\n",
    "ind_fechas = []\n",
    "\n",
    "for i in meses_cdiez:\n",
    "    ind_fechas.append(min((df_tdc[(df_tdc['anio_mes'] == i) & (df_tdc['day'] == 10)]['fecha_cotizacion'].index)))\n",
    "for i in meses_sdiez:\n",
    "    ind_fechas.append(min((df_tdc[(df_tdc['anio_mes'] == i) & (df_tdc['day'] > 10)]['fecha_cotizacion'].index)))"
   ]
  },
  {
   "cell_type": "code",
   "execution_count": 14,
   "id": "8f207e5a-664b-4b62-9e75-6f26642ee57e",
   "metadata": {},
   "outputs": [
    {
     "data": {
      "text/html": [
       "<div>\n",
       "<style scoped>\n",
       "    .dataframe tbody tr th:only-of-type {\n",
       "        vertical-align: middle;\n",
       "    }\n",
       "\n",
       "    .dataframe tbody tr th {\n",
       "        vertical-align: top;\n",
       "    }\n",
       "\n",
       "    .dataframe thead th {\n",
       "        text-align: right;\n",
       "    }\n",
       "</style>\n",
       "<table border=\"1\" class=\"dataframe\">\n",
       "  <thead>\n",
       "    <tr style=\"text-align: right;\">\n",
       "      <th></th>\n",
       "      <th>fecha_cotizacion</th>\n",
       "      <th>compra</th>\n",
       "      <th>venta</th>\n",
       "      <th>anio_mes</th>\n",
       "      <th>day</th>\n",
       "    </tr>\n",
       "  </thead>\n",
       "  <tbody>\n",
       "    <tr>\n",
       "      <th>0</th>\n",
       "      <td>2020-02-10</td>\n",
       "      <td>58.00</td>\n",
       "      <td>63.00</td>\n",
       "      <td>202002</td>\n",
       "      <td>10</td>\n",
       "    </tr>\n",
       "    <tr>\n",
       "      <th>1</th>\n",
       "      <td>2020-03-10</td>\n",
       "      <td>59.00</td>\n",
       "      <td>64.00</td>\n",
       "      <td>202003</td>\n",
       "      <td>10</td>\n",
       "    </tr>\n",
       "    <tr>\n",
       "      <th>2</th>\n",
       "      <td>2020-04-13</td>\n",
       "      <td>61.75</td>\n",
       "      <td>66.75</td>\n",
       "      <td>202004</td>\n",
       "      <td>13</td>\n",
       "    </tr>\n",
       "    <tr>\n",
       "      <th>3</th>\n",
       "      <td>2020-05-11</td>\n",
       "      <td>64.25</td>\n",
       "      <td>69.25</td>\n",
       "      <td>202005</td>\n",
       "      <td>11</td>\n",
       "    </tr>\n",
       "    <tr>\n",
       "      <th>4</th>\n",
       "      <td>2020-06-10</td>\n",
       "      <td>66.50</td>\n",
       "      <td>71.50</td>\n",
       "      <td>202006</td>\n",
       "      <td>10</td>\n",
       "    </tr>\n",
       "    <tr>\n",
       "      <th>5</th>\n",
       "      <td>2020-07-13</td>\n",
       "      <td>69.50</td>\n",
       "      <td>74.50</td>\n",
       "      <td>202007</td>\n",
       "      <td>13</td>\n",
       "    </tr>\n",
       "    <tr>\n",
       "      <th>6</th>\n",
       "      <td>2020-08-10</td>\n",
       "      <td>72.00</td>\n",
       "      <td>77.00</td>\n",
       "      <td>202008</td>\n",
       "      <td>10</td>\n",
       "    </tr>\n",
       "    <tr>\n",
       "      <th>7</th>\n",
       "      <td>2020-09-10</td>\n",
       "      <td>74.00</td>\n",
       "      <td>79.00</td>\n",
       "      <td>202009</td>\n",
       "      <td>10</td>\n",
       "    </tr>\n",
       "    <tr>\n",
       "      <th>8</th>\n",
       "      <td>2020-10-13</td>\n",
       "      <td>76.25</td>\n",
       "      <td>82.25</td>\n",
       "      <td>202010</td>\n",
       "      <td>13</td>\n",
       "    </tr>\n",
       "    <tr>\n",
       "      <th>9</th>\n",
       "      <td>2020-11-10</td>\n",
       "      <td>78.75</td>\n",
       "      <td>84.75</td>\n",
       "      <td>202011</td>\n",
       "      <td>10</td>\n",
       "    </tr>\n",
       "    <tr>\n",
       "      <th>10</th>\n",
       "      <td>2020-12-10</td>\n",
       "      <td>81.50</td>\n",
       "      <td>87.50</td>\n",
       "      <td>202012</td>\n",
       "      <td>10</td>\n",
       "    </tr>\n",
       "    <tr>\n",
       "      <th>11</th>\n",
       "      <td>2021-01-11</td>\n",
       "      <td>84.25</td>\n",
       "      <td>90.25</td>\n",
       "      <td>202101</td>\n",
       "      <td>11</td>\n",
       "    </tr>\n",
       "    <tr>\n",
       "      <th>12</th>\n",
       "      <td>2021-02-10</td>\n",
       "      <td>87.25</td>\n",
       "      <td>93.25</td>\n",
       "      <td>202102</td>\n",
       "      <td>10</td>\n",
       "    </tr>\n",
       "    <tr>\n",
       "      <th>13</th>\n",
       "      <td>2021-03-10</td>\n",
       "      <td>89.50</td>\n",
       "      <td>95.50</td>\n",
       "      <td>202103</td>\n",
       "      <td>10</td>\n",
       "    </tr>\n",
       "    <tr>\n",
       "      <th>14</th>\n",
       "      <td>2021-04-12</td>\n",
       "      <td>92.00</td>\n",
       "      <td>98.00</td>\n",
       "      <td>202104</td>\n",
       "      <td>12</td>\n",
       "    </tr>\n",
       "    <tr>\n",
       "      <th>15</th>\n",
       "      <td>2021-05-10</td>\n",
       "      <td>93.00</td>\n",
       "      <td>99.00</td>\n",
       "      <td>202105</td>\n",
       "      <td>10</td>\n",
       "    </tr>\n",
       "    <tr>\n",
       "      <th>16</th>\n",
       "      <td>2021-06-10</td>\n",
       "      <td>94.00</td>\n",
       "      <td>100.00</td>\n",
       "      <td>202106</td>\n",
       "      <td>10</td>\n",
       "    </tr>\n",
       "  </tbody>\n",
       "</table>\n",
       "</div>"
      ],
      "text/plain": [
       "   fecha_cotizacion  compra   venta  anio_mes  day\n",
       "0        2020-02-10   58.00   63.00    202002   10\n",
       "1        2020-03-10   59.00   64.00    202003   10\n",
       "2        2020-04-13   61.75   66.75    202004   13\n",
       "3        2020-05-11   64.25   69.25    202005   11\n",
       "4        2020-06-10   66.50   71.50    202006   10\n",
       "5        2020-07-13   69.50   74.50    202007   13\n",
       "6        2020-08-10   72.00   77.00    202008   10\n",
       "7        2020-09-10   74.00   79.00    202009   10\n",
       "8        2020-10-13   76.25   82.25    202010   13\n",
       "9        2020-11-10   78.75   84.75    202011   10\n",
       "10       2020-12-10   81.50   87.50    202012   10\n",
       "11       2021-01-11   84.25   90.25    202101   11\n",
       "12       2021-02-10   87.25   93.25    202102   10\n",
       "13       2021-03-10   89.50   95.50    202103   10\n",
       "14       2021-04-12   92.00   98.00    202104   12\n",
       "15       2021-05-10   93.00   99.00    202105   10\n",
       "16       2021-06-10   94.00  100.00    202106   10"
      ]
     },
     "execution_count": 14,
     "metadata": {},
     "output_type": "execute_result"
    }
   ],
   "source": [
    "df_tdc_cot = df_tdc.iloc[ind_fechas,:].sort_values(by=['fecha_cotizacion']).reset_index(level=None).drop(columns=['index'])\n",
    "df_tdc_cot"
   ]
  },
  {
   "cell_type": "code",
   "execution_count": 15,
   "id": "0f8d2350-157b-49d4-9eb9-e1ac24b29355",
   "metadata": {},
   "outputs": [],
   "source": [
    "df.fecha_cupon_movimiento = pd.to_datetime(df.fecha_cupon_movimiento)"
   ]
  },
  {
   "cell_type": "code",
   "execution_count": 16,
   "id": "0526561e-5153-45fb-9959-61ff5847e5d8",
   "metadata": {},
   "outputs": [],
   "source": [
    "def func_var(row):\n",
    "    if row.fecha_cupon_movimiento.day > 24:\n",
    "        if row.fecha_cupon_movimiento.month == 12:\n",
    "            return 202101\n",
    "        else:\n",
    "            return row['anio_mes_cupon'] + 1\n",
    "    else:\n",
    "        return row['anio_mes_cupon']"
   ]
  },
  {
   "cell_type": "code",
   "execution_count": 17,
   "id": "5bfb83b0-16fc-4632-955f-7cbcc06fc204",
   "metadata": {},
   "outputs": [],
   "source": [
    "df.loc[df.moneda_movimiento == 1,'anio_mes_cupon'] = df[df.moneda_movimiento == 1].apply(func_var, axis=1)"
   ]
  },
  {
   "cell_type": "code",
   "execution_count": 18,
   "id": "91f24b62-3c24-48b6-878f-e6623c27657b",
   "metadata": {},
   "outputs": [
    {
     "data": {
      "text/html": [
       "<div>\n",
       "<style scoped>\n",
       "    .dataframe tbody tr th:only-of-type {\n",
       "        vertical-align: middle;\n",
       "    }\n",
       "\n",
       "    .dataframe tbody tr th {\n",
       "        vertical-align: top;\n",
       "    }\n",
       "\n",
       "    .dataframe thead th {\n",
       "        text-align: right;\n",
       "    }\n",
       "</style>\n",
       "<table border=\"1\" class=\"dataframe\">\n",
       "  <thead>\n",
       "    <tr style=\"text-align: right;\">\n",
       "      <th></th>\n",
       "      <th>fecha_cupon_movimiento</th>\n",
       "      <th>anio_mes_cupon</th>\n",
       "    </tr>\n",
       "  </thead>\n",
       "  <tbody>\n",
       "    <tr>\n",
       "      <th>3111</th>\n",
       "      <td>2020-08-02</td>\n",
       "      <td>202008</td>\n",
       "    </tr>\n",
       "    <tr>\n",
       "      <th>3120</th>\n",
       "      <td>2020-08-02</td>\n",
       "      <td>202008</td>\n",
       "    </tr>\n",
       "    <tr>\n",
       "      <th>3130</th>\n",
       "      <td>2020-08-02</td>\n",
       "      <td>202008</td>\n",
       "    </tr>\n",
       "    <tr>\n",
       "      <th>3196</th>\n",
       "      <td>2020-08-02</td>\n",
       "      <td>202008</td>\n",
       "    </tr>\n",
       "    <tr>\n",
       "      <th>3465</th>\n",
       "      <td>2020-08-07</td>\n",
       "      <td>202008</td>\n",
       "    </tr>\n",
       "  </tbody>\n",
       "</table>\n",
       "</div>"
      ],
      "text/plain": [
       "     fecha_cupon_movimiento  anio_mes_cupon\n",
       "3111             2020-08-02          202008\n",
       "3120             2020-08-02          202008\n",
       "3130             2020-08-02          202008\n",
       "3196             2020-08-02          202008\n",
       "3465             2020-08-07          202008"
      ]
     },
     "execution_count": 18,
     "metadata": {},
     "output_type": "execute_result"
    }
   ],
   "source": [
    "df[df.moneda_movimiento == 1][['fecha_cupon_movimiento','anio_mes_cupon']].head(5)"
   ]
  },
  {
   "cell_type": "code",
   "execution_count": 19,
   "id": "f5bc0b05-75ea-4420-aca5-f522effcb8a0",
   "metadata": {},
   "outputs": [
    {
     "data": {
      "text/html": [
       "<div>\n",
       "<style scoped>\n",
       "    .dataframe tbody tr th:only-of-type {\n",
       "        vertical-align: middle;\n",
       "    }\n",
       "\n",
       "    .dataframe tbody tr th {\n",
       "        vertical-align: top;\n",
       "    }\n",
       "\n",
       "    .dataframe thead th {\n",
       "        text-align: right;\n",
       "    }\n",
       "</style>\n",
       "<table border=\"1\" class=\"dataframe\">\n",
       "  <thead>\n",
       "    <tr style=\"text-align: right;\">\n",
       "      <th></th>\n",
       "      <th>fecha_cupon_movimiento</th>\n",
       "      <th>anio_mes_cupon</th>\n",
       "    </tr>\n",
       "  </thead>\n",
       "  <tbody>\n",
       "    <tr>\n",
       "      <th>1801620</th>\n",
       "      <td>2020-12-25</td>\n",
       "      <td>202101</td>\n",
       "    </tr>\n",
       "    <tr>\n",
       "      <th>1801621</th>\n",
       "      <td>2020-12-27</td>\n",
       "      <td>202101</td>\n",
       "    </tr>\n",
       "    <tr>\n",
       "      <th>1801627</th>\n",
       "      <td>2020-12-27</td>\n",
       "      <td>202101</td>\n",
       "    </tr>\n",
       "    <tr>\n",
       "      <th>1801636</th>\n",
       "      <td>2020-12-31</td>\n",
       "      <td>202101</td>\n",
       "    </tr>\n",
       "    <tr>\n",
       "      <th>1801649</th>\n",
       "      <td>2020-12-27</td>\n",
       "      <td>202101</td>\n",
       "    </tr>\n",
       "  </tbody>\n",
       "</table>\n",
       "</div>"
      ],
      "text/plain": [
       "        fecha_cupon_movimiento  anio_mes_cupon\n",
       "1801620             2020-12-25          202101\n",
       "1801621             2020-12-27          202101\n",
       "1801627             2020-12-27          202101\n",
       "1801636             2020-12-31          202101\n",
       "1801649             2020-12-27          202101"
      ]
     },
     "execution_count": 19,
     "metadata": {},
     "output_type": "execute_result"
    }
   ],
   "source": [
    "df[(df.moneda_movimiento == 1) & (df.fecha_cupon_movimiento.dt.day >= 25)  & (df.fecha_cupon_movimiento.dt.month >= 12)][['fecha_cupon_movimiento','anio_mes_cupon']].head(5)"
   ]
  },
  {
   "cell_type": "code",
   "execution_count": 20,
   "id": "340ef422-935b-40cf-8142-d043ebe0b14f",
   "metadata": {},
   "outputs": [
    {
     "data": {
      "text/plain": [
       "array([202008, 202009, 202010, 202011, 202012, 202101, 202102, 202103,\n",
       "       202104, 202007, 202105, 202106, 202006, 202004, 202005, 202002])"
      ]
     },
     "execution_count": 20,
     "metadata": {},
     "output_type": "execute_result"
    }
   ],
   "source": [
    "df.anio_mes_cupon.unique()"
   ]
  },
  {
   "cell_type": "code",
   "execution_count": 21,
   "id": "fc70cfde-a75d-4bc9-b890-276cc157ce93",
   "metadata": {},
   "outputs": [],
   "source": [
    "df = df.merge(df_tdc_cot[['anio_mes', 'venta']]\n",
    "                 ,left_on='anio_mes_cupon'\n",
    "                 ,right_on='anio_mes'\n",
    "                 ,how='inner').drop(columns=['anio_mes'])"
   ]
  },
  {
   "cell_type": "code",
   "execution_count": 22,
   "id": "b7a73e6a-9170-4b93-990c-e190ef070818",
   "metadata": {},
   "outputs": [],
   "source": [
    "df.loc[df.moneda_movimiento == 1,'monto_ajustado'] = \\\n",
    "                df[df.moneda_movimiento == 1]['monto_compra_movimiento'] * df['venta']"
   ]
  },
  {
   "cell_type": "code",
   "execution_count": 23,
   "id": "4da990e4-ab8f-450c-a786-df28d73503d5",
   "metadata": {},
   "outputs": [
    {
     "data": {
      "text/html": [
       "<div>\n",
       "<style scoped>\n",
       "    .dataframe tbody tr th:only-of-type {\n",
       "        vertical-align: middle;\n",
       "    }\n",
       "\n",
       "    .dataframe tbody tr th {\n",
       "        vertical-align: top;\n",
       "    }\n",
       "\n",
       "    .dataframe thead th {\n",
       "        text-align: right;\n",
       "    }\n",
       "</style>\n",
       "<table border=\"1\" class=\"dataframe\">\n",
       "  <thead>\n",
       "    <tr style=\"text-align: right;\">\n",
       "      <th></th>\n",
       "      <th>monto_compra_movimiento</th>\n",
       "      <th>monto_ajustado</th>\n",
       "    </tr>\n",
       "  </thead>\n",
       "  <tbody>\n",
       "    <tr>\n",
       "      <th>3111</th>\n",
       "      <td>-3.50</td>\n",
       "      <td>-269.50</td>\n",
       "    </tr>\n",
       "    <tr>\n",
       "      <th>3120</th>\n",
       "      <td>-33.00</td>\n",
       "      <td>-2541.00</td>\n",
       "    </tr>\n",
       "    <tr>\n",
       "      <th>3130</th>\n",
       "      <td>-34.08</td>\n",
       "      <td>-2624.16</td>\n",
       "    </tr>\n",
       "    <tr>\n",
       "      <th>3196</th>\n",
       "      <td>-200.23</td>\n",
       "      <td>-15417.71</td>\n",
       "    </tr>\n",
       "    <tr>\n",
       "      <th>3465</th>\n",
       "      <td>0.16</td>\n",
       "      <td>12.32</td>\n",
       "    </tr>\n",
       "    <tr>\n",
       "      <th>...</th>\n",
       "      <td>...</td>\n",
       "      <td>...</td>\n",
       "    </tr>\n",
       "    <tr>\n",
       "      <th>4091520</th>\n",
       "      <td>-0.09</td>\n",
       "      <td>-9.00</td>\n",
       "    </tr>\n",
       "    <tr>\n",
       "      <th>4091521</th>\n",
       "      <td>-0.09</td>\n",
       "      <td>-9.00</td>\n",
       "    </tr>\n",
       "    <tr>\n",
       "      <th>4091522</th>\n",
       "      <td>-0.09</td>\n",
       "      <td>-9.00</td>\n",
       "    </tr>\n",
       "    <tr>\n",
       "      <th>4091523</th>\n",
       "      <td>-0.09</td>\n",
       "      <td>-9.00</td>\n",
       "    </tr>\n",
       "    <tr>\n",
       "      <th>4091524</th>\n",
       "      <td>-0.09</td>\n",
       "      <td>-9.00</td>\n",
       "    </tr>\n",
       "  </tbody>\n",
       "</table>\n",
       "<p>75051 rows × 2 columns</p>\n",
       "</div>"
      ],
      "text/plain": [
       "         monto_compra_movimiento  monto_ajustado\n",
       "3111                       -3.50         -269.50\n",
       "3120                      -33.00        -2541.00\n",
       "3130                      -34.08        -2624.16\n",
       "3196                     -200.23       -15417.71\n",
       "3465                        0.16           12.32\n",
       "...                          ...             ...\n",
       "4091520                    -0.09           -9.00\n",
       "4091521                    -0.09           -9.00\n",
       "4091522                    -0.09           -9.00\n",
       "4091523                    -0.09           -9.00\n",
       "4091524                    -0.09           -9.00\n",
       "\n",
       "[75051 rows x 2 columns]"
      ]
     },
     "execution_count": 23,
     "metadata": {},
     "output_type": "execute_result"
    }
   ],
   "source": [
    "df[df.moneda_movimiento == 1][['monto_compra_movimiento','monto_ajustado']]"
   ]
  },
  {
   "cell_type": "code",
   "execution_count": 24,
   "id": "15a7083c-f609-49a9-a6aa-b6c6d6b97200",
   "metadata": {},
   "outputs": [],
   "source": [
    "# Se descartan las columnas usadas para los calculos\n",
    "df = df.drop(columns=['anio_mes_cupon','inflacion_acumulada','venta']) "
   ]
  },
  {
   "cell_type": "code",
   "execution_count": 25,
   "id": "2364b9cd-46d1-4205-a129-acfc613fb43e",
   "metadata": {},
   "outputs": [],
   "source": [
    "df['monto_ajustado'] = df['monto_ajustado'].round(2)"
   ]
  },
  {
   "cell_type": "code",
   "execution_count": 26,
   "id": "ce8bec95-9f86-4dca-969b-7a3c20620af6",
   "metadata": {},
   "outputs": [
    {
     "data": {
      "text/html": [
       "<div>\n",
       "<style scoped>\n",
       "    .dataframe tbody tr th:only-of-type {\n",
       "        vertical-align: middle;\n",
       "    }\n",
       "\n",
       "    .dataframe tbody tr th {\n",
       "        vertical-align: top;\n",
       "    }\n",
       "\n",
       "    .dataframe thead th {\n",
       "        text-align: right;\n",
       "    }\n",
       "</style>\n",
       "<table border=\"1\" class=\"dataframe\">\n",
       "  <thead>\n",
       "    <tr style=\"text-align: right;\">\n",
       "      <th></th>\n",
       "      <th>monto_compra_movimiento</th>\n",
       "      <th>monto_ajustado</th>\n",
       "    </tr>\n",
       "  </thead>\n",
       "  <tbody>\n",
       "    <tr>\n",
       "      <th>count</th>\n",
       "      <td>4017026.00</td>\n",
       "      <td>4017026.00</td>\n",
       "    </tr>\n",
       "    <tr>\n",
       "      <th>mean</th>\n",
       "      <td>1996.50</td>\n",
       "      <td>1561.21</td>\n",
       "    </tr>\n",
       "    <tr>\n",
       "      <th>std</th>\n",
       "      <td>5862.34</td>\n",
       "      <td>4565.67</td>\n",
       "    </tr>\n",
       "    <tr>\n",
       "      <th>min</th>\n",
       "      <td>-147263.64</td>\n",
       "      <td>-123027.27</td>\n",
       "    </tr>\n",
       "    <tr>\n",
       "      <th>25%</th>\n",
       "      <td>75.02</td>\n",
       "      <td>58.98</td>\n",
       "    </tr>\n",
       "    <tr>\n",
       "      <th>50%</th>\n",
       "      <td>301.29</td>\n",
       "      <td>251.70</td>\n",
       "    </tr>\n",
       "    <tr>\n",
       "      <th>75%</th>\n",
       "      <td>1500.00</td>\n",
       "      <td>1183.64</td>\n",
       "    </tr>\n",
       "    <tr>\n",
       "      <th>max</th>\n",
       "      <td>220540.01</td>\n",
       "      <td>160281.96</td>\n",
       "    </tr>\n",
       "  </tbody>\n",
       "</table>\n",
       "</div>"
      ],
      "text/plain": [
       "       monto_compra_movimiento  monto_ajustado\n",
       "count               4017026.00      4017026.00\n",
       "mean                   1996.50         1561.21\n",
       "std                    5862.34         4565.67\n",
       "min                 -147263.64      -123027.27\n",
       "25%                      75.02           58.98\n",
       "50%                     301.29          251.70\n",
       "75%                    1500.00         1183.64\n",
       "max                  220540.01       160281.96"
      ]
     },
     "execution_count": 26,
     "metadata": {},
     "output_type": "execute_result"
    }
   ],
   "source": [
    "# Montos ajustados en pesos\n",
    "df.loc[df['moneda_movimiento'] != 1, ['monto_compra_movimiento','monto_ajustado']].describe().round(2)"
   ]
  },
  {
   "cell_type": "code",
   "execution_count": 27,
   "id": "ebbee95b-189b-46a4-b398-38377c0e6cd1",
   "metadata": {},
   "outputs": [
    {
     "data": {
      "text/html": [
       "<div>\n",
       "<style scoped>\n",
       "    .dataframe tbody tr th:only-of-type {\n",
       "        vertical-align: middle;\n",
       "    }\n",
       "\n",
       "    .dataframe tbody tr th {\n",
       "        vertical-align: top;\n",
       "    }\n",
       "\n",
       "    .dataframe thead th {\n",
       "        text-align: right;\n",
       "    }\n",
       "</style>\n",
       "<table border=\"1\" class=\"dataframe\">\n",
       "  <thead>\n",
       "    <tr style=\"text-align: right;\">\n",
       "      <th></th>\n",
       "      <th>monto_compra_movimiento</th>\n",
       "      <th>monto_ajustado</th>\n",
       "    </tr>\n",
       "  </thead>\n",
       "  <tbody>\n",
       "    <tr>\n",
       "      <th>count</th>\n",
       "      <td>75051.00</td>\n",
       "      <td>75051.00</td>\n",
       "    </tr>\n",
       "    <tr>\n",
       "      <th>mean</th>\n",
       "      <td>3.03</td>\n",
       "      <td>251.74</td>\n",
       "    </tr>\n",
       "    <tr>\n",
       "      <th>std</th>\n",
       "      <td>25.52</td>\n",
       "      <td>2236.15</td>\n",
       "    </tr>\n",
       "    <tr>\n",
       "      <th>min</th>\n",
       "      <td>-200.23</td>\n",
       "      <td>-19822.77</td>\n",
       "    </tr>\n",
       "    <tr>\n",
       "      <th>25%</th>\n",
       "      <td>1.10</td>\n",
       "      <td>95.41</td>\n",
       "    </tr>\n",
       "    <tr>\n",
       "      <th>50%</th>\n",
       "      <td>2.71</td>\n",
       "      <td>234.63</td>\n",
       "    </tr>\n",
       "    <tr>\n",
       "      <th>75%</th>\n",
       "      <td>5.14</td>\n",
       "      <td>438.13</td>\n",
       "    </tr>\n",
       "    <tr>\n",
       "      <th>max</th>\n",
       "      <td>325.35</td>\n",
       "      <td>25702.65</td>\n",
       "    </tr>\n",
       "  </tbody>\n",
       "</table>\n",
       "</div>"
      ],
      "text/plain": [
       "       monto_compra_movimiento  monto_ajustado\n",
       "count                 75051.00        75051.00\n",
       "mean                      3.03          251.74\n",
       "std                      25.52         2236.15\n",
       "min                    -200.23       -19822.77\n",
       "25%                       1.10           95.41\n",
       "50%                       2.71          234.63\n",
       "75%                       5.14          438.13\n",
       "max                     325.35        25702.65"
      ]
     },
     "execution_count": 27,
     "metadata": {},
     "output_type": "execute_result"
    }
   ],
   "source": [
    "# Montos ajustados en dolares\n",
    "df.loc[df['moneda_movimiento'] == 1, ['monto_compra_movimiento','monto_ajustado']].describe().round(2)"
   ]
  },
  {
   "cell_type": "markdown",
   "id": "6b622450-4c1e-4d8e-96a1-6c5cf3c5be33",
   "metadata": {},
   "source": [
    "------"
   ]
  },
  {
   "cell_type": "markdown",
   "id": "2e2ca0ce-7310-48c5-a6be-5feafe495604",
   "metadata": {},
   "source": [
    "## 1 Curación"
   ]
  },
  {
   "cell_type": "markdown",
   "id": "0512368b",
   "metadata": {},
   "source": [
    "### 1.1. Asegurar IDs únicos"
   ]
  },
  {
   "cell_type": "code",
   "execution_count": 28,
   "id": "e2ba1476-e2c5-46bd-b29c-d169018dad6d",
   "metadata": {},
   "outputs": [
    {
     "data": {
      "text/plain": [
       "958705120    464301\n",
       "20099902     415104\n",
       "20089993     359283\n",
       "20099745     239775\n",
       "20099760     194994\n",
       "              ...  \n",
       "840017948        15\n",
       "115052555        15\n",
       "380028770        15\n",
       "20101264         14\n",
       "64194852          5\n",
       "Name: id_comercio_movimiento, Length: 3833, dtype: int64"
      ]
     },
     "execution_count": 28,
     "metadata": {},
     "output_type": "execute_result"
    }
   ],
   "source": [
    "df['id_comercio_movimiento'].value_counts() # 3833 valores unicos para id_comercio"
   ]
  },
  {
   "cell_type": "code",
   "execution_count": 29,
   "id": "353a59bc-f8bd-4e44-8fdf-0e6ae595d655",
   "metadata": {},
   "outputs": [
    {
     "data": {
      "text/html": [
       "<div>\n",
       "<style scoped>\n",
       "    .dataframe tbody tr th:only-of-type {\n",
       "        vertical-align: middle;\n",
       "    }\n",
       "\n",
       "    .dataframe tbody tr th {\n",
       "        vertical-align: top;\n",
       "    }\n",
       "\n",
       "    .dataframe thead th {\n",
       "        text-align: right;\n",
       "    }\n",
       "</style>\n",
       "<table border=\"1\" class=\"dataframe\">\n",
       "  <thead>\n",
       "    <tr style=\"text-align: right;\">\n",
       "      <th></th>\n",
       "      <th>id_comercio_movimiento</th>\n",
       "      <th>nombre_comercio_histo</th>\n",
       "    </tr>\n",
       "  </thead>\n",
       "  <tbody>\n",
       "    <tr>\n",
       "      <th>2527</th>\n",
       "      <td>10099033</td>\n",
       "      <td>TARJETA NARANJA SUBTE</td>\n",
       "    </tr>\n",
       "    <tr>\n",
       "      <th>10055</th>\n",
       "      <td>10099033</td>\n",
       "      <td>TARJETA NARANJA SUBTE</td>\n",
       "    </tr>\n",
       "  </tbody>\n",
       "</table>\n",
       "</div>"
      ],
      "text/plain": [
       "       id_comercio_movimiento                     nombre_comercio_histo\n",
       "2527                 10099033  TARJETA NARANJA SUBTE                   \n",
       "10055                10099033                     TARJETA NARANJA SUBTE"
      ]
     },
     "execution_count": 29,
     "metadata": {},
     "output_type": "execute_result"
    }
   ],
   "source": [
    "# Aca deberia haber 2 'TARJETA NARANJA SUBTE'\n",
    "\n",
    "df[df['nombre_comercio_histo'].str.contains('TARJETA NARANJA SUBTE')] \\\n",
    "                                        [['id_comercio_movimiento','nombre_comercio_histo']] \\\n",
    "                                        .drop_duplicates()"
   ]
  },
  {
   "cell_type": "code",
   "execution_count": 30,
   "id": "eb9ae61a-4d91-4b55-8758-95494e9b7b06",
   "metadata": {},
   "outputs": [],
   "source": [
    "# Reagrupar los comercios que tienen mas de un nombre y concatenar todos sus nombres\n",
    "df.nombre_comercio_histo = df.nombre_comercio_histo.str.strip()\n",
    "\n",
    "df_unicos = (\n",
    "    df[[\"id_comercio_movimiento\", \"nombre_comercio_histo\"]].drop_duplicates()\\\n",
    "        .groupby(\"id_comercio_movimiento\").agg({\"nombre_comercio_histo\": 'sum'})\n",
    ").reset_index()"
   ]
  },
  {
   "cell_type": "code",
   "execution_count": 31,
   "id": "e2e31ed5-73e2-4a43-9f68-d74c5769cfe0",
   "metadata": {},
   "outputs": [
    {
     "data": {
      "text/html": [
       "<div>\n",
       "<style scoped>\n",
       "    .dataframe tbody tr th:only-of-type {\n",
       "        vertical-align: middle;\n",
       "    }\n",
       "\n",
       "    .dataframe tbody tr th {\n",
       "        vertical-align: top;\n",
       "    }\n",
       "\n",
       "    .dataframe thead th {\n",
       "        text-align: right;\n",
       "    }\n",
       "</style>\n",
       "<table border=\"1\" class=\"dataframe\">\n",
       "  <thead>\n",
       "    <tr style=\"text-align: right;\">\n",
       "      <th></th>\n",
       "      <th>id_comercio_movimiento</th>\n",
       "      <th>nombre_comercio_concat</th>\n",
       "    </tr>\n",
       "  </thead>\n",
       "  <tbody>\n",
       "    <tr>\n",
       "      <th>0</th>\n",
       "      <td>10099033</td>\n",
       "      <td>TARJETA NARANJA SUBTE</td>\n",
       "    </tr>\n",
       "    <tr>\n",
       "      <th>1</th>\n",
       "      <td>10099058</td>\n",
       "      <td>TARJETA NARANJA SUCRE</td>\n",
       "    </tr>\n",
       "    <tr>\n",
       "      <th>2</th>\n",
       "      <td>10099814</td>\n",
       "      <td>TARJETA NARANJA SAN VICENTE</td>\n",
       "    </tr>\n",
       "    <tr>\n",
       "      <th>3</th>\n",
       "      <td>20080001</td>\n",
       "      <td>PAGO ANULADO POR VERIFICACION</td>\n",
       "    </tr>\n",
       "    <tr>\n",
       "      <th>4</th>\n",
       "      <td>20089993</td>\n",
       "      <td>IMPUESTO SELLOS</td>\n",
       "    </tr>\n",
       "    <tr>\n",
       "      <th>...</th>\n",
       "      <td>...</td>\n",
       "      <td>...</td>\n",
       "    </tr>\n",
       "    <tr>\n",
       "      <th>3828</th>\n",
       "      <td>991085968</td>\n",
       "      <td>PUERTO TERNURAS</td>\n",
       "    </tr>\n",
       "    <tr>\n",
       "      <th>3829</th>\n",
       "      <td>991097830</td>\n",
       "      <td>PEQUE&amp;OS SUE&amp;OS</td>\n",
       "    </tr>\n",
       "    <tr>\n",
       "      <th>3830</th>\n",
       "      <td>991108260</td>\n",
       "      <td>DISCO SM 156</td>\n",
       "    </tr>\n",
       "    <tr>\n",
       "      <th>3831</th>\n",
       "      <td>991108624</td>\n",
       "      <td>JUMBO MOR�N</td>\n",
       "    </tr>\n",
       "    <tr>\n",
       "      <th>3832</th>\n",
       "      <td>991108904</td>\n",
       "      <td>PUNTO DEPORTIVO</td>\n",
       "    </tr>\n",
       "  </tbody>\n",
       "</table>\n",
       "<p>3833 rows × 2 columns</p>\n",
       "</div>"
      ],
      "text/plain": [
       "      id_comercio_movimiento         nombre_comercio_concat\n",
       "0                   10099033          TARJETA NARANJA SUBTE\n",
       "1                   10099058          TARJETA NARANJA SUCRE\n",
       "2                   10099814    TARJETA NARANJA SAN VICENTE\n",
       "3                   20080001  PAGO ANULADO POR VERIFICACION\n",
       "4                   20089993                IMPUESTO SELLOS\n",
       "...                      ...                            ...\n",
       "3828               991085968                PUERTO TERNURAS\n",
       "3829               991097830                PEQUE&OS SUE&OS\n",
       "3830               991108260                   DISCO SM 156\n",
       "3831               991108624                    JUMBO MOR�N\n",
       "3832               991108904                PUNTO DEPORTIVO\n",
       "\n",
       "[3833 rows x 2 columns]"
      ]
     },
     "execution_count": 31,
     "metadata": {},
     "output_type": "execute_result"
    }
   ],
   "source": [
    "df_unicos = df_unicos.rename(columns={'nombre_comercio_histo':'nombre_comercio_concat'})\n",
    "df_unicos"
   ]
  },
  {
   "cell_type": "markdown",
   "id": "6ef2c2ea-2323-4352-8098-d5b0de1199f7",
   "metadata": {},
   "source": [
    "Reagrupamos los comercios que tienen mas de un nombre y concatenamos todos sus nombres en una nueva columna **nombre_comercio_concat**"
   ]
  },
  {
   "cell_type": "code",
   "execution_count": 32,
   "id": "64125534-560c-44fe-8627-364b425b1b13",
   "metadata": {},
   "outputs": [],
   "source": [
    "# Unimos con dataframe original agregando la columna nueva con relacion 1:1 con el id\n",
    "df = df.merge(df_unicos, on='id_comercio_movimiento', how='inner')"
   ]
  },
  {
   "cell_type": "code",
   "execution_count": 33,
   "id": "4513e802-76b2-4744-82fa-1cc63b529388",
   "metadata": {},
   "outputs": [
    {
     "data": {
      "text/html": [
       "<div>\n",
       "<style scoped>\n",
       "    .dataframe tbody tr th:only-of-type {\n",
       "        vertical-align: middle;\n",
       "    }\n",
       "\n",
       "    .dataframe tbody tr th {\n",
       "        vertical-align: top;\n",
       "    }\n",
       "\n",
       "    .dataframe thead th {\n",
       "        text-align: right;\n",
       "    }\n",
       "</style>\n",
       "<table border=\"1\" class=\"dataframe\">\n",
       "  <thead>\n",
       "    <tr style=\"text-align: right;\">\n",
       "      <th></th>\n",
       "      <th>nombre_comercio_concat</th>\n",
       "    </tr>\n",
       "    <tr>\n",
       "      <th>id_comercio_movimiento</th>\n",
       "      <th></th>\n",
       "    </tr>\n",
       "  </thead>\n",
       "  <tbody>\n",
       "    <tr>\n",
       "      <th>10099033</th>\n",
       "      <td>1</td>\n",
       "    </tr>\n",
       "    <tr>\n",
       "      <th>10099058</th>\n",
       "      <td>1</td>\n",
       "    </tr>\n",
       "    <tr>\n",
       "      <th>10099814</th>\n",
       "      <td>1</td>\n",
       "    </tr>\n",
       "    <tr>\n",
       "      <th>20080001</th>\n",
       "      <td>1</td>\n",
       "    </tr>\n",
       "    <tr>\n",
       "      <th>20089993</th>\n",
       "      <td>1</td>\n",
       "    </tr>\n",
       "    <tr>\n",
       "      <th>...</th>\n",
       "      <td>...</td>\n",
       "    </tr>\n",
       "    <tr>\n",
       "      <th>991085968</th>\n",
       "      <td>1</td>\n",
       "    </tr>\n",
       "    <tr>\n",
       "      <th>991097830</th>\n",
       "      <td>1</td>\n",
       "    </tr>\n",
       "    <tr>\n",
       "      <th>991108260</th>\n",
       "      <td>1</td>\n",
       "    </tr>\n",
       "    <tr>\n",
       "      <th>991108624</th>\n",
       "      <td>1</td>\n",
       "    </tr>\n",
       "    <tr>\n",
       "      <th>991108904</th>\n",
       "      <td>1</td>\n",
       "    </tr>\n",
       "  </tbody>\n",
       "</table>\n",
       "<p>3833 rows × 1 columns</p>\n",
       "</div>"
      ],
      "text/plain": [
       "                        nombre_comercio_concat\n",
       "id_comercio_movimiento                        \n",
       "10099033                                     1\n",
       "10099058                                     1\n",
       "10099814                                     1\n",
       "20080001                                     1\n",
       "20089993                                     1\n",
       "...                                        ...\n",
       "991085968                                    1\n",
       "991097830                                    1\n",
       "991108260                                    1\n",
       "991108624                                    1\n",
       "991108904                                    1\n",
       "\n",
       "[3833 rows x 1 columns]"
      ]
     },
     "execution_count": 33,
     "metadata": {},
     "output_type": "execute_result"
    }
   ],
   "source": [
    "# Relacion 1:1 entre id_comercio_movimiento y la columna nueva con los nombres concatenados\n",
    "df[['id_comercio_movimiento', 'nombre_comercio_concat']].drop_duplicates() \\\n",
    ".groupby(['id_comercio_movimiento']).count() # Deberia dar 3833 que es la cantidad de ids unicos"
   ]
  },
  {
   "cell_type": "markdown",
   "id": "579e2643-dd2b-4d03-8ed4-29995dfbad15",
   "metadata": {},
   "source": [
    "El dataframe contiene una relacion 1:N correspondiente a **id_comercio** y a **nombre_comercio**. Estudiando casos donde esto ocurre, observamos que se debe a dos razones:\n",
    "* Por un lado, los nombres pueden contener distintos caracteres especiales en cada caso. \n",
    "* Por otro lado, un mismo **id_comercio** puede haber cambiado su razón social a lo largo del tiempo.\n",
    "---\n",
    "Para solventar estos problemas, se aplicó la funcion ´strip()´ que se encarga de eliminar los caracteres especiales. \n",
    "Para los casos donde hubo cambio de razón social, se concatenaron en una nueva columna **nombre_comercio_concat**. De esta manera se pierde la diferencia entre los distintos nombres asociados a ese id pero se gana la relacion 1:1 entre id y nombre."
   ]
  },
  {
   "cell_type": "markdown",
   "id": "977cceeb-8c67-4549-82bd-36ecc6ed432c",
   "metadata": {},
   "source": [
    "Mostramos un ejemplo de un **id_comercio_movimiento**, donde tenemos 4 razones sociales asociadas a un mismo id, y el resultado luego de la transformación realizada."
   ]
  },
  {
   "cell_type": "code",
   "execution_count": 34,
   "id": "2c146f9f-e2dc-4e21-b101-070fa4fa4977",
   "metadata": {},
   "outputs": [
    {
     "data": {
      "text/html": [
       "<div>\n",
       "<style scoped>\n",
       "    .dataframe tbody tr th:only-of-type {\n",
       "        vertical-align: middle;\n",
       "    }\n",
       "\n",
       "    .dataframe tbody tr th {\n",
       "        vertical-align: top;\n",
       "    }\n",
       "\n",
       "    .dataframe thead th {\n",
       "        text-align: right;\n",
       "    }\n",
       "</style>\n",
       "<table border=\"1\" class=\"dataframe\">\n",
       "  <thead>\n",
       "    <tr style=\"text-align: right;\">\n",
       "      <th></th>\n",
       "      <th>id_comercio_movimiento</th>\n",
       "      <th>nombre_comercio_histo</th>\n",
       "      <th>nombre_comercio_concat</th>\n",
       "    </tr>\n",
       "  </thead>\n",
       "  <tbody>\n",
       "    <tr>\n",
       "      <th>3563920</th>\n",
       "      <td>262002246</td>\n",
       "      <td>ATM CIA. DE SEGUROS</td>\n",
       "      <td>ATM CIA. DE SEGUROSATMCIASEGASEGURADORA TOTAL ...</td>\n",
       "    </tr>\n",
       "    <tr>\n",
       "      <th>3563921</th>\n",
       "      <td>262002246</td>\n",
       "      <td>ATM CIA. DE SEGUROS</td>\n",
       "      <td>ATM CIA. DE SEGUROSATMCIASEGASEGURADORA TOTAL ...</td>\n",
       "    </tr>\n",
       "    <tr>\n",
       "      <th>3563922</th>\n",
       "      <td>262002246</td>\n",
       "      <td>ATM CIA. DE SEGUROS</td>\n",
       "      <td>ATM CIA. DE SEGUROSATMCIASEGASEGURADORA TOTAL ...</td>\n",
       "    </tr>\n",
       "    <tr>\n",
       "      <th>3563923</th>\n",
       "      <td>262002246</td>\n",
       "      <td>ATM CIA. DE SEGUROS</td>\n",
       "      <td>ATM CIA. DE SEGUROSATMCIASEGASEGURADORA TOTAL ...</td>\n",
       "    </tr>\n",
       "    <tr>\n",
       "      <th>3563924</th>\n",
       "      <td>262002246</td>\n",
       "      <td>ATM CIA. DE SEGUROS</td>\n",
       "      <td>ATM CIA. DE SEGUROSATMCIASEGASEGURADORA TOTAL ...</td>\n",
       "    </tr>\n",
       "    <tr>\n",
       "      <th>...</th>\n",
       "      <td>...</td>\n",
       "      <td>...</td>\n",
       "      <td>...</td>\n",
       "    </tr>\n",
       "    <tr>\n",
       "      <th>3565295</th>\n",
       "      <td>262002246</td>\n",
       "      <td>ATMCIASEG</td>\n",
       "      <td>ATM CIA. DE SEGUROSATMCIASEGASEGURADORA TOTAL ...</td>\n",
       "    </tr>\n",
       "    <tr>\n",
       "      <th>3565296</th>\n",
       "      <td>262002246</td>\n",
       "      <td>ATM CIA. DE SEGUROS</td>\n",
       "      <td>ATM CIA. DE SEGUROSATMCIASEGASEGURADORA TOTAL ...</td>\n",
       "    </tr>\n",
       "    <tr>\n",
       "      <th>3565297</th>\n",
       "      <td>262002246</td>\n",
       "      <td>ATM CIA. DE SEGUROS</td>\n",
       "      <td>ATM CIA. DE SEGUROSATMCIASEGASEGURADORA TOTAL ...</td>\n",
       "    </tr>\n",
       "    <tr>\n",
       "      <th>3565298</th>\n",
       "      <td>262002246</td>\n",
       "      <td>ATMCIASEG</td>\n",
       "      <td>ATM CIA. DE SEGUROSATMCIASEGASEGURADORA TOTAL ...</td>\n",
       "    </tr>\n",
       "    <tr>\n",
       "      <th>3565299</th>\n",
       "      <td>262002246</td>\n",
       "      <td>ATMCIASEG</td>\n",
       "      <td>ATM CIA. DE SEGUROSATMCIASEGASEGURADORA TOTAL ...</td>\n",
       "    </tr>\n",
       "  </tbody>\n",
       "</table>\n",
       "<p>1380 rows × 3 columns</p>\n",
       "</div>"
      ],
      "text/plain": [
       "         id_comercio_movimiento nombre_comercio_histo  \\\n",
       "3563920               262002246   ATM CIA. DE SEGUROS   \n",
       "3563921               262002246   ATM CIA. DE SEGUROS   \n",
       "3563922               262002246   ATM CIA. DE SEGUROS   \n",
       "3563923               262002246   ATM CIA. DE SEGUROS   \n",
       "3563924               262002246   ATM CIA. DE SEGUROS   \n",
       "...                         ...                   ...   \n",
       "3565295               262002246             ATMCIASEG   \n",
       "3565296               262002246   ATM CIA. DE SEGUROS   \n",
       "3565297               262002246   ATM CIA. DE SEGUROS   \n",
       "3565298               262002246             ATMCIASEG   \n",
       "3565299               262002246             ATMCIASEG   \n",
       "\n",
       "                                    nombre_comercio_concat  \n",
       "3563920  ATM CIA. DE SEGUROSATMCIASEGASEGURADORA TOTAL ...  \n",
       "3563921  ATM CIA. DE SEGUROSATMCIASEGASEGURADORA TOTAL ...  \n",
       "3563922  ATM CIA. DE SEGUROSATMCIASEGASEGURADORA TOTAL ...  \n",
       "3563923  ATM CIA. DE SEGUROSATMCIASEGASEGURADORA TOTAL ...  \n",
       "3563924  ATM CIA. DE SEGUROSATMCIASEGASEGURADORA TOTAL ...  \n",
       "...                                                    ...  \n",
       "3565295  ATM CIA. DE SEGUROSATMCIASEGASEGURADORA TOTAL ...  \n",
       "3565296  ATM CIA. DE SEGUROSATMCIASEGASEGURADORA TOTAL ...  \n",
       "3565297  ATM CIA. DE SEGUROSATMCIASEGASEGURADORA TOTAL ...  \n",
       "3565298  ATM CIA. DE SEGUROSATMCIASEGASEGURADORA TOTAL ...  \n",
       "3565299  ATM CIA. DE SEGUROSATMCIASEGASEGURADORA TOTAL ...  \n",
       "\n",
       "[1380 rows x 3 columns]"
      ]
     },
     "execution_count": 34,
     "metadata": {},
     "output_type": "execute_result"
    }
   ],
   "source": [
    "# Caso donde tenemos 4 nombres asociados a un mismo id, y el resultado luego de la transformacion realizada\n",
    "\n",
    "df[df['id_comercio_movimiento'] == 262002246][['id_comercio_movimiento',\n",
    "                                               'nombre_comercio_histo',\n",
    "                                               'nombre_comercio_concat']]"
   ]
  },
  {
   "cell_type": "markdown",
   "id": "960d9472",
   "metadata": {},
   "source": [
    "### 1.2. Asegurar el tipo de dato de codigo postal"
   ]
  },
  {
   "cell_type": "code",
   "execution_count": 35,
   "id": "05126b5b-67f8-4c7e-8c48-493915910434",
   "metadata": {},
   "outputs": [
    {
     "name": "stdout",
     "output_type": "stream",
     "text": [
      "<class 'pandas.core.frame.DataFrame'>\n",
      "Int64Index: 4092077 entries, 0 to 4092076\n",
      "Data columns (total 43 columns):\n",
      " #   Column                               Dtype         \n",
      "---  ------                               -----         \n",
      " 0   dni_titular_movimiento               object        \n",
      " 1   moneda_movimiento                    int64         \n",
      " 2   id_comercio_movimiento               int64         \n",
      " 3   nombre_comercio_histo                object        \n",
      " 4   numero_cupon_movimiento              int64         \n",
      " 5   debito_credito_movimiento            int64         \n",
      " 6   producto_naranja_movimiento          object        \n",
      " 7   codigo_empresa_movimiento            int64         \n",
      " 8   tipo_producto_tarjeta_movimiento     int64         \n",
      " 9   plan_movimiento                      int64         \n",
      " 10  fecha_vto_cupon_movimiento           object        \n",
      " 11  fecha_presentacion_movimiento        object        \n",
      " 12  fecha_cupon_movimiento               datetime64[ns]\n",
      " 13  fecha_carga_sistema_movimiento       object        \n",
      " 14  monto_compra_movimiento              float64       \n",
      " 15  importe_cuota_movimiento             float64       \n",
      " 16  interes_movimiento                   float64       \n",
      " 17  cargo_adm_seguro_movimiento          float64       \n",
      " 18  cargo_otorgamiento_movimiento        float64       \n",
      " 19  cargo_seguro_vida_movimiento         float64       \n",
      " 20  cargo_administrativo_movimiento      float64       \n",
      " 21  seleccionado_ng                      int64         \n",
      " 22  tipo_prestamo_movimiento             object        \n",
      " 23  codigo_contable_movimiento           int64         \n",
      " 24  local_venta_producto                 int64         \n",
      " 25  nombre_local_histo                   object        \n",
      " 26  marca_debito_automatico              int64         \n",
      " 27  fecha_extraccion_movimiento          float64       \n",
      " 28  id_comercio_otras_marcas_movimiento  int64         \n",
      " 29  fecha_nacimiento                     object        \n",
      " 30  estado_civil_descripcion             object        \n",
      " 31  sexo_descripcion                     object        \n",
      " 32  pais                                 object        \n",
      " 33  provincia                            object        \n",
      " 34  ciudad                               object        \n",
      " 35  domicilio_codigo_postal              float64       \n",
      " 36  domicilio_barrio                     object        \n",
      " 37  fecha_de_ingreso_histo               object        \n",
      " 38  cargo_descripcion_histo              object        \n",
      " 39  nivel_estudio_descripcion_histo      object        \n",
      " 40  rel_vivienda_descripcion_histo       object        \n",
      " 41  monto_ajustado                       float64       \n",
      " 42  nombre_comercio_concat               object        \n",
      "dtypes: datetime64[ns](1), float64(10), int64(12), object(20)\n",
      "memory usage: 1.3+ GB\n"
     ]
    }
   ],
   "source": [
    "df.info()"
   ]
  },
  {
   "cell_type": "code",
   "execution_count": 36,
   "id": "0f41379d-4486-41ae-bcbc-30981bd5580b",
   "metadata": {},
   "outputs": [],
   "source": [
    "df.domicilio_codigo_postal = df[df['domicilio_codigo_postal'].isna()!=True]['domicilio_codigo_postal'].apply(int).apply(str)\n",
    "df.domicilio_codigo_postal = df.domicilio_codigo_postal.str.strip()"
   ]
  },
  {
   "cell_type": "code",
   "execution_count": 37,
   "id": "bef33ad7-2264-4597-b005-a6b09815805d",
   "metadata": {},
   "outputs": [
    {
     "data": {
      "text/plain": [
       "0          1766\n",
       "1          5521\n",
       "2          7107\n",
       "3          2200\n",
       "4          1019\n",
       "           ... \n",
       "4092072    5300\n",
       "4092073    5300\n",
       "4092074    5300\n",
       "4092075    5300\n",
       "4092076    5300\n",
       "Name: domicilio_codigo_postal, Length: 4092077, dtype: object"
      ]
     },
     "execution_count": 37,
     "metadata": {},
     "output_type": "execute_result"
    }
   ],
   "source": [
    "df.domicilio_codigo_postal"
   ]
  },
  {
   "cell_type": "markdown",
   "id": "9d632a87-146a-4582-bc05-09f7e7a35141",
   "metadata": {},
   "source": [
    "En el dataset original la columna de **domicilio_codigo_postal** tiene un formato float64.\n",
    "El código postal es un número, pero no se deberían de poder hacer cálculos sobre el mismo, por lo cual se la considera una variable Categórica, y se la convierte en String para quitarle los decimales y además, impedir que se puedan hacer cálculos sobre él."
   ]
  },
  {
   "cell_type": "markdown",
   "id": "b9a95794-d551-4b3a-9b7c-c255ef5e0fb4",
   "metadata": {},
   "source": [
    "### 1.3. Tratamiento de datos sensibles"
   ]
  },
  {
   "cell_type": "markdown",
   "id": "5817ac83-3474-487c-9189-219ca3ead37d",
   "metadata": {},
   "source": [
    "Analizando el dataset, podemos observar que el único dato sensible es **dni_titular_movimiento**. Por lo tanto, codificamos los valores de esta columna usando el algoritmo SHA-256 con la libreria hashlib.\n",
    "\n",
    "Debido a que esta columna ya estaba encriptada, aplicamos el algoritmo sobre una copia del dataframe original. "
   ]
  },
  {
   "cell_type": "code",
   "execution_count": 38,
   "id": "ca3c4e56-5e75-4a8c-9237-fe9a77736794",
   "metadata": {},
   "outputs": [
    {
     "data": {
      "text/html": [
       "<div>\n",
       "<style scoped>\n",
       "    .dataframe tbody tr th:only-of-type {\n",
       "        vertical-align: middle;\n",
       "    }\n",
       "\n",
       "    .dataframe tbody tr th {\n",
       "        vertical-align: top;\n",
       "    }\n",
       "\n",
       "    .dataframe thead th {\n",
       "        text-align: right;\n",
       "    }\n",
       "</style>\n",
       "<table border=\"1\" class=\"dataframe\">\n",
       "  <thead>\n",
       "    <tr style=\"text-align: right;\">\n",
       "      <th></th>\n",
       "      <th>dni_titular_movimiento</th>\n",
       "      <th>moneda_movimiento</th>\n",
       "      <th>id_comercio_movimiento</th>\n",
       "      <th>nombre_comercio_histo</th>\n",
       "      <th>numero_cupon_movimiento</th>\n",
       "      <th>debito_credito_movimiento</th>\n",
       "      <th>producto_naranja_movimiento</th>\n",
       "      <th>codigo_empresa_movimiento</th>\n",
       "      <th>tipo_producto_tarjeta_movimiento</th>\n",
       "      <th>plan_movimiento</th>\n",
       "      <th>fecha_vto_cupon_movimiento</th>\n",
       "      <th>fecha_presentacion_movimiento</th>\n",
       "      <th>fecha_cupon_movimiento</th>\n",
       "      <th>fecha_carga_sistema_movimiento</th>\n",
       "      <th>monto_compra_movimiento</th>\n",
       "      <th>importe_cuota_movimiento</th>\n",
       "      <th>interes_movimiento</th>\n",
       "      <th>cargo_adm_seguro_movimiento</th>\n",
       "      <th>cargo_otorgamiento_movimiento</th>\n",
       "      <th>cargo_seguro_vida_movimiento</th>\n",
       "      <th>cargo_administrativo_movimiento</th>\n",
       "      <th>seleccionado_ng</th>\n",
       "      <th>tipo_prestamo_movimiento</th>\n",
       "      <th>codigo_contable_movimiento</th>\n",
       "      <th>local_venta_producto</th>\n",
       "      <th>nombre_local_histo</th>\n",
       "      <th>marca_debito_automatico</th>\n",
       "      <th>fecha_extraccion_movimiento</th>\n",
       "      <th>id_comercio_otras_marcas_movimiento</th>\n",
       "      <th>fecha_nacimiento</th>\n",
       "      <th>estado_civil_descripcion</th>\n",
       "      <th>sexo_descripcion</th>\n",
       "      <th>pais</th>\n",
       "      <th>provincia</th>\n",
       "      <th>ciudad</th>\n",
       "      <th>domicilio_codigo_postal</th>\n",
       "      <th>domicilio_barrio</th>\n",
       "      <th>fecha_de_ingreso_histo</th>\n",
       "      <th>cargo_descripcion_histo</th>\n",
       "      <th>nivel_estudio_descripcion_histo</th>\n",
       "      <th>rel_vivienda_descripcion_histo</th>\n",
       "      <th>monto_ajustado</th>\n",
       "      <th>nombre_comercio_concat</th>\n",
       "    </tr>\n",
       "  </thead>\n",
       "  <tbody>\n",
       "    <tr>\n",
       "      <th>0</th>\n",
       "      <td>ab13f4e1b1c8194051b1dd6da7643b6863500750713f8e...</td>\n",
       "      <td>0</td>\n",
       "      <td>20099784</td>\n",
       "      <td>INTERES POR MORA U$S</td>\n",
       "      <td>200813</td>\n",
       "      <td>0</td>\n",
       "      <td>PL</td>\n",
       "      <td>1</td>\n",
       "      <td>0</td>\n",
       "      <td>1</td>\n",
       "      <td>2020-09-10</td>\n",
       "      <td>2020-08-25</td>\n",
       "      <td>2020-08-25</td>\n",
       "      <td>None</td>\n",
       "      <td>6.24</td>\n",
       "      <td>6.24</td>\n",
       "      <td>0.0</td>\n",
       "      <td>0.0</td>\n",
       "      <td>0.0</td>\n",
       "      <td>0.0</td>\n",
       "      <td>0.0</td>\n",
       "      <td>0</td>\n",
       "      <td>None</td>\n",
       "      <td>281</td>\n",
       "      <td>20099784</td>\n",
       "      <td>None</td>\n",
       "      <td>0</td>\n",
       "      <td>NaN</td>\n",
       "      <td>0</td>\n",
       "      <td>1959-07-18</td>\n",
       "      <td>Divorciado/a</td>\n",
       "      <td>Hombre</td>\n",
       "      <td>Argentina</td>\n",
       "      <td>BUENOS AIRES</td>\n",
       "      <td>LA TABLADA</td>\n",
       "      <td>1766</td>\n",
       "      <td>LA TABLADA</td>\n",
       "      <td>2012-12-11</td>\n",
       "      <td>EMP.DE COMERCIO</td>\n",
       "      <td>SECUNDARIOS</td>\n",
       "      <td>Propia</td>\n",
       "      <td>5.52</td>\n",
       "      <td>INTERES POR MORA U$S</td>\n",
       "    </tr>\n",
       "    <tr>\n",
       "      <th>1</th>\n",
       "      <td>e77952e42b7136528a7169e75706a24427288b34df5d5c...</td>\n",
       "      <td>0</td>\n",
       "      <td>20099784</td>\n",
       "      <td>INTERES POR MORA U$S</td>\n",
       "      <td>200813</td>\n",
       "      <td>0</td>\n",
       "      <td>PL</td>\n",
       "      <td>1</td>\n",
       "      <td>0</td>\n",
       "      <td>1</td>\n",
       "      <td>2020-09-10</td>\n",
       "      <td>2020-08-25</td>\n",
       "      <td>2020-08-25</td>\n",
       "      <td>None</td>\n",
       "      <td>17.73</td>\n",
       "      <td>17.73</td>\n",
       "      <td>0.0</td>\n",
       "      <td>0.0</td>\n",
       "      <td>0.0</td>\n",
       "      <td>0.0</td>\n",
       "      <td>0.0</td>\n",
       "      <td>0</td>\n",
       "      <td>None</td>\n",
       "      <td>281</td>\n",
       "      <td>20099784</td>\n",
       "      <td>None</td>\n",
       "      <td>0</td>\n",
       "      <td>NaN</td>\n",
       "      <td>0</td>\n",
       "      <td>1991-06-28</td>\n",
       "      <td>Sin Datos</td>\n",
       "      <td>Mujer</td>\n",
       "      <td>Argentina</td>\n",
       "      <td>MENDOZA</td>\n",
       "      <td>VA.NVA. DE GUAYMALLEN</td>\n",
       "      <td>5521</td>\n",
       "      <td>GLLEN</td>\n",
       "      <td>2020-06-10</td>\n",
       "      <td>SIN DATOS</td>\n",
       "      <td>None</td>\n",
       "      <td>None</td>\n",
       "      <td>15.68</td>\n",
       "      <td>INTERES POR MORA U$S</td>\n",
       "    </tr>\n",
       "    <tr>\n",
       "      <th>2</th>\n",
       "      <td>d3a2291efdc4b3d6eb1b521e6b945c279b37669f36add0...</td>\n",
       "      <td>0</td>\n",
       "      <td>20099784</td>\n",
       "      <td>INTERES POR MORA U$S</td>\n",
       "      <td>200813</td>\n",
       "      <td>0</td>\n",
       "      <td>PL</td>\n",
       "      <td>1</td>\n",
       "      <td>0</td>\n",
       "      <td>1</td>\n",
       "      <td>2020-09-10</td>\n",
       "      <td>2020-08-25</td>\n",
       "      <td>2020-08-25</td>\n",
       "      <td>None</td>\n",
       "      <td>6.18</td>\n",
       "      <td>6.18</td>\n",
       "      <td>0.0</td>\n",
       "      <td>0.0</td>\n",
       "      <td>0.0</td>\n",
       "      <td>0.0</td>\n",
       "      <td>0.0</td>\n",
       "      <td>0</td>\n",
       "      <td>None</td>\n",
       "      <td>281</td>\n",
       "      <td>20099784</td>\n",
       "      <td>None</td>\n",
       "      <td>0</td>\n",
       "      <td>NaN</td>\n",
       "      <td>0</td>\n",
       "      <td>1992-07-29</td>\n",
       "      <td>Soltero/a</td>\n",
       "      <td>Mujer</td>\n",
       "      <td>Argentina</td>\n",
       "      <td>BUENOS AIRES</td>\n",
       "      <td>SANTA TERESITA</td>\n",
       "      <td>7107</td>\n",
       "      <td>SANTA TERESITA</td>\n",
       "      <td>2012-09-13</td>\n",
       "      <td>SIN DATOS</td>\n",
       "      <td>PRIMARIOS</td>\n",
       "      <td>Otros</td>\n",
       "      <td>5.46</td>\n",
       "      <td>INTERES POR MORA U$S</td>\n",
       "    </tr>\n",
       "    <tr>\n",
       "      <th>3</th>\n",
       "      <td>ac9b1c68c368d72d18332dee7a9c022ca1f568d9d33962...</td>\n",
       "      <td>0</td>\n",
       "      <td>20099784</td>\n",
       "      <td>INTERES POR MORA U$S</td>\n",
       "      <td>200813</td>\n",
       "      <td>0</td>\n",
       "      <td>PL</td>\n",
       "      <td>1</td>\n",
       "      <td>0</td>\n",
       "      <td>1</td>\n",
       "      <td>2020-09-10</td>\n",
       "      <td>2020-08-25</td>\n",
       "      <td>2020-08-25</td>\n",
       "      <td>None</td>\n",
       "      <td>2.83</td>\n",
       "      <td>2.83</td>\n",
       "      <td>0.0</td>\n",
       "      <td>0.0</td>\n",
       "      <td>0.0</td>\n",
       "      <td>0.0</td>\n",
       "      <td>0.0</td>\n",
       "      <td>0</td>\n",
       "      <td>None</td>\n",
       "      <td>281</td>\n",
       "      <td>20099784</td>\n",
       "      <td>None</td>\n",
       "      <td>0</td>\n",
       "      <td>NaN</td>\n",
       "      <td>0</td>\n",
       "      <td>1980-11-01</td>\n",
       "      <td>Soltero/a</td>\n",
       "      <td>Hombre</td>\n",
       "      <td>Argentina</td>\n",
       "      <td>SANTA FE</td>\n",
       "      <td>SAN LORENZO</td>\n",
       "      <td>2200</td>\n",
       "      <td>BOUCHARD</td>\n",
       "      <td>2008-01-15</td>\n",
       "      <td>EMP.DE COMERCIO</td>\n",
       "      <td>SECUNDARIOS</td>\n",
       "      <td>Propia</td>\n",
       "      <td>2.50</td>\n",
       "      <td>INTERES POR MORA U$S</td>\n",
       "    </tr>\n",
       "    <tr>\n",
       "      <th>4</th>\n",
       "      <td>7761d75e3579c455c20a7156cfc10b68c4acc37fe6b5cc...</td>\n",
       "      <td>0</td>\n",
       "      <td>20099784</td>\n",
       "      <td>INTERES POR MORA U$S</td>\n",
       "      <td>200813</td>\n",
       "      <td>0</td>\n",
       "      <td>PL</td>\n",
       "      <td>1</td>\n",
       "      <td>0</td>\n",
       "      <td>1</td>\n",
       "      <td>2020-09-10</td>\n",
       "      <td>2020-08-25</td>\n",
       "      <td>2020-08-25</td>\n",
       "      <td>None</td>\n",
       "      <td>2.38</td>\n",
       "      <td>2.38</td>\n",
       "      <td>0.0</td>\n",
       "      <td>0.0</td>\n",
       "      <td>0.0</td>\n",
       "      <td>0.0</td>\n",
       "      <td>0.0</td>\n",
       "      <td>0</td>\n",
       "      <td>None</td>\n",
       "      <td>281</td>\n",
       "      <td>20099784</td>\n",
       "      <td>None</td>\n",
       "      <td>0</td>\n",
       "      <td>NaN</td>\n",
       "      <td>0</td>\n",
       "      <td>1984-03-08</td>\n",
       "      <td>Soltero/a</td>\n",
       "      <td>Mujer</td>\n",
       "      <td>Argentina</td>\n",
       "      <td>CAPITAL FEDERAL</td>\n",
       "      <td>CIUDAD AUTONOMA DE BUENOS AIRES</td>\n",
       "      <td>1019</td>\n",
       "      <td>SAN NICOLAS</td>\n",
       "      <td>2013-06-06</td>\n",
       "      <td>EMP.DE COMERCIO</td>\n",
       "      <td>UNIVERSITARIOS</td>\n",
       "      <td>Alquilada</td>\n",
       "      <td>2.10</td>\n",
       "      <td>INTERES POR MORA U$S</td>\n",
       "    </tr>\n",
       "  </tbody>\n",
       "</table>\n",
       "</div>"
      ],
      "text/plain": [
       "                              dni_titular_movimiento  moneda_movimiento  \\\n",
       "0  ab13f4e1b1c8194051b1dd6da7643b6863500750713f8e...                  0   \n",
       "1  e77952e42b7136528a7169e75706a24427288b34df5d5c...                  0   \n",
       "2  d3a2291efdc4b3d6eb1b521e6b945c279b37669f36add0...                  0   \n",
       "3  ac9b1c68c368d72d18332dee7a9c022ca1f568d9d33962...                  0   \n",
       "4  7761d75e3579c455c20a7156cfc10b68c4acc37fe6b5cc...                  0   \n",
       "\n",
       "   id_comercio_movimiento nombre_comercio_histo  numero_cupon_movimiento  \\\n",
       "0                20099784  INTERES POR MORA U$S                   200813   \n",
       "1                20099784  INTERES POR MORA U$S                   200813   \n",
       "2                20099784  INTERES POR MORA U$S                   200813   \n",
       "3                20099784  INTERES POR MORA U$S                   200813   \n",
       "4                20099784  INTERES POR MORA U$S                   200813   \n",
       "\n",
       "   debito_credito_movimiento producto_naranja_movimiento  \\\n",
       "0                          0                          PL   \n",
       "1                          0                          PL   \n",
       "2                          0                          PL   \n",
       "3                          0                          PL   \n",
       "4                          0                          PL   \n",
       "\n",
       "   codigo_empresa_movimiento  tipo_producto_tarjeta_movimiento  \\\n",
       "0                          1                                 0   \n",
       "1                          1                                 0   \n",
       "2                          1                                 0   \n",
       "3                          1                                 0   \n",
       "4                          1                                 0   \n",
       "\n",
       "   plan_movimiento fecha_vto_cupon_movimiento fecha_presentacion_movimiento  \\\n",
       "0                1                 2020-09-10                    2020-08-25   \n",
       "1                1                 2020-09-10                    2020-08-25   \n",
       "2                1                 2020-09-10                    2020-08-25   \n",
       "3                1                 2020-09-10                    2020-08-25   \n",
       "4                1                 2020-09-10                    2020-08-25   \n",
       "\n",
       "  fecha_cupon_movimiento fecha_carga_sistema_movimiento  \\\n",
       "0             2020-08-25                           None   \n",
       "1             2020-08-25                           None   \n",
       "2             2020-08-25                           None   \n",
       "3             2020-08-25                           None   \n",
       "4             2020-08-25                           None   \n",
       "\n",
       "   monto_compra_movimiento  importe_cuota_movimiento  interes_movimiento  \\\n",
       "0                     6.24                      6.24                 0.0   \n",
       "1                    17.73                     17.73                 0.0   \n",
       "2                     6.18                      6.18                 0.0   \n",
       "3                     2.83                      2.83                 0.0   \n",
       "4                     2.38                      2.38                 0.0   \n",
       "\n",
       "   cargo_adm_seguro_movimiento  cargo_otorgamiento_movimiento  \\\n",
       "0                          0.0                            0.0   \n",
       "1                          0.0                            0.0   \n",
       "2                          0.0                            0.0   \n",
       "3                          0.0                            0.0   \n",
       "4                          0.0                            0.0   \n",
       "\n",
       "   cargo_seguro_vida_movimiento  cargo_administrativo_movimiento  \\\n",
       "0                           0.0                              0.0   \n",
       "1                           0.0                              0.0   \n",
       "2                           0.0                              0.0   \n",
       "3                           0.0                              0.0   \n",
       "4                           0.0                              0.0   \n",
       "\n",
       "   seleccionado_ng tipo_prestamo_movimiento  codigo_contable_movimiento  \\\n",
       "0                0                     None                         281   \n",
       "1                0                     None                         281   \n",
       "2                0                     None                         281   \n",
       "3                0                     None                         281   \n",
       "4                0                     None                         281   \n",
       "\n",
       "   local_venta_producto nombre_local_histo  marca_debito_automatico  \\\n",
       "0              20099784               None                        0   \n",
       "1              20099784               None                        0   \n",
       "2              20099784               None                        0   \n",
       "3              20099784               None                        0   \n",
       "4              20099784               None                        0   \n",
       "\n",
       "   fecha_extraccion_movimiento  id_comercio_otras_marcas_movimiento  \\\n",
       "0                          NaN                                    0   \n",
       "1                          NaN                                    0   \n",
       "2                          NaN                                    0   \n",
       "3                          NaN                                    0   \n",
       "4                          NaN                                    0   \n",
       "\n",
       "  fecha_nacimiento estado_civil_descripcion sexo_descripcion       pais  \\\n",
       "0       1959-07-18             Divorciado/a           Hombre  Argentina   \n",
       "1       1991-06-28                Sin Datos            Mujer  Argentina   \n",
       "2       1992-07-29                Soltero/a            Mujer  Argentina   \n",
       "3       1980-11-01                Soltero/a           Hombre  Argentina   \n",
       "4       1984-03-08                Soltero/a            Mujer  Argentina   \n",
       "\n",
       "         provincia                           ciudad domicilio_codigo_postal  \\\n",
       "0     BUENOS AIRES                       LA TABLADA                    1766   \n",
       "1          MENDOZA            VA.NVA. DE GUAYMALLEN                    5521   \n",
       "2     BUENOS AIRES                   SANTA TERESITA                    7107   \n",
       "3         SANTA FE                      SAN LORENZO                    2200   \n",
       "4  CAPITAL FEDERAL  CIUDAD AUTONOMA DE BUENOS AIRES                    1019   \n",
       "\n",
       "  domicilio_barrio fecha_de_ingreso_histo cargo_descripcion_histo  \\\n",
       "0       LA TABLADA             2012-12-11         EMP.DE COMERCIO   \n",
       "1            GLLEN             2020-06-10               SIN DATOS   \n",
       "2   SANTA TERESITA             2012-09-13               SIN DATOS   \n",
       "3         BOUCHARD             2008-01-15         EMP.DE COMERCIO   \n",
       "4      SAN NICOLAS             2013-06-06         EMP.DE COMERCIO   \n",
       "\n",
       "  nivel_estudio_descripcion_histo rel_vivienda_descripcion_histo  \\\n",
       "0                     SECUNDARIOS                         Propia   \n",
       "1                            None                           None   \n",
       "2                       PRIMARIOS                          Otros   \n",
       "3                     SECUNDARIOS                         Propia   \n",
       "4                  UNIVERSITARIOS                      Alquilada   \n",
       "\n",
       "   monto_ajustado nombre_comercio_concat  \n",
       "0            5.52   INTERES POR MORA U$S  \n",
       "1           15.68   INTERES POR MORA U$S  \n",
       "2            5.46   INTERES POR MORA U$S  \n",
       "3            2.50   INTERES POR MORA U$S  \n",
       "4            2.10   INTERES POR MORA U$S  "
      ]
     },
     "execution_count": 38,
     "metadata": {},
     "output_type": "execute_result"
    }
   ],
   "source": [
    "df_testing_dni = df[:100].copy(deep=True)\n",
    "df_testing_dni['dni_titular_movimiento'] = df_testing_dni['dni_titular_movimiento'].str.strip()\n",
    "df_testing_dni['dni_titular_movimiento'] = [hl.sha256(val.encode(\"utf8\")).hexdigest() for val in df_testing_dni['dni_titular_movimiento']]\n",
    "df_testing_dni.head()"
   ]
  },
  {
   "cell_type": "markdown",
   "id": "dfbd182e-fda7-4aec-8f7f-f74f47753f56",
   "metadata": {
    "tags": []
   },
   "source": [
    "### 1.4. Reemplazar caracteres especiales"
   ]
  },
  {
   "cell_type": "code",
   "execution_count": 39,
   "id": "db91c856-9fd2-48a2-a36a-9710be0ca293",
   "metadata": {
    "tags": []
   },
   "outputs": [],
   "source": [
    "columnas_str = [\n",
    "    'nombre_comercio_histo',\n",
    "    'producto_naranja_movimiento',\n",
    "    'nombre_local_histo',\n",
    "    'estado_civil_descripcion',\n",
    "    'sexo_descripcion',\n",
    "    'pais',\n",
    "    'provincia',\n",
    "    'ciudad',\n",
    "    'domicilio_barrio',\n",
    "    'cargo_descripcion_histo',\n",
    "    'nivel_estudio_descripcion_histo',\n",
    "    'rel_vivienda_descripcion_histo',\n",
    "    'nombre_comercio_concat'\n",
    "]"
   ]
  },
  {
   "cell_type": "code",
   "execution_count": 40,
   "id": "b2cc175d-5a3d-48e7-865b-11d1f111081a",
   "metadata": {
    "tags": []
   },
   "outputs": [],
   "source": [
    "regex = r'[^a-zA-Z0-9 ]'"
   ]
  },
  {
   "cell_type": "markdown",
   "id": "fe2bee20-3445-42cb-9ce6-cc631738dfef",
   "metadata": {},
   "source": [
    "Esta transformación se aplica sobre las columnas que tienen strings. \n",
    "\n",
    "Aplicamos: \n",
    "\n",
    "1. `unidecode` sobre todos los valores no nulos de cada columna\n",
    "2. Reemplazo de caracteres excluidos del regex definido"
   ]
  },
  {
   "cell_type": "code",
   "execution_count": 41,
   "id": "55e71570-fbe6-41b3-8c3e-95605458f4f5",
   "metadata": {},
   "outputs": [
    {
     "data": {
      "text/plain": [
       "'N'"
      ]
     },
     "execution_count": 41,
     "metadata": {},
     "output_type": "execute_result"
    }
   ],
   "source": [
    "unidecode(u'Ñ')"
   ]
  },
  {
   "cell_type": "code",
   "execution_count": 42,
   "id": "a23a3ce0-d3a2-476c-9fc5-deb09f0f2d4e",
   "metadata": {
    "tags": []
   },
   "outputs": [
    {
     "name": "stdout",
     "output_type": "stream",
     "text": [
      "1473086    P.E.S BANELCO TN\n",
      "Name: nombre_comercio_histo, dtype: object\n",
      "4085464    TASI 1- ROSARIO SUR\n",
      "Name: nombre_comercio_histo, dtype: object\n"
     ]
    }
   ],
   "source": [
    "print(df.loc[df['id_comercio_movimiento'] == 40111133]['nombre_comercio_histo'].head(1))\n",
    "print(df.loc[df['id_comercio_movimiento'] == 78199230]['nombre_comercio_histo'].head(1))"
   ]
  },
  {
   "cell_type": "code",
   "execution_count": 43,
   "id": "cd13d465-99ec-471c-8bf4-43eaad15d066",
   "metadata": {},
   "outputs": [],
   "source": [
    "for col in columnas_str:\n",
    "    df[col] = df[df[col].isnull()==False][col].apply(unidecode)"
   ]
  },
  {
   "cell_type": "code",
   "execution_count": 44,
   "id": "680aff73-b035-4b08-bd9f-6a3c5dcb43a2",
   "metadata": {
    "tags": []
   },
   "outputs": [],
   "source": [
    "for col in columnas_str:\n",
    "    df.loc[:, col] = df[df[col].isnull()==False][col].str.replace(regex, '')"
   ]
  },
  {
   "cell_type": "code",
   "execution_count": 45,
   "id": "c21378d3-2b9a-4a64-8279-fdc9bd9a3d63",
   "metadata": {
    "tags": []
   },
   "outputs": [
    {
     "name": "stdout",
     "output_type": "stream",
     "text": [
      "1473086    PES BANELCO TN\n",
      "Name: nombre_comercio_histo, dtype: object\n",
      "4085464    TASI 1 ROSARIO SUR\n",
      "Name: nombre_comercio_histo, dtype: object\n"
     ]
    }
   ],
   "source": [
    "print(df.loc[df['id_comercio_movimiento'] == 40111133]['nombre_comercio_histo'].head(1))\n",
    "print(df.loc[df['id_comercio_movimiento'] == 78199230]['nombre_comercio_histo'].head(1))"
   ]
  },
  {
   "cell_type": "markdown",
   "id": "27ff55b3-5431-4d9b-905a-81cdc7becc93",
   "metadata": {},
   "source": [
    "### 1.5. Asegurar formato de fecha"
   ]
  },
  {
   "cell_type": "markdown",
   "id": "c3582e84-1292-419b-bbe5-a91dbc69c9cd",
   "metadata": {},
   "source": [
    "Para asegurar el formato fecha, usamos la funcion datetime de Python"
   ]
  },
  {
   "cell_type": "code",
   "execution_count": 46,
   "id": "102a4693-4a31-49d9-b404-91e7ec77b365",
   "metadata": {},
   "outputs": [],
   "source": [
    "# Columnas con fecha\n",
    "\n",
    "col_fechas = [\n",
    "    'fecha_vto_cupon_movimiento',\n",
    "    'fecha_presentacion_movimiento',\n",
    "    'fecha_cupon_movimiento',\n",
    "    'fecha_carga_sistema_movimiento',\n",
    "    'fecha_nacimiento',\n",
    "    'fecha_extraccion_movimiento',\n",
    "    'fecha_de_ingreso_histo'\n",
    "]"
   ]
  },
  {
   "cell_type": "code",
   "execution_count": 47,
   "id": "a4148314-accf-466a-88cd-1868aded7e22",
   "metadata": {},
   "outputs": [
    {
     "data": {
      "text/plain": [
       "fecha_vto_cupon_movimiento              0\n",
       "fecha_presentacion_movimiento           0\n",
       "fecha_cupon_movimiento                  0\n",
       "fecha_carga_sistema_movimiento    1404647\n",
       "fecha_nacimiento                    10551\n",
       "fecha_extraccion_movimiento       4092077\n",
       "fecha_de_ingreso_histo                  0\n",
       "dtype: int64"
      ]
     },
     "execution_count": 47,
     "metadata": {},
     "output_type": "execute_result"
    }
   ],
   "source": [
    "df[col_fechas].isnull().sum()"
   ]
  },
  {
   "cell_type": "code",
   "execution_count": 48,
   "id": "0e0b329b-32bd-4594-9629-cc36d9f397c9",
   "metadata": {},
   "outputs": [],
   "source": [
    "df[col_fechas] = df[col_fechas].apply(pd.to_datetime)"
   ]
  },
  {
   "cell_type": "code",
   "execution_count": 49,
   "id": "c6191c18-5da9-4e93-9b1e-cedd4af5e8e9",
   "metadata": {},
   "outputs": [
    {
     "data": {
      "text/plain": [
       "0         2020-08-25\n",
       "1         2020-08-25\n",
       "2         2020-08-25\n",
       "3         2020-08-25\n",
       "4         2020-08-25\n",
       "             ...    \n",
       "4092072   2020-02-16\n",
       "4092073   2020-02-16\n",
       "4092074   2020-02-16\n",
       "4092075   2020-02-16\n",
       "4092076   2020-02-16\n",
       "Name: fecha_cupon_movimiento, Length: 4092077, dtype: datetime64[ns]"
      ]
     },
     "execution_count": 49,
     "metadata": {},
     "output_type": "execute_result"
    }
   ],
   "source": [
    "df[\"fecha_cupon_movimiento\"]"
   ]
  },
  {
   "cell_type": "code",
   "execution_count": 50,
   "id": "85cab939-fdc3-4850-8704-d0c277f9e2b9",
   "metadata": {},
   "outputs": [
    {
     "data": {
      "text/html": [
       "<div>\n",
       "<style scoped>\n",
       "    .dataframe tbody tr th:only-of-type {\n",
       "        vertical-align: middle;\n",
       "    }\n",
       "\n",
       "    .dataframe tbody tr th {\n",
       "        vertical-align: top;\n",
       "    }\n",
       "\n",
       "    .dataframe thead th {\n",
       "        text-align: right;\n",
       "    }\n",
       "</style>\n",
       "<table border=\"1\" class=\"dataframe\">\n",
       "  <thead>\n",
       "    <tr style=\"text-align: right;\">\n",
       "      <th></th>\n",
       "      <th>dni_titular_movimiento</th>\n",
       "      <th>moneda_movimiento</th>\n",
       "      <th>id_comercio_movimiento</th>\n",
       "      <th>nombre_comercio_histo</th>\n",
       "      <th>numero_cupon_movimiento</th>\n",
       "      <th>debito_credito_movimiento</th>\n",
       "      <th>producto_naranja_movimiento</th>\n",
       "      <th>codigo_empresa_movimiento</th>\n",
       "      <th>tipo_producto_tarjeta_movimiento</th>\n",
       "      <th>plan_movimiento</th>\n",
       "      <th>fecha_vto_cupon_movimiento</th>\n",
       "      <th>fecha_presentacion_movimiento</th>\n",
       "      <th>fecha_cupon_movimiento</th>\n",
       "      <th>fecha_carga_sistema_movimiento</th>\n",
       "      <th>monto_compra_movimiento</th>\n",
       "      <th>importe_cuota_movimiento</th>\n",
       "      <th>interes_movimiento</th>\n",
       "      <th>cargo_adm_seguro_movimiento</th>\n",
       "      <th>cargo_otorgamiento_movimiento</th>\n",
       "      <th>cargo_seguro_vida_movimiento</th>\n",
       "      <th>cargo_administrativo_movimiento</th>\n",
       "      <th>seleccionado_ng</th>\n",
       "      <th>tipo_prestamo_movimiento</th>\n",
       "      <th>codigo_contable_movimiento</th>\n",
       "      <th>local_venta_producto</th>\n",
       "      <th>nombre_local_histo</th>\n",
       "      <th>marca_debito_automatico</th>\n",
       "      <th>fecha_extraccion_movimiento</th>\n",
       "      <th>id_comercio_otras_marcas_movimiento</th>\n",
       "      <th>fecha_nacimiento</th>\n",
       "      <th>estado_civil_descripcion</th>\n",
       "      <th>sexo_descripcion</th>\n",
       "      <th>pais</th>\n",
       "      <th>provincia</th>\n",
       "      <th>ciudad</th>\n",
       "      <th>domicilio_codigo_postal</th>\n",
       "      <th>domicilio_barrio</th>\n",
       "      <th>fecha_de_ingreso_histo</th>\n",
       "      <th>cargo_descripcion_histo</th>\n",
       "      <th>nivel_estudio_descripcion_histo</th>\n",
       "      <th>rel_vivienda_descripcion_histo</th>\n",
       "      <th>monto_ajustado</th>\n",
       "      <th>nombre_comercio_concat</th>\n",
       "    </tr>\n",
       "  </thead>\n",
       "  <tbody>\n",
       "    <tr>\n",
       "      <th>2766</th>\n",
       "      <td>000650e8144e3a42d47a21aee9e48f34804</td>\n",
       "      <td>0</td>\n",
       "      <td>20100936</td>\n",
       "      <td>CARGO POR GESTION DE COBRANZA</td>\n",
       "      <td>999990</td>\n",
       "      <td>0</td>\n",
       "      <td>PL</td>\n",
       "      <td>1</td>\n",
       "      <td>0</td>\n",
       "      <td>1</td>\n",
       "      <td>2020-09-10</td>\n",
       "      <td>2020-08-19</td>\n",
       "      <td>2020-08-19</td>\n",
       "      <td>NaT</td>\n",
       "      <td>1.11</td>\n",
       "      <td>1.11</td>\n",
       "      <td>0.0</td>\n",
       "      <td>0.0</td>\n",
       "      <td>0.0</td>\n",
       "      <td>0.0</td>\n",
       "      <td>0.0</td>\n",
       "      <td>0</td>\n",
       "      <td>None</td>\n",
       "      <td>2061</td>\n",
       "      <td>20100936</td>\n",
       "      <td>NaN</td>\n",
       "      <td>0</td>\n",
       "      <td>NaT</td>\n",
       "      <td>0</td>\n",
       "      <td>NaT</td>\n",
       "      <td>Sin Datos</td>\n",
       "      <td>NaN</td>\n",
       "      <td>NaN</td>\n",
       "      <td>NaN</td>\n",
       "      <td>NaN</td>\n",
       "      <td>NaN</td>\n",
       "      <td>NaN</td>\n",
       "      <td>2000-11-29</td>\n",
       "      <td>JUBILADO</td>\n",
       "      <td>PRIMARIOS</td>\n",
       "      <td>Propia</td>\n",
       "      <td>0.98</td>\n",
       "      <td>CARGO POR GESTION DE COBRANZA</td>\n",
       "    </tr>\n",
       "    <tr>\n",
       "      <th>2924</th>\n",
       "      <td>000650e8144e3a42d47a21aee9e48f34804</td>\n",
       "      <td>0</td>\n",
       "      <td>20100936</td>\n",
       "      <td>CARGO POR GESTION DE COBRANZA</td>\n",
       "      <td>999990</td>\n",
       "      <td>0</td>\n",
       "      <td>PL</td>\n",
       "      <td>1</td>\n",
       "      <td>0</td>\n",
       "      <td>1</td>\n",
       "      <td>2020-09-10</td>\n",
       "      <td>2020-08-19</td>\n",
       "      <td>2020-08-19</td>\n",
       "      <td>NaT</td>\n",
       "      <td>1.11</td>\n",
       "      <td>1.11</td>\n",
       "      <td>0.0</td>\n",
       "      <td>0.0</td>\n",
       "      <td>0.0</td>\n",
       "      <td>0.0</td>\n",
       "      <td>0.0</td>\n",
       "      <td>0</td>\n",
       "      <td>None</td>\n",
       "      <td>2061</td>\n",
       "      <td>20100936</td>\n",
       "      <td>NaN</td>\n",
       "      <td>0</td>\n",
       "      <td>NaT</td>\n",
       "      <td>0</td>\n",
       "      <td>NaT</td>\n",
       "      <td>Sin Datos</td>\n",
       "      <td>NaN</td>\n",
       "      <td>NaN</td>\n",
       "      <td>NaN</td>\n",
       "      <td>NaN</td>\n",
       "      <td>NaN</td>\n",
       "      <td>NaN</td>\n",
       "      <td>2000-11-29</td>\n",
       "      <td>JUBILADO</td>\n",
       "      <td>PRIMARIOS</td>\n",
       "      <td>Propia</td>\n",
       "      <td>0.98</td>\n",
       "      <td>CARGO POR GESTION DE COBRANZA</td>\n",
       "    </tr>\n",
       "    <tr>\n",
       "      <th>3082</th>\n",
       "      <td>000650e8144e3a42d47a21aee9e48f34804</td>\n",
       "      <td>0</td>\n",
       "      <td>20100936</td>\n",
       "      <td>CARGO POR GESTION DE COBRANZA</td>\n",
       "      <td>999990</td>\n",
       "      <td>0</td>\n",
       "      <td>PL</td>\n",
       "      <td>1</td>\n",
       "      <td>0</td>\n",
       "      <td>1</td>\n",
       "      <td>2020-09-10</td>\n",
       "      <td>2020-08-19</td>\n",
       "      <td>2020-08-19</td>\n",
       "      <td>NaT</td>\n",
       "      <td>1.11</td>\n",
       "      <td>1.11</td>\n",
       "      <td>0.0</td>\n",
       "      <td>0.0</td>\n",
       "      <td>0.0</td>\n",
       "      <td>0.0</td>\n",
       "      <td>0.0</td>\n",
       "      <td>0</td>\n",
       "      <td>None</td>\n",
       "      <td>2061</td>\n",
       "      <td>20100936</td>\n",
       "      <td>NaN</td>\n",
       "      <td>0</td>\n",
       "      <td>NaT</td>\n",
       "      <td>0</td>\n",
       "      <td>NaT</td>\n",
       "      <td>Sin Datos</td>\n",
       "      <td>NaN</td>\n",
       "      <td>NaN</td>\n",
       "      <td>NaN</td>\n",
       "      <td>NaN</td>\n",
       "      <td>NaN</td>\n",
       "      <td>NaN</td>\n",
       "      <td>2000-11-29</td>\n",
       "      <td>JUBILADO</td>\n",
       "      <td>PRIMARIOS</td>\n",
       "      <td>Propia</td>\n",
       "      <td>0.98</td>\n",
       "      <td>CARGO POR GESTION DE COBRANZA</td>\n",
       "    </tr>\n",
       "    <tr>\n",
       "      <th>3240</th>\n",
       "      <td>000650e8144e3a42d47a21aee9e48f34804</td>\n",
       "      <td>0</td>\n",
       "      <td>20100936</td>\n",
       "      <td>CARGO POR GESTION DE COBRANZA</td>\n",
       "      <td>999990</td>\n",
       "      <td>0</td>\n",
       "      <td>PL</td>\n",
       "      <td>1</td>\n",
       "      <td>0</td>\n",
       "      <td>1</td>\n",
       "      <td>2020-09-10</td>\n",
       "      <td>2020-08-19</td>\n",
       "      <td>2020-08-19</td>\n",
       "      <td>NaT</td>\n",
       "      <td>1.11</td>\n",
       "      <td>1.11</td>\n",
       "      <td>0.0</td>\n",
       "      <td>0.0</td>\n",
       "      <td>0.0</td>\n",
       "      <td>0.0</td>\n",
       "      <td>0.0</td>\n",
       "      <td>0</td>\n",
       "      <td>None</td>\n",
       "      <td>2061</td>\n",
       "      <td>20100936</td>\n",
       "      <td>NaN</td>\n",
       "      <td>0</td>\n",
       "      <td>NaT</td>\n",
       "      <td>0</td>\n",
       "      <td>NaT</td>\n",
       "      <td>Sin Datos</td>\n",
       "      <td>NaN</td>\n",
       "      <td>NaN</td>\n",
       "      <td>NaN</td>\n",
       "      <td>NaN</td>\n",
       "      <td>NaN</td>\n",
       "      <td>NaN</td>\n",
       "      <td>2000-11-29</td>\n",
       "      <td>JUBILADO</td>\n",
       "      <td>PRIMARIOS</td>\n",
       "      <td>Propia</td>\n",
       "      <td>0.98</td>\n",
       "      <td>CARGO POR GESTION DE COBRANZA</td>\n",
       "    </tr>\n",
       "    <tr>\n",
       "      <th>3398</th>\n",
       "      <td>000650e8144e3a42d47a21aee9e48f34804</td>\n",
       "      <td>0</td>\n",
       "      <td>20100936</td>\n",
       "      <td>CARGO POR GESTION DE COBRANZA</td>\n",
       "      <td>999990</td>\n",
       "      <td>0</td>\n",
       "      <td>PL</td>\n",
       "      <td>1</td>\n",
       "      <td>0</td>\n",
       "      <td>1</td>\n",
       "      <td>2020-09-10</td>\n",
       "      <td>2020-08-19</td>\n",
       "      <td>2020-08-19</td>\n",
       "      <td>NaT</td>\n",
       "      <td>1.11</td>\n",
       "      <td>1.11</td>\n",
       "      <td>0.0</td>\n",
       "      <td>0.0</td>\n",
       "      <td>0.0</td>\n",
       "      <td>0.0</td>\n",
       "      <td>0.0</td>\n",
       "      <td>0</td>\n",
       "      <td>None</td>\n",
       "      <td>2061</td>\n",
       "      <td>20100936</td>\n",
       "      <td>NaN</td>\n",
       "      <td>0</td>\n",
       "      <td>NaT</td>\n",
       "      <td>0</td>\n",
       "      <td>NaT</td>\n",
       "      <td>Sin Datos</td>\n",
       "      <td>NaN</td>\n",
       "      <td>NaN</td>\n",
       "      <td>NaN</td>\n",
       "      <td>NaN</td>\n",
       "      <td>NaN</td>\n",
       "      <td>NaN</td>\n",
       "      <td>2000-11-29</td>\n",
       "      <td>JUBILADO</td>\n",
       "      <td>PRIMARIOS</td>\n",
       "      <td>Propia</td>\n",
       "      <td>0.98</td>\n",
       "      <td>CARGO POR GESTION DE COBRANZA</td>\n",
       "    </tr>\n",
       "    <tr>\n",
       "      <th>...</th>\n",
       "      <td>...</td>\n",
       "      <td>...</td>\n",
       "      <td>...</td>\n",
       "      <td>...</td>\n",
       "      <td>...</td>\n",
       "      <td>...</td>\n",
       "      <td>...</td>\n",
       "      <td>...</td>\n",
       "      <td>...</td>\n",
       "      <td>...</td>\n",
       "      <td>...</td>\n",
       "      <td>...</td>\n",
       "      <td>...</td>\n",
       "      <td>...</td>\n",
       "      <td>...</td>\n",
       "      <td>...</td>\n",
       "      <td>...</td>\n",
       "      <td>...</td>\n",
       "      <td>...</td>\n",
       "      <td>...</td>\n",
       "      <td>...</td>\n",
       "      <td>...</td>\n",
       "      <td>...</td>\n",
       "      <td>...</td>\n",
       "      <td>...</td>\n",
       "      <td>...</td>\n",
       "      <td>...</td>\n",
       "      <td>...</td>\n",
       "      <td>...</td>\n",
       "      <td>...</td>\n",
       "      <td>...</td>\n",
       "      <td>...</td>\n",
       "      <td>...</td>\n",
       "      <td>...</td>\n",
       "      <td>...</td>\n",
       "      <td>...</td>\n",
       "      <td>...</td>\n",
       "      <td>...</td>\n",
       "      <td>...</td>\n",
       "      <td>...</td>\n",
       "      <td>...</td>\n",
       "      <td>...</td>\n",
       "      <td>...</td>\n",
       "    </tr>\n",
       "    <tr>\n",
       "      <th>4089020</th>\n",
       "      <td>000650e8144e3a42d47a21aee9e48f34804</td>\n",
       "      <td>3</td>\n",
       "      <td>112142903</td>\n",
       "      <td>ROSARIO VISION OPTICAS</td>\n",
       "      <td>84</td>\n",
       "      <td>0</td>\n",
       "      <td>PL</td>\n",
       "      <td>1</td>\n",
       "      <td>3</td>\n",
       "      <td>1</td>\n",
       "      <td>2020-09-10</td>\n",
       "      <td>2020-07-28</td>\n",
       "      <td>2020-07-28</td>\n",
       "      <td>2020-07-29</td>\n",
       "      <td>2800.00</td>\n",
       "      <td>2800.00</td>\n",
       "      <td>0.0</td>\n",
       "      <td>0.0</td>\n",
       "      <td>0.0</td>\n",
       "      <td>0.0</td>\n",
       "      <td>0.0</td>\n",
       "      <td>0</td>\n",
       "      <td>None</td>\n",
       "      <td>387</td>\n",
       "      <td>112142903</td>\n",
       "      <td>NaN</td>\n",
       "      <td>0</td>\n",
       "      <td>NaT</td>\n",
       "      <td>0</td>\n",
       "      <td>NaT</td>\n",
       "      <td>Sin Datos</td>\n",
       "      <td>NaN</td>\n",
       "      <td>NaN</td>\n",
       "      <td>NaN</td>\n",
       "      <td>NaN</td>\n",
       "      <td>NaN</td>\n",
       "      <td>NaN</td>\n",
       "      <td>2000-11-29</td>\n",
       "      <td>JUBILADO</td>\n",
       "      <td>PRIMARIOS</td>\n",
       "      <td>Propia</td>\n",
       "      <td>2536.23</td>\n",
       "      <td>ROSARIO VISION OPTICAS</td>\n",
       "    </tr>\n",
       "    <tr>\n",
       "      <th>4089021</th>\n",
       "      <td>000650e8144e3a42d47a21aee9e48f34804</td>\n",
       "      <td>3</td>\n",
       "      <td>112142903</td>\n",
       "      <td>ROSARIO VISION OPTICAS</td>\n",
       "      <td>84</td>\n",
       "      <td>0</td>\n",
       "      <td>PL</td>\n",
       "      <td>1</td>\n",
       "      <td>3</td>\n",
       "      <td>1</td>\n",
       "      <td>2020-09-10</td>\n",
       "      <td>2020-07-28</td>\n",
       "      <td>2020-07-28</td>\n",
       "      <td>2020-07-29</td>\n",
       "      <td>2800.00</td>\n",
       "      <td>2800.00</td>\n",
       "      <td>0.0</td>\n",
       "      <td>0.0</td>\n",
       "      <td>0.0</td>\n",
       "      <td>0.0</td>\n",
       "      <td>0.0</td>\n",
       "      <td>0</td>\n",
       "      <td>None</td>\n",
       "      <td>387</td>\n",
       "      <td>112142903</td>\n",
       "      <td>NaN</td>\n",
       "      <td>0</td>\n",
       "      <td>NaT</td>\n",
       "      <td>0</td>\n",
       "      <td>NaT</td>\n",
       "      <td>Sin Datos</td>\n",
       "      <td>NaN</td>\n",
       "      <td>NaN</td>\n",
       "      <td>NaN</td>\n",
       "      <td>NaN</td>\n",
       "      <td>NaN</td>\n",
       "      <td>NaN</td>\n",
       "      <td>2000-11-29</td>\n",
       "      <td>JUBILADO</td>\n",
       "      <td>PRIMARIOS</td>\n",
       "      <td>Propia</td>\n",
       "      <td>2536.23</td>\n",
       "      <td>ROSARIO VISION OPTICAS</td>\n",
       "    </tr>\n",
       "    <tr>\n",
       "      <th>4089022</th>\n",
       "      <td>000650e8144e3a42d47a21aee9e48f34804</td>\n",
       "      <td>3</td>\n",
       "      <td>112142903</td>\n",
       "      <td>ROSARIO VISION OPTICAS</td>\n",
       "      <td>84</td>\n",
       "      <td>0</td>\n",
       "      <td>PL</td>\n",
       "      <td>1</td>\n",
       "      <td>3</td>\n",
       "      <td>1</td>\n",
       "      <td>2020-09-10</td>\n",
       "      <td>2020-07-28</td>\n",
       "      <td>2020-07-28</td>\n",
       "      <td>2020-07-29</td>\n",
       "      <td>2800.00</td>\n",
       "      <td>2800.00</td>\n",
       "      <td>0.0</td>\n",
       "      <td>0.0</td>\n",
       "      <td>0.0</td>\n",
       "      <td>0.0</td>\n",
       "      <td>0.0</td>\n",
       "      <td>0</td>\n",
       "      <td>None</td>\n",
       "      <td>387</td>\n",
       "      <td>112142903</td>\n",
       "      <td>NaN</td>\n",
       "      <td>0</td>\n",
       "      <td>NaT</td>\n",
       "      <td>0</td>\n",
       "      <td>NaT</td>\n",
       "      <td>Sin Datos</td>\n",
       "      <td>NaN</td>\n",
       "      <td>NaN</td>\n",
       "      <td>NaN</td>\n",
       "      <td>NaN</td>\n",
       "      <td>NaN</td>\n",
       "      <td>NaN</td>\n",
       "      <td>2000-11-29</td>\n",
       "      <td>JUBILADO</td>\n",
       "      <td>PRIMARIOS</td>\n",
       "      <td>Propia</td>\n",
       "      <td>2536.23</td>\n",
       "      <td>ROSARIO VISION OPTICAS</td>\n",
       "    </tr>\n",
       "    <tr>\n",
       "      <th>4089023</th>\n",
       "      <td>000650e8144e3a42d47a21aee9e48f34804</td>\n",
       "      <td>3</td>\n",
       "      <td>112142903</td>\n",
       "      <td>ROSARIO VISION OPTICAS</td>\n",
       "      <td>84</td>\n",
       "      <td>0</td>\n",
       "      <td>PL</td>\n",
       "      <td>1</td>\n",
       "      <td>3</td>\n",
       "      <td>1</td>\n",
       "      <td>2020-09-10</td>\n",
       "      <td>2020-07-28</td>\n",
       "      <td>2020-07-28</td>\n",
       "      <td>2020-07-29</td>\n",
       "      <td>2800.00</td>\n",
       "      <td>2800.00</td>\n",
       "      <td>0.0</td>\n",
       "      <td>0.0</td>\n",
       "      <td>0.0</td>\n",
       "      <td>0.0</td>\n",
       "      <td>0.0</td>\n",
       "      <td>0</td>\n",
       "      <td>None</td>\n",
       "      <td>387</td>\n",
       "      <td>112142903</td>\n",
       "      <td>NaN</td>\n",
       "      <td>0</td>\n",
       "      <td>NaT</td>\n",
       "      <td>0</td>\n",
       "      <td>NaT</td>\n",
       "      <td>Sin Datos</td>\n",
       "      <td>NaN</td>\n",
       "      <td>NaN</td>\n",
       "      <td>NaN</td>\n",
       "      <td>NaN</td>\n",
       "      <td>NaN</td>\n",
       "      <td>NaN</td>\n",
       "      <td>2000-11-29</td>\n",
       "      <td>JUBILADO</td>\n",
       "      <td>PRIMARIOS</td>\n",
       "      <td>Propia</td>\n",
       "      <td>2536.23</td>\n",
       "      <td>ROSARIO VISION OPTICAS</td>\n",
       "    </tr>\n",
       "    <tr>\n",
       "      <th>4089024</th>\n",
       "      <td>000650e8144e3a42d47a21aee9e48f34804</td>\n",
       "      <td>3</td>\n",
       "      <td>112142903</td>\n",
       "      <td>ROSARIO VISION OPTICAS</td>\n",
       "      <td>84</td>\n",
       "      <td>0</td>\n",
       "      <td>PL</td>\n",
       "      <td>1</td>\n",
       "      <td>3</td>\n",
       "      <td>1</td>\n",
       "      <td>2020-09-10</td>\n",
       "      <td>2020-07-28</td>\n",
       "      <td>2020-07-28</td>\n",
       "      <td>2020-07-29</td>\n",
       "      <td>2800.00</td>\n",
       "      <td>2800.00</td>\n",
       "      <td>0.0</td>\n",
       "      <td>0.0</td>\n",
       "      <td>0.0</td>\n",
       "      <td>0.0</td>\n",
       "      <td>0.0</td>\n",
       "      <td>0</td>\n",
       "      <td>None</td>\n",
       "      <td>387</td>\n",
       "      <td>112142903</td>\n",
       "      <td>NaN</td>\n",
       "      <td>0</td>\n",
       "      <td>NaT</td>\n",
       "      <td>0</td>\n",
       "      <td>NaT</td>\n",
       "      <td>Sin Datos</td>\n",
       "      <td>NaN</td>\n",
       "      <td>NaN</td>\n",
       "      <td>NaN</td>\n",
       "      <td>NaN</td>\n",
       "      <td>NaN</td>\n",
       "      <td>NaN</td>\n",
       "      <td>2000-11-29</td>\n",
       "      <td>JUBILADO</td>\n",
       "      <td>PRIMARIOS</td>\n",
       "      <td>Propia</td>\n",
       "      <td>2536.23</td>\n",
       "      <td>ROSARIO VISION OPTICAS</td>\n",
       "    </tr>\n",
       "  </tbody>\n",
       "</table>\n",
       "<p>21715 rows × 43 columns</p>\n",
       "</div>"
      ],
      "text/plain": [
       "                      dni_titular_movimiento  moneda_movimiento  \\\n",
       "2766     000650e8144e3a42d47a21aee9e48f34804                  0   \n",
       "2924     000650e8144e3a42d47a21aee9e48f34804                  0   \n",
       "3082     000650e8144e3a42d47a21aee9e48f34804                  0   \n",
       "3240     000650e8144e3a42d47a21aee9e48f34804                  0   \n",
       "3398     000650e8144e3a42d47a21aee9e48f34804                  0   \n",
       "...                                      ...                ...   \n",
       "4089020  000650e8144e3a42d47a21aee9e48f34804                  3   \n",
       "4089021  000650e8144e3a42d47a21aee9e48f34804                  3   \n",
       "4089022  000650e8144e3a42d47a21aee9e48f34804                  3   \n",
       "4089023  000650e8144e3a42d47a21aee9e48f34804                  3   \n",
       "4089024  000650e8144e3a42d47a21aee9e48f34804                  3   \n",
       "\n",
       "         id_comercio_movimiento          nombre_comercio_histo  \\\n",
       "2766                   20100936  CARGO POR GESTION DE COBRANZA   \n",
       "2924                   20100936  CARGO POR GESTION DE COBRANZA   \n",
       "3082                   20100936  CARGO POR GESTION DE COBRANZA   \n",
       "3240                   20100936  CARGO POR GESTION DE COBRANZA   \n",
       "3398                   20100936  CARGO POR GESTION DE COBRANZA   \n",
       "...                         ...                            ...   \n",
       "4089020               112142903         ROSARIO VISION OPTICAS   \n",
       "4089021               112142903         ROSARIO VISION OPTICAS   \n",
       "4089022               112142903         ROSARIO VISION OPTICAS   \n",
       "4089023               112142903         ROSARIO VISION OPTICAS   \n",
       "4089024               112142903         ROSARIO VISION OPTICAS   \n",
       "\n",
       "         numero_cupon_movimiento  debito_credito_movimiento  \\\n",
       "2766                      999990                          0   \n",
       "2924                      999990                          0   \n",
       "3082                      999990                          0   \n",
       "3240                      999990                          0   \n",
       "3398                      999990                          0   \n",
       "...                          ...                        ...   \n",
       "4089020                       84                          0   \n",
       "4089021                       84                          0   \n",
       "4089022                       84                          0   \n",
       "4089023                       84                          0   \n",
       "4089024                       84                          0   \n",
       "\n",
       "        producto_naranja_movimiento  codigo_empresa_movimiento  \\\n",
       "2766                             PL                          1   \n",
       "2924                             PL                          1   \n",
       "3082                             PL                          1   \n",
       "3240                             PL                          1   \n",
       "3398                             PL                          1   \n",
       "...                             ...                        ...   \n",
       "4089020                          PL                          1   \n",
       "4089021                          PL                          1   \n",
       "4089022                          PL                          1   \n",
       "4089023                          PL                          1   \n",
       "4089024                          PL                          1   \n",
       "\n",
       "         tipo_producto_tarjeta_movimiento  plan_movimiento  \\\n",
       "2766                                    0                1   \n",
       "2924                                    0                1   \n",
       "3082                                    0                1   \n",
       "3240                                    0                1   \n",
       "3398                                    0                1   \n",
       "...                                   ...              ...   \n",
       "4089020                                 3                1   \n",
       "4089021                                 3                1   \n",
       "4089022                                 3                1   \n",
       "4089023                                 3                1   \n",
       "4089024                                 3                1   \n",
       "\n",
       "        fecha_vto_cupon_movimiento fecha_presentacion_movimiento  \\\n",
       "2766                    2020-09-10                    2020-08-19   \n",
       "2924                    2020-09-10                    2020-08-19   \n",
       "3082                    2020-09-10                    2020-08-19   \n",
       "3240                    2020-09-10                    2020-08-19   \n",
       "3398                    2020-09-10                    2020-08-19   \n",
       "...                            ...                           ...   \n",
       "4089020                 2020-09-10                    2020-07-28   \n",
       "4089021                 2020-09-10                    2020-07-28   \n",
       "4089022                 2020-09-10                    2020-07-28   \n",
       "4089023                 2020-09-10                    2020-07-28   \n",
       "4089024                 2020-09-10                    2020-07-28   \n",
       "\n",
       "        fecha_cupon_movimiento fecha_carga_sistema_movimiento  \\\n",
       "2766                2020-08-19                            NaT   \n",
       "2924                2020-08-19                            NaT   \n",
       "3082                2020-08-19                            NaT   \n",
       "3240                2020-08-19                            NaT   \n",
       "3398                2020-08-19                            NaT   \n",
       "...                        ...                            ...   \n",
       "4089020             2020-07-28                     2020-07-29   \n",
       "4089021             2020-07-28                     2020-07-29   \n",
       "4089022             2020-07-28                     2020-07-29   \n",
       "4089023             2020-07-28                     2020-07-29   \n",
       "4089024             2020-07-28                     2020-07-29   \n",
       "\n",
       "         monto_compra_movimiento  importe_cuota_movimiento  \\\n",
       "2766                        1.11                      1.11   \n",
       "2924                        1.11                      1.11   \n",
       "3082                        1.11                      1.11   \n",
       "3240                        1.11                      1.11   \n",
       "3398                        1.11                      1.11   \n",
       "...                          ...                       ...   \n",
       "4089020                  2800.00                   2800.00   \n",
       "4089021                  2800.00                   2800.00   \n",
       "4089022                  2800.00                   2800.00   \n",
       "4089023                  2800.00                   2800.00   \n",
       "4089024                  2800.00                   2800.00   \n",
       "\n",
       "         interes_movimiento  cargo_adm_seguro_movimiento  \\\n",
       "2766                    0.0                          0.0   \n",
       "2924                    0.0                          0.0   \n",
       "3082                    0.0                          0.0   \n",
       "3240                    0.0                          0.0   \n",
       "3398                    0.0                          0.0   \n",
       "...                     ...                          ...   \n",
       "4089020                 0.0                          0.0   \n",
       "4089021                 0.0                          0.0   \n",
       "4089022                 0.0                          0.0   \n",
       "4089023                 0.0                          0.0   \n",
       "4089024                 0.0                          0.0   \n",
       "\n",
       "         cargo_otorgamiento_movimiento  cargo_seguro_vida_movimiento  \\\n",
       "2766                               0.0                           0.0   \n",
       "2924                               0.0                           0.0   \n",
       "3082                               0.0                           0.0   \n",
       "3240                               0.0                           0.0   \n",
       "3398                               0.0                           0.0   \n",
       "...                                ...                           ...   \n",
       "4089020                            0.0                           0.0   \n",
       "4089021                            0.0                           0.0   \n",
       "4089022                            0.0                           0.0   \n",
       "4089023                            0.0                           0.0   \n",
       "4089024                            0.0                           0.0   \n",
       "\n",
       "         cargo_administrativo_movimiento  seleccionado_ng  \\\n",
       "2766                                 0.0                0   \n",
       "2924                                 0.0                0   \n",
       "3082                                 0.0                0   \n",
       "3240                                 0.0                0   \n",
       "3398                                 0.0                0   \n",
       "...                                  ...              ...   \n",
       "4089020                              0.0                0   \n",
       "4089021                              0.0                0   \n",
       "4089022                              0.0                0   \n",
       "4089023                              0.0                0   \n",
       "4089024                              0.0                0   \n",
       "\n",
       "        tipo_prestamo_movimiento  codigo_contable_movimiento  \\\n",
       "2766                        None                        2061   \n",
       "2924                        None                        2061   \n",
       "3082                        None                        2061   \n",
       "3240                        None                        2061   \n",
       "3398                        None                        2061   \n",
       "...                          ...                         ...   \n",
       "4089020                     None                         387   \n",
       "4089021                     None                         387   \n",
       "4089022                     None                         387   \n",
       "4089023                     None                         387   \n",
       "4089024                     None                         387   \n",
       "\n",
       "         local_venta_producto nombre_local_histo  marca_debito_automatico  \\\n",
       "2766                 20100936                NaN                        0   \n",
       "2924                 20100936                NaN                        0   \n",
       "3082                 20100936                NaN                        0   \n",
       "3240                 20100936                NaN                        0   \n",
       "3398                 20100936                NaN                        0   \n",
       "...                       ...                ...                      ...   \n",
       "4089020             112142903                NaN                        0   \n",
       "4089021             112142903                NaN                        0   \n",
       "4089022             112142903                NaN                        0   \n",
       "4089023             112142903                NaN                        0   \n",
       "4089024             112142903                NaN                        0   \n",
       "\n",
       "        fecha_extraccion_movimiento  id_comercio_otras_marcas_movimiento  \\\n",
       "2766                            NaT                                    0   \n",
       "2924                            NaT                                    0   \n",
       "3082                            NaT                                    0   \n",
       "3240                            NaT                                    0   \n",
       "3398                            NaT                                    0   \n",
       "...                             ...                                  ...   \n",
       "4089020                         NaT                                    0   \n",
       "4089021                         NaT                                    0   \n",
       "4089022                         NaT                                    0   \n",
       "4089023                         NaT                                    0   \n",
       "4089024                         NaT                                    0   \n",
       "\n",
       "        fecha_nacimiento estado_civil_descripcion sexo_descripcion pais  \\\n",
       "2766                 NaT                Sin Datos              NaN  NaN   \n",
       "2924                 NaT                Sin Datos              NaN  NaN   \n",
       "3082                 NaT                Sin Datos              NaN  NaN   \n",
       "3240                 NaT                Sin Datos              NaN  NaN   \n",
       "3398                 NaT                Sin Datos              NaN  NaN   \n",
       "...                  ...                      ...              ...  ...   \n",
       "4089020              NaT                Sin Datos              NaN  NaN   \n",
       "4089021              NaT                Sin Datos              NaN  NaN   \n",
       "4089022              NaT                Sin Datos              NaN  NaN   \n",
       "4089023              NaT                Sin Datos              NaN  NaN   \n",
       "4089024              NaT                Sin Datos              NaN  NaN   \n",
       "\n",
       "        provincia ciudad domicilio_codigo_postal domicilio_barrio  \\\n",
       "2766          NaN    NaN                     NaN              NaN   \n",
       "2924          NaN    NaN                     NaN              NaN   \n",
       "3082          NaN    NaN                     NaN              NaN   \n",
       "3240          NaN    NaN                     NaN              NaN   \n",
       "3398          NaN    NaN                     NaN              NaN   \n",
       "...           ...    ...                     ...              ...   \n",
       "4089020       NaN    NaN                     NaN              NaN   \n",
       "4089021       NaN    NaN                     NaN              NaN   \n",
       "4089022       NaN    NaN                     NaN              NaN   \n",
       "4089023       NaN    NaN                     NaN              NaN   \n",
       "4089024       NaN    NaN                     NaN              NaN   \n",
       "\n",
       "        fecha_de_ingreso_histo cargo_descripcion_histo  \\\n",
       "2766                2000-11-29                JUBILADO   \n",
       "2924                2000-11-29                JUBILADO   \n",
       "3082                2000-11-29                JUBILADO   \n",
       "3240                2000-11-29                JUBILADO   \n",
       "3398                2000-11-29                JUBILADO   \n",
       "...                        ...                     ...   \n",
       "4089020             2000-11-29                JUBILADO   \n",
       "4089021             2000-11-29                JUBILADO   \n",
       "4089022             2000-11-29                JUBILADO   \n",
       "4089023             2000-11-29                JUBILADO   \n",
       "4089024             2000-11-29                JUBILADO   \n",
       "\n",
       "        nivel_estudio_descripcion_histo rel_vivienda_descripcion_histo  \\\n",
       "2766                          PRIMARIOS                         Propia   \n",
       "2924                          PRIMARIOS                         Propia   \n",
       "3082                          PRIMARIOS                         Propia   \n",
       "3240                          PRIMARIOS                         Propia   \n",
       "3398                          PRIMARIOS                         Propia   \n",
       "...                                 ...                            ...   \n",
       "4089020                       PRIMARIOS                         Propia   \n",
       "4089021                       PRIMARIOS                         Propia   \n",
       "4089022                       PRIMARIOS                         Propia   \n",
       "4089023                       PRIMARIOS                         Propia   \n",
       "4089024                       PRIMARIOS                         Propia   \n",
       "\n",
       "         monto_ajustado         nombre_comercio_concat  \n",
       "2766               0.98  CARGO POR GESTION DE COBRANZA  \n",
       "2924               0.98  CARGO POR GESTION DE COBRANZA  \n",
       "3082               0.98  CARGO POR GESTION DE COBRANZA  \n",
       "3240               0.98  CARGO POR GESTION DE COBRANZA  \n",
       "3398               0.98  CARGO POR GESTION DE COBRANZA  \n",
       "...                 ...                            ...  \n",
       "4089020         2536.23         ROSARIO VISION OPTICAS  \n",
       "4089021         2536.23         ROSARIO VISION OPTICAS  \n",
       "4089022         2536.23         ROSARIO VISION OPTICAS  \n",
       "4089023         2536.23         ROSARIO VISION OPTICAS  \n",
       "4089024         2536.23         ROSARIO VISION OPTICAS  \n",
       "\n",
       "[21715 rows x 43 columns]"
      ]
     },
     "execution_count": 50,
     "metadata": {},
     "output_type": "execute_result"
    }
   ],
   "source": [
    "df[df[\"sexo_descripcion\"].isna()]"
   ]
  },
  {
   "cell_type": "markdown",
   "id": "98e95660-19fb-43ad-97ae-cc92bf1e284c",
   "metadata": {
    "tags": []
   },
   "source": [
    "### 1.6. Agrupar valores de cargo_descripcion_histo"
   ]
  },
  {
   "cell_type": "code",
   "execution_count": 51,
   "id": "904a2125-f699-4ec5-a2d3-60912ff4b484",
   "metadata": {
    "tags": []
   },
   "outputs": [
    {
     "data": {
      "text/plain": [
       "25"
      ]
     },
     "execution_count": 51,
     "metadata": {},
     "output_type": "execute_result"
    }
   ],
   "source": [
    "df['cargo_descripcion_histo'].nunique()"
   ]
  },
  {
   "cell_type": "code",
   "execution_count": 52,
   "id": "11e1262b-0db1-4cac-93c6-1c5bdb23e80c",
   "metadata": {},
   "outputs": [
    {
     "data": {
      "text/plain": [
       "array(['EMPDE COMERCIO', 'SIN DATOS', 'ENFERMERO', 'INDEPENDIENTE',\n",
       "       'EMPSEGPUBLICA', 'DOCENTE', 'ADMINISTRATIVO', 'VIGILADOR',\n",
       "       'OPERARIO', 'MAESTRANZA', 'PROPIETARIO', 'ENCARGADO',\n",
       "       'VENDEDORPROMOT', 'CHOFER', 'JUBILADO', 'PEONEMBARCADOS',\n",
       "       'PRESTCREDITO', 'PROFESTECNICO', 'MOZO', 'CAJERO',\n",
       "       'PORTEROCONSERJ', 'JEFE', 'PRESGARANTIA', 'COCINERO', 'MEDICO'],\n",
       "      dtype=object)"
      ]
     },
     "execution_count": 52,
     "metadata": {},
     "output_type": "execute_result"
    }
   ],
   "source": [
    "df['cargo_descripcion_histo'].unique()"
   ]
  },
  {
   "cell_type": "code",
   "execution_count": 53,
   "id": "62a4fc68-8648-48a8-b72e-21c0131379ce",
   "metadata": {},
   "outputs": [
    {
     "data": {
      "text/plain": [
       "0"
      ]
     },
     "execution_count": 53,
     "metadata": {},
     "output_type": "execute_result"
    }
   ],
   "source": [
    "df[df['cargo_descripcion_histo'].isna() == True]['cargo_descripcion_histo'].count()"
   ]
  },
  {
   "cell_type": "code",
   "execution_count": 54,
   "id": "4938837c-2d9f-40dc-98fb-34f093c5fb73",
   "metadata": {},
   "outputs": [
    {
     "data": {
      "text/html": [
       "<div>\n",
       "<style scoped>\n",
       "    .dataframe tbody tr th:only-of-type {\n",
       "        vertical-align: middle;\n",
       "    }\n",
       "\n",
       "    .dataframe tbody tr th {\n",
       "        vertical-align: top;\n",
       "    }\n",
       "\n",
       "    .dataframe thead th {\n",
       "        text-align: right;\n",
       "    }\n",
       "</style>\n",
       "<table border=\"1\" class=\"dataframe\">\n",
       "  <thead>\n",
       "    <tr style=\"text-align: right;\">\n",
       "      <th></th>\n",
       "      <th>0</th>\n",
       "    </tr>\n",
       "    <tr>\n",
       "      <th>cargo_descripcion_histo</th>\n",
       "      <th></th>\n",
       "    </tr>\n",
       "  </thead>\n",
       "  <tbody>\n",
       "    <tr>\n",
       "      <th>ADMINISTRATIVO</th>\n",
       "      <td>198845</td>\n",
       "    </tr>\n",
       "    <tr>\n",
       "      <th>CAJERO</th>\n",
       "      <td>15636</td>\n",
       "    </tr>\n",
       "    <tr>\n",
       "      <th>CHOFER</th>\n",
       "      <td>36165</td>\n",
       "    </tr>\n",
       "    <tr>\n",
       "      <th>COCINERO</th>\n",
       "      <td>2829</td>\n",
       "    </tr>\n",
       "    <tr>\n",
       "      <th>DOCENTE</th>\n",
       "      <td>233485</td>\n",
       "    </tr>\n",
       "    <tr>\n",
       "      <th>EMPDE COMERCIO</th>\n",
       "      <td>500519</td>\n",
       "    </tr>\n",
       "    <tr>\n",
       "      <th>EMPSEGPUBLICA</th>\n",
       "      <td>107489</td>\n",
       "    </tr>\n",
       "    <tr>\n",
       "      <th>ENCARGADO</th>\n",
       "      <td>9381</td>\n",
       "    </tr>\n",
       "    <tr>\n",
       "      <th>ENFERMERO</th>\n",
       "      <td>14146</td>\n",
       "    </tr>\n",
       "    <tr>\n",
       "      <th>INDEPENDIENTE</th>\n",
       "      <td>58872</td>\n",
       "    </tr>\n",
       "    <tr>\n",
       "      <th>JEFE</th>\n",
       "      <td>19007</td>\n",
       "    </tr>\n",
       "    <tr>\n",
       "      <th>JUBILADO</th>\n",
       "      <td>349071</td>\n",
       "    </tr>\n",
       "    <tr>\n",
       "      <th>MAESTRANZA</th>\n",
       "      <td>66164</td>\n",
       "    </tr>\n",
       "    <tr>\n",
       "      <th>MEDICO</th>\n",
       "      <td>690</td>\n",
       "    </tr>\n",
       "    <tr>\n",
       "      <th>MOZO</th>\n",
       "      <td>3588</td>\n",
       "    </tr>\n",
       "    <tr>\n",
       "      <th>OPERARIO</th>\n",
       "      <td>155148</td>\n",
       "    </tr>\n",
       "    <tr>\n",
       "      <th>PEONEMBARCADOS</th>\n",
       "      <td>942</td>\n",
       "    </tr>\n",
       "    <tr>\n",
       "      <th>PORTEROCONSERJ</th>\n",
       "      <td>5313</td>\n",
       "    </tr>\n",
       "    <tr>\n",
       "      <th>PRESGARANTIA</th>\n",
       "      <td>7239</td>\n",
       "    </tr>\n",
       "    <tr>\n",
       "      <th>PRESTCREDITO</th>\n",
       "      <td>55683</td>\n",
       "    </tr>\n",
       "    <tr>\n",
       "      <th>PROFESTECNICO</th>\n",
       "      <td>45792</td>\n",
       "    </tr>\n",
       "    <tr>\n",
       "      <th>PROPIETARIO</th>\n",
       "      <td>108801</td>\n",
       "    </tr>\n",
       "    <tr>\n",
       "      <th>SIN DATOS</th>\n",
       "      <td>2044855</td>\n",
       "    </tr>\n",
       "    <tr>\n",
       "      <th>VENDEDORPROMOT</th>\n",
       "      <td>41980</td>\n",
       "    </tr>\n",
       "    <tr>\n",
       "      <th>VIGILADOR</th>\n",
       "      <td>10437</td>\n",
       "    </tr>\n",
       "  </tbody>\n",
       "</table>\n",
       "</div>"
      ],
      "text/plain": [
       "                               0\n",
       "cargo_descripcion_histo         \n",
       "ADMINISTRATIVO            198845\n",
       "CAJERO                     15636\n",
       "CHOFER                     36165\n",
       "COCINERO                    2829\n",
       "DOCENTE                   233485\n",
       "EMPDE COMERCIO            500519\n",
       "EMPSEGPUBLICA             107489\n",
       "ENCARGADO                   9381\n",
       "ENFERMERO                  14146\n",
       "INDEPENDIENTE              58872\n",
       "JEFE                       19007\n",
       "JUBILADO                  349071\n",
       "MAESTRANZA                 66164\n",
       "MEDICO                       690\n",
       "MOZO                        3588\n",
       "OPERARIO                  155148\n",
       "PEONEMBARCADOS               942\n",
       "PORTEROCONSERJ              5313\n",
       "PRESGARANTIA                7239\n",
       "PRESTCREDITO               55683\n",
       "PROFESTECNICO              45792\n",
       "PROPIETARIO               108801\n",
       "SIN DATOS                2044855\n",
       "VENDEDORPROMOT             41980\n",
       "VIGILADOR                  10437"
      ]
     },
     "execution_count": 54,
     "metadata": {},
     "output_type": "execute_result"
    }
   ],
   "source": [
    "df[['cargo_descripcion_histo']].groupby(by=['cargo_descripcion_histo']).size().to_frame()"
   ]
  },
  {
   "cell_type": "markdown",
   "id": "d40470d0-3950-4345-b6cd-f361e7b5e17d",
   "metadata": {},
   "source": [
    "Decidimos reagrupar en las siguientes categorías:\n",
    "* Sector Salud: Enfermero, Medico.\n",
    "* Sector Educativo: Docente, Profestecnico\n",
    "* Sector Seguridad: EmpSegPublica, PorteroConserj, Vigilador\n",
    "* Sector Financiero: PRESGARANTIA, PRESTCREDITO\n",
    "* Sector Gastronómico: Cocinero, Mozo\n",
    "* Sector Comercio: Administrativo, Cajero, EMPDE COMERCIO, Maestranza, Jefe, Encargado, VENDEDORPROMOT\n",
    "* Sector Operativo: Chofer, Independiente, Operario, PEONEMBARCADOS, Propietario.\n",
    "* Sector No Operativo: Jubilados.\n",
    "* Sin Datos: Sin Datos."
   ]
  },
  {
   "cell_type": "markdown",
   "id": "d2eaeeb7-fc13-4a6d-a62f-f7c45520938e",
   "metadata": {},
   "source": [
    "A los efectos de tener un numero representativo de casos dentro de cada categoria, decidimos incluir al sector Gastronomico dentro de Comercio."
   ]
  },
  {
   "cell_type": "code",
   "execution_count": 55,
   "id": "d7b219f6-24d0-47a7-81bc-affc49f9f6f5",
   "metadata": {},
   "outputs": [],
   "source": [
    "sec_salud = ['ENFERMERO','MEDICO']\n",
    "sec_edu = ['DOCENTE','PROFESTECNICO']\n",
    "sec_seg = ['EMPSEGPUBLICA','PORTEROCONSERJ','VIGILADOR']\n",
    "sec_fin = ['PRESGARANTIA','PRESTCREDITO']\n",
    "sec_Emp_Com = ['ADMINISTRATIVO','CAJERO','EMPDE COMERCIO','MAESTRANZA','JEFE','ENCARGADO','VENDEDORPROMOT', 'COCINERO','MOZO']\n",
    "sec_ope = ['CHOFER','INDEPENDIENTE','OPERARIO','PEONEMBARCADOS','PROPIETARIO']\n",
    "sec_no_ope = ['JUBILADO']\n",
    "sec_sd = ['SIN DATOS']\n",
    "\n",
    "df.loc[df['cargo_descripcion_histo'].str.contains('|'.join(sec_salud)),'cargo_sector_desc_hist'] = 'Sector_Salud'\n",
    "df.loc[df['cargo_descripcion_histo'].str.contains('|'.join(sec_edu)),'cargo_sector_desc_hist'] = 'Sector_Educativo'\n",
    "df.loc[df['cargo_descripcion_histo'].str.contains('|'.join(sec_seg)),'cargo_sector_desc_hist'] = 'Sector_Seguridad'\n",
    "df.loc[df['cargo_descripcion_histo'].str.contains('|'.join(sec_fin)),'cargo_sector_desc_hist'] = 'Sector_Financiero'\n",
    "df.loc[df['cargo_descripcion_histo'].str.contains('|'.join(sec_Emp_Com)),'cargo_sector_desc_hist'] = 'Sector_Empleado_Comercio'\n",
    "df.loc[df['cargo_descripcion_histo'].str.contains('|'.join(sec_ope)),'cargo_sector_desc_hist'] = 'Sector_Operativo'\n",
    "df.loc[df['cargo_descripcion_histo'].str.contains('|'.join(sec_no_ope)),'cargo_sector_desc_hist'] = 'Sector_No_Operativo'\n",
    "df.loc[df['cargo_descripcion_histo'].str.contains('|'.join(sec_sd)),'cargo_sector_desc_hist'] = 'Sector_Sin_Datos'"
   ]
  },
  {
   "cell_type": "code",
   "execution_count": 56,
   "id": "98857996-0fd5-420c-ae7d-9052c34c55e5",
   "metadata": {},
   "outputs": [
    {
     "data": {
      "text/html": [
       "<div>\n",
       "<style scoped>\n",
       "    .dataframe tbody tr th:only-of-type {\n",
       "        vertical-align: middle;\n",
       "    }\n",
       "\n",
       "    .dataframe tbody tr th {\n",
       "        vertical-align: top;\n",
       "    }\n",
       "\n",
       "    .dataframe thead th {\n",
       "        text-align: right;\n",
       "    }\n",
       "</style>\n",
       "<table border=\"1\" class=\"dataframe\">\n",
       "  <thead>\n",
       "    <tr style=\"text-align: right;\">\n",
       "      <th></th>\n",
       "      <th>cargo_descripcion_histo</th>\n",
       "      <th>cargo_sector_desc_hist</th>\n",
       "    </tr>\n",
       "  </thead>\n",
       "  <tbody>\n",
       "    <tr>\n",
       "      <th>0</th>\n",
       "      <td>EMPDE COMERCIO</td>\n",
       "      <td>Sector_Empleado_Comercio</td>\n",
       "    </tr>\n",
       "    <tr>\n",
       "      <th>1</th>\n",
       "      <td>SIN DATOS</td>\n",
       "      <td>Sector_Sin_Datos</td>\n",
       "    </tr>\n",
       "    <tr>\n",
       "      <th>6</th>\n",
       "      <td>ENFERMERO</td>\n",
       "      <td>Sector_Salud</td>\n",
       "    </tr>\n",
       "    <tr>\n",
       "      <th>552</th>\n",
       "      <td>INDEPENDIENTE</td>\n",
       "      <td>Sector_Operativo</td>\n",
       "    </tr>\n",
       "    <tr>\n",
       "      <th>897</th>\n",
       "      <td>EMPSEGPUBLICA</td>\n",
       "      <td>Sector_Seguridad</td>\n",
       "    </tr>\n",
       "    <tr>\n",
       "      <th>1242</th>\n",
       "      <td>DOCENTE</td>\n",
       "      <td>Sector_Educativo</td>\n",
       "    </tr>\n",
       "    <tr>\n",
       "      <th>1245</th>\n",
       "      <td>ADMINISTRATIVO</td>\n",
       "      <td>Sector_Empleado_Comercio</td>\n",
       "    </tr>\n",
       "    <tr>\n",
       "      <th>1729</th>\n",
       "      <td>VIGILADOR</td>\n",
       "      <td>Sector_Seguridad</td>\n",
       "    </tr>\n",
       "    <tr>\n",
       "      <th>2627</th>\n",
       "      <td>OPERARIO</td>\n",
       "      <td>Sector_Operativo</td>\n",
       "    </tr>\n",
       "    <tr>\n",
       "      <th>2629</th>\n",
       "      <td>MAESTRANZA</td>\n",
       "      <td>Sector_Empleado_Comercio</td>\n",
       "    </tr>\n",
       "    <tr>\n",
       "      <th>2633</th>\n",
       "      <td>PROPIETARIO</td>\n",
       "      <td>Sector_Operativo</td>\n",
       "    </tr>\n",
       "    <tr>\n",
       "      <th>2634</th>\n",
       "      <td>ENCARGADO</td>\n",
       "      <td>Sector_Empleado_Comercio</td>\n",
       "    </tr>\n",
       "    <tr>\n",
       "      <th>2658</th>\n",
       "      <td>VENDEDORPROMOT</td>\n",
       "      <td>Sector_Empleado_Comercio</td>\n",
       "    </tr>\n",
       "    <tr>\n",
       "      <th>2674</th>\n",
       "      <td>CHOFER</td>\n",
       "      <td>Sector_Operativo</td>\n",
       "    </tr>\n",
       "    <tr>\n",
       "      <th>2676</th>\n",
       "      <td>JUBILADO</td>\n",
       "      <td>Sector_No_Operativo</td>\n",
       "    </tr>\n",
       "    <tr>\n",
       "      <th>2695</th>\n",
       "      <td>PEONEMBARCADOS</td>\n",
       "      <td>Sector_Operativo</td>\n",
       "    </tr>\n",
       "    <tr>\n",
       "      <th>2701</th>\n",
       "      <td>PRESTCREDITO</td>\n",
       "      <td>Sector_Financiero</td>\n",
       "    </tr>\n",
       "    <tr>\n",
       "      <th>2750</th>\n",
       "      <td>PROFESTECNICO</td>\n",
       "      <td>Sector_Educativo</td>\n",
       "    </tr>\n",
       "    <tr>\n",
       "      <th>24650</th>\n",
       "      <td>MOZO</td>\n",
       "      <td>Sector_Empleado_Comercio</td>\n",
       "    </tr>\n",
       "    <tr>\n",
       "      <th>120720</th>\n",
       "      <td>CAJERO</td>\n",
       "      <td>Sector_Empleado_Comercio</td>\n",
       "    </tr>\n",
       "    <tr>\n",
       "      <th>299282</th>\n",
       "      <td>PORTEROCONSERJ</td>\n",
       "      <td>Sector_Seguridad</td>\n",
       "    </tr>\n",
       "    <tr>\n",
       "      <th>299596</th>\n",
       "      <td>JEFE</td>\n",
       "      <td>Sector_Empleado_Comercio</td>\n",
       "    </tr>\n",
       "    <tr>\n",
       "      <th>465988</th>\n",
       "      <td>PRESGARANTIA</td>\n",
       "      <td>Sector_Financiero</td>\n",
       "    </tr>\n",
       "    <tr>\n",
       "      <th>466020</th>\n",
       "      <td>COCINERO</td>\n",
       "      <td>Sector_Empleado_Comercio</td>\n",
       "    </tr>\n",
       "    <tr>\n",
       "      <th>1898904</th>\n",
       "      <td>MEDICO</td>\n",
       "      <td>Sector_Salud</td>\n",
       "    </tr>\n",
       "  </tbody>\n",
       "</table>\n",
       "</div>"
      ],
      "text/plain": [
       "        cargo_descripcion_histo    cargo_sector_desc_hist\n",
       "0                EMPDE COMERCIO  Sector_Empleado_Comercio\n",
       "1                     SIN DATOS          Sector_Sin_Datos\n",
       "6                     ENFERMERO              Sector_Salud\n",
       "552               INDEPENDIENTE          Sector_Operativo\n",
       "897               EMPSEGPUBLICA          Sector_Seguridad\n",
       "1242                    DOCENTE          Sector_Educativo\n",
       "1245             ADMINISTRATIVO  Sector_Empleado_Comercio\n",
       "1729                  VIGILADOR          Sector_Seguridad\n",
       "2627                   OPERARIO          Sector_Operativo\n",
       "2629                 MAESTRANZA  Sector_Empleado_Comercio\n",
       "2633                PROPIETARIO          Sector_Operativo\n",
       "2634                  ENCARGADO  Sector_Empleado_Comercio\n",
       "2658             VENDEDORPROMOT  Sector_Empleado_Comercio\n",
       "2674                     CHOFER          Sector_Operativo\n",
       "2676                   JUBILADO       Sector_No_Operativo\n",
       "2695             PEONEMBARCADOS          Sector_Operativo\n",
       "2701               PRESTCREDITO         Sector_Financiero\n",
       "2750              PROFESTECNICO          Sector_Educativo\n",
       "24650                      MOZO  Sector_Empleado_Comercio\n",
       "120720                   CAJERO  Sector_Empleado_Comercio\n",
       "299282           PORTEROCONSERJ          Sector_Seguridad\n",
       "299596                     JEFE  Sector_Empleado_Comercio\n",
       "465988             PRESGARANTIA         Sector_Financiero\n",
       "466020                 COCINERO  Sector_Empleado_Comercio\n",
       "1898904                  MEDICO              Sector_Salud"
      ]
     },
     "execution_count": 56,
     "metadata": {},
     "output_type": "execute_result"
    }
   ],
   "source": [
    "df[['cargo_descripcion_histo','cargo_sector_desc_hist']].drop_duplicates()"
   ]
  },
  {
   "cell_type": "code",
   "execution_count": 57,
   "id": "ea6e5a88-50d1-4421-ad25-e046366cfba0",
   "metadata": {},
   "outputs": [
    {
     "data": {
      "text/html": [
       "<div>\n",
       "<style scoped>\n",
       "    .dataframe tbody tr th:only-of-type {\n",
       "        vertical-align: middle;\n",
       "    }\n",
       "\n",
       "    .dataframe tbody tr th {\n",
       "        vertical-align: top;\n",
       "    }\n",
       "\n",
       "    .dataframe thead th {\n",
       "        text-align: right;\n",
       "    }\n",
       "</style>\n",
       "<table border=\"1\" class=\"dataframe\">\n",
       "  <thead>\n",
       "    <tr style=\"text-align: right;\">\n",
       "      <th></th>\n",
       "      <th>0</th>\n",
       "    </tr>\n",
       "    <tr>\n",
       "      <th>cargo_sector_desc_hist</th>\n",
       "      <th></th>\n",
       "    </tr>\n",
       "  </thead>\n",
       "  <tbody>\n",
       "    <tr>\n",
       "      <th>Sector_Sin_Datos</th>\n",
       "      <td>2044855</td>\n",
       "    </tr>\n",
       "    <tr>\n",
       "      <th>Sector_Empleado_Comercio</th>\n",
       "      <td>857949</td>\n",
       "    </tr>\n",
       "    <tr>\n",
       "      <th>Sector_Operativo</th>\n",
       "      <td>359928</td>\n",
       "    </tr>\n",
       "    <tr>\n",
       "      <th>Sector_No_Operativo</th>\n",
       "      <td>349071</td>\n",
       "    </tr>\n",
       "    <tr>\n",
       "      <th>Sector_Educativo</th>\n",
       "      <td>279277</td>\n",
       "    </tr>\n",
       "    <tr>\n",
       "      <th>Sector_Seguridad</th>\n",
       "      <td>123239</td>\n",
       "    </tr>\n",
       "    <tr>\n",
       "      <th>Sector_Financiero</th>\n",
       "      <td>62922</td>\n",
       "    </tr>\n",
       "    <tr>\n",
       "      <th>Sector_Salud</th>\n",
       "      <td>14836</td>\n",
       "    </tr>\n",
       "  </tbody>\n",
       "</table>\n",
       "</div>"
      ],
      "text/plain": [
       "                                0\n",
       "cargo_sector_desc_hist           \n",
       "Sector_Sin_Datos          2044855\n",
       "Sector_Empleado_Comercio   857949\n",
       "Sector_Operativo           359928\n",
       "Sector_No_Operativo        349071\n",
       "Sector_Educativo           279277\n",
       "Sector_Seguridad           123239\n",
       "Sector_Financiero           62922\n",
       "Sector_Salud                14836"
      ]
     },
     "execution_count": 57,
     "metadata": {},
     "output_type": "execute_result"
    }
   ],
   "source": [
    "df[['cargo_sector_desc_hist']].groupby(by=['cargo_sector_desc_hist']).size().to_frame().sort_values(by=0, ascending=False)"
   ]
  },
  {
   "cell_type": "markdown",
   "id": "8cc10ff2-9aba-4796-8251-843573fc0117",
   "metadata": {},
   "source": [
    "-----"
   ]
  },
  {
   "cell_type": "markdown",
   "id": "b2321e55-1c92-4ccc-8fe5-e3da8a013153",
   "metadata": {},
   "source": [
    "## 2 Data Enrichment"
   ]
  },
  {
   "cell_type": "markdown",
   "id": "08dc2ade-004d-406e-a61a-08a09c7f638c",
   "metadata": {},
   "source": [
    "### 2.1. Cálculo de la edad de la persona"
   ]
  },
  {
   "cell_type": "markdown",
   "id": "5ff6b425-62a7-485b-b73b-c74fd08075ca",
   "metadata": {},
   "source": [
    "El cálculo de la edad se debe efectuar con las columnas **fecha_nacimiento** y **fecha_cupon_movimiento**."
   ]
  },
  {
   "cell_type": "code",
   "execution_count": 58,
   "id": "13af4c3f-7b0e-428a-a3b2-142c2eff13f7",
   "metadata": {},
   "outputs": [],
   "source": [
    "df['edad_cliente'] = ((df['fecha_cupon_movimiento'] - df['fecha_nacimiento'])/np.timedelta64(1, 'Y')).round(0)\n",
    "df.edad_cliente = df.edad_cliente.astype('Int64', errors='ignore')"
   ]
  },
  {
   "cell_type": "code",
   "execution_count": 59,
   "id": "306cc269-0868-4e18-ac49-400ab0d85523",
   "metadata": {},
   "outputs": [
    {
     "data": {
      "text/plain": [
       "0          61\n",
       "1          29\n",
       "2          28\n",
       "3          40\n",
       "4          36\n",
       "           ..\n",
       "4092072    45\n",
       "4092073    45\n",
       "4092074    45\n",
       "4092075    45\n",
       "4092076    45\n",
       "Name: edad_cliente, Length: 4092077, dtype: Int64"
      ]
     },
     "execution_count": 59,
     "metadata": {},
     "output_type": "execute_result"
    }
   ],
   "source": [
    "df.edad_cliente"
   ]
  },
  {
   "cell_type": "code",
   "execution_count": 60,
   "id": "a078bbf4-d0f8-4d9b-a490-d0f5e928e244",
   "metadata": {},
   "outputs": [
    {
     "data": {
      "text/plain": [
       "count    4081526.00\n",
       "mean          49.68\n",
       "std           15.13\n",
       "min           19.00\n",
       "25%           37.00\n",
       "50%           47.00\n",
       "75%           62.00\n",
       "max          110.00\n",
       "Name: edad_cliente, dtype: float64"
      ]
     },
     "execution_count": 60,
     "metadata": {},
     "output_type": "execute_result"
    }
   ],
   "source": [
    "df.edad_cliente.describe().round(2)"
   ]
  },
  {
   "cell_type": "markdown",
   "id": "40af787a-3d60-49e2-9379-9249f11b54b8",
   "metadata": {},
   "source": [
    "Los casos nulos corresponden a clientes sin datos de fecha de nacimiento. Esto sera tratado en el apartado de analisis de datos nulos."
   ]
  },
  {
   "cell_type": "code",
   "execution_count": 61,
   "id": "1d48cae9-4638-4588-97d4-1487f98d1ff4",
   "metadata": {},
   "outputs": [
    {
     "data": {
      "text/plain": [
       "10551"
      ]
     },
     "execution_count": 61,
     "metadata": {},
     "output_type": "execute_result"
    }
   ],
   "source": [
    "df.edad_cliente.isna().sum()"
   ]
  },
  {
   "cell_type": "markdown",
   "id": "a20b3c2a-4d98-41a7-ab0b-3c27a193b0e0",
   "metadata": {},
   "source": [
    "### 2.2 Cálculo de la antigüedad de la persona"
   ]
  },
  {
   "cell_type": "markdown",
   "id": "6f899560-0a50-4b52-9cce-2640d3e1c0bb",
   "metadata": {},
   "source": [
    "El cálculo de la antigüedad del cliente se debe realizar con las columnas **fecha_cupon_movimiento** y **fecha_de_ingreso_histo**"
   ]
  },
  {
   "cell_type": "code",
   "execution_count": 62,
   "id": "1c742899-a477-4bcd-ae14-bf626efbe5ed",
   "metadata": {},
   "outputs": [
    {
     "data": {
      "text/plain": [
       "0           92\n",
       "1            2\n",
       "2           95\n",
       "3          151\n",
       "4           86\n",
       "          ... \n",
       "4092072    260\n",
       "4092073    260\n",
       "4092074    260\n",
       "4092075    260\n",
       "4092076    260\n",
       "Name: antig_cliente, Length: 4092077, dtype: int64"
      ]
     },
     "execution_count": 62,
     "metadata": {},
     "output_type": "execute_result"
    }
   ],
   "source": [
    "df['antig_cliente']= ((df['fecha_cupon_movimiento'] - df['fecha_de_ingreso_histo'])/np.timedelta64(1, 'M'))\n",
    "df['antig_cliente']= df.antig_cliente.apply(int)\n",
    "df.antig_cliente"
   ]
  },
  {
   "cell_type": "code",
   "execution_count": 63,
   "id": "84f28414-65d4-40bf-8dac-f6056877957e",
   "metadata": {},
   "outputs": [
    {
     "data": {
      "text/plain": [
       "count    4092077.00\n",
       "mean         112.62\n",
       "std           79.23\n",
       "min            0.00\n",
       "25%           47.00\n",
       "50%           97.00\n",
       "75%          169.00\n",
       "max          390.00\n",
       "Name: antig_cliente, dtype: float64"
      ]
     },
     "execution_count": 63,
     "metadata": {},
     "output_type": "execute_result"
    }
   ],
   "source": [
    "df.antig_cliente.describe().round(2)"
   ]
  },
  {
   "cell_type": "markdown",
   "id": "7302ad9c-11c9-4cfe-bea2-148b5361506f",
   "metadata": {},
   "source": [
    "### 2.3 Reagrupamiento de **nombre_comercio_histo**"
   ]
  },
  {
   "cell_type": "code",
   "execution_count": 64,
   "id": "1ec13f8d-dc48-4452-b0cc-ad1d2e1d11fe",
   "metadata": {
    "tags": []
   },
   "outputs": [],
   "source": [
    "df.id_comercio_movimiento = df.id_comercio_movimiento.astype(str)"
   ]
  },
  {
   "cell_type": "code",
   "execution_count": 65,
   "id": "ba0c3aa2-b140-4a5f-b57f-c7ea130b6bc1",
   "metadata": {
    "tags": []
   },
   "outputs": [
    {
     "data": {
      "text/plain": [
       "9    2100599\n",
       "8    1991478\n",
       "Name: id_comercio_movimiento, dtype: int64"
      ]
     },
     "execution_count": 65,
     "metadata": {},
     "output_type": "execute_result"
    }
   ],
   "source": [
    "df['id_comercio_movimiento'].str.len().value_counts()"
   ]
  },
  {
   "cell_type": "code",
   "execution_count": 66,
   "id": "ea66a570-97e7-4cb5-bb2b-9cb31075f2b5",
   "metadata": {
    "tags": []
   },
   "outputs": [],
   "source": [
    "df['id_comercio_movimiento'] = df['id_comercio_movimiento'].str.zfill(9)"
   ]
  },
  {
   "cell_type": "code",
   "execution_count": 67,
   "id": "23b69dd1-c65b-46bf-9e2a-130f6d35eb85",
   "metadata": {
    "tags": []
   },
   "outputs": [
    {
     "data": {
      "text/plain": [
       "9    4092077\n",
       "Name: id_comercio_movimiento, dtype: int64"
      ]
     },
     "execution_count": 67,
     "metadata": {},
     "output_type": "execute_result"
    }
   ],
   "source": [
    "df['id_comercio_movimiento'].str.len().value_counts()"
   ]
  },
  {
   "cell_type": "code",
   "execution_count": null,
   "id": "1cad7e53-2f28-458a-b3f6-90037de34a33",
   "metadata": {
    "tags": []
   },
   "outputs": [],
   "source": [
    "def func(row):\n",
    "    return row.id_comercio_movimiento[0:3]\n",
    "\n",
    "df['comercio_cat'] = df.apply(func, axis=1) # Categorizar"
   ]
  },
  {
   "cell_type": "code",
   "execution_count": null,
   "id": "5ac8f61a-6aeb-4033-b998-cf6ced893607",
   "metadata": {
    "tags": []
   },
   "outputs": [],
   "source": [
    "# Visualizar la columna de comercios recategorizada, segun cuantos id_comercios y cuantas transacciones se abarcan.\n",
    "df_comercios = df['comercio_cat'].value_counts().to_frame().reset_index().rename(\n",
    "                                    {'index':'comercio_cat',\n",
    "                                     'comercio_cat':'frecuencia_ts'}, axis=1)\n",
    "\n",
    "df_com_freq = pd.DataFrame(df.groupby(['comercio_cat'])['id_comercio_movimiento'].nunique().sort_values(ascending=True)) \\\n",
    "                            .reset_index().rename({\n",
    "                                'id_comercio_movimiento':'frecuencia_idcom'\n",
    "                            }, axis=1)\n",
    "df_com_freq = df_com_freq.merge(df_comercios, on='comercio_cat', how='inner')\n",
    "df_com_freq\n",
    "\n",
    "#with pd.option_context('display.max_rows', None, 'display.max_columns', None):  # more options can be specified also\n",
    "#    print(df_com_freq.sort_values(by='comercio_cat'))"
   ]
  },
  {
   "cell_type": "code",
   "execution_count": null,
   "id": "d36ab202-5991-4689-89f1-edfbb62b2d4b",
   "metadata": {},
   "outputs": [],
   "source": [
    "print(\"Cantidad de id comercios:\", df.id_comercio_movimiento.nunique())\n",
    "print(\"Cantidad de categorias de id comercios:\", df_comercios.comercio_cat.nunique())"
   ]
  },
  {
   "cell_type": "markdown",
   "id": "3ee33d2b-c0c4-4260-95e0-9ef7e7974b38",
   "metadata": {},
   "source": [
    "Agrupamos la columna **nombre_comercio_histo** utilizando los primeros tres dígitos de **id_comercio_movimiento**. Usamos este criterio teniendo en cuenta el enfoque que usa Naranja para agrupar los comercios. Esto da como resultado 210 categorias.\n",
    "\n",
    "Creemos que es posible continuar reagrupando, sin embargo no contamos actualmente con un metodo adecuado y eficiente para realizar esto. Llegado el momento de entrenar un modelo de ML, se volverá a evaluar si esta categorización ha sido realizada de manera correcta, o si es necesario aplicar mas criterios para reagrupar. "
   ]
  },
  {
   "cell_type": "markdown",
   "id": "81e4e3b8-3a81-4b6e-9b72-1fb445429d84",
   "metadata": {},
   "source": [
    "### 2.4 Consideración para reagrupar columnas **nombre_local_histo** y **cargo_descripcion_histo**"
   ]
  },
  {
   "cell_type": "code",
   "execution_count": null,
   "id": "54e2e508-578d-4ac4-883b-c254019f7a26",
   "metadata": {},
   "outputs": [],
   "source": [
    "print('Porcentaje de valores nulos en nombre_local_histo:', \"{:.0%}\".format(df.nombre_local_histo.isna().sum() / len(df)))"
   ]
  },
  {
   "cell_type": "markdown",
   "id": "9b708f49-2401-4b01-8305-3add77be0161",
   "metadata": {},
   "source": [
    "Respecto de la columna **nombre_local_histo**, podemos observar que tiene un alto porcentaje de valores en nulo (94%), por lo cual no se justifica realizar un reagrupamiento sobre la misma."
   ]
  },
  {
   "cell_type": "markdown",
   "id": "05e96f43-d497-4f6c-b6c2-7950430e093f",
   "metadata": {},
   "source": [
    "La columna **cargo_descripcion_histo** fue reagrupada en el punto 1.6"
   ]
  },
  {
   "cell_type": "markdown",
   "id": "151e8ecc-a366-47b3-b56a-e82551f3fdde",
   "metadata": {},
   "source": [
    "-----"
   ]
  },
  {
   "cell_type": "markdown",
   "id": "bf60abdd-107a-4eaa-bd8e-cb1b001a13f0",
   "metadata": {},
   "source": [
    "### 3.1 Análisis de Datos Nulos"
   ]
  },
  {
   "cell_type": "code",
   "execution_count": null,
   "id": "25aeb966-9493-4aab-9c24-22f55ed14603",
   "metadata": {},
   "outputs": [],
   "source": [
    "missing_values_count = df.isna().sum()\n",
    "missing_values_count"
   ]
  },
  {
   "cell_type": "code",
   "execution_count": null,
   "id": "84341652-9d78-4027-9418-f065e815cf15",
   "metadata": {},
   "outputs": [],
   "source": [
    "ax = msno.bar(df,figsize=(15, 6), fontsize=12, color='steelblue')\n",
    "ax.tick_params('x', rotation=90)"
   ]
  },
  {
   "cell_type": "code",
   "execution_count": null,
   "id": "1653f689-3a7a-43f4-8de5-49eadf28f180",
   "metadata": {},
   "outputs": [],
   "source": [
    "# how many total missing values do we have?\n",
    "total_cells = np.product(df.shape)\n",
    "total_missing = missing_values_count.sum()\n",
    "\n",
    "# percent of data that is missing\n",
    "print('Porcentaje de valores en nulo:',\"{:.0%}\".format(total_missing/total_cells))"
   ]
  },
  {
   "cell_type": "code",
   "execution_count": null,
   "id": "e41ac821-a698-46ec-b0f3-8ecd06bd74bc",
   "metadata": {},
   "outputs": [],
   "source": [
    "#usamos sample porque da error con todo el datas\n",
    "df_ms = df.sample(10000)\n",
    "ax = msno.matrix(df_ms,figsize=(15, 6),fontsize=12)\n",
    "ax.tick_params('x', rotation=90)"
   ]
  },
  {
   "cell_type": "markdown",
   "id": "68031eff-85d1-445a-9bcf-2f4dae96e7b7",
   "metadata": {
    "tags": []
   },
   "source": [
    "Se puede observar cierta sistematicidad en la pérdida de valores relacionados a datos personales de los clientes. A continuación procedemos a analizar cada columna con valores faltantes."
   ]
  },
  {
   "cell_type": "markdown",
   "id": "be379f69-8a3d-4f3f-95cc-287b7160798d",
   "metadata": {},
   "source": [
    "#### Fecha carga sistema movimiento"
   ]
  },
  {
   "cell_type": "code",
   "execution_count": null,
   "id": "26e201ac-0ce2-45ee-aaaa-9e5ab4f5a934",
   "metadata": {
    "tags": []
   },
   "outputs": [],
   "source": [
    "print('fecha_cupon vs fecha_carga:')\n",
    "df[\"fecha_cupon_movimiento\"].dt.date.corr(\n",
    "    df[\"fecha_carga_sistema_movimiento\"].dt.date, method = 'spearman', min_periods = 1)"
   ]
  },
  {
   "cell_type": "markdown",
   "id": "bea19503-ab6e-4f2b-a831-3fcb4d01dcb1",
   "metadata": {
    "tags": []
   },
   "source": [
    "A la hora de evaluar la reimputación de valores nulos en esta columna, decidimos, en primer lugar, considerar la utilidad que podriamos llegar a darle en un futuro. Al calcular su correlación con la columna **fecha_cupon_movimiento**, podemos observar que tienen una relación lineal fuerte, por lo cual decidimos no tener en cuenta esta columna para analisis posteriores."
   ]
  },
  {
   "cell_type": "code",
   "execution_count": null,
   "id": "7c33b600-e763-4baf-8dc9-b2640495d511",
   "metadata": {
    "tags": []
   },
   "outputs": [],
   "source": [
    "df.drop('fecha_carga_sistema_movimiento', axis=1, inplace=True)"
   ]
  },
  {
   "cell_type": "markdown",
   "id": "3982bc88-0d0c-443e-a921-756624c51e46",
   "metadata": {},
   "source": [
    "#### Tipo_prestamo_movimiento, Nombre_local_histo y Fecha_extraccion_movimiento "
   ]
  },
  {
   "cell_type": "markdown",
   "id": "f02d1990-b171-4415-88fe-46c5afab5934",
   "metadata": {},
   "source": [
    "Las variables tipo_prestamo_movimiento, nombre_local_histo y fecha_extraccion_movimiento poseen una pérdida muy alta de valores (fecha extracción tiene todos valores nulos), por lo cuál la mejor decisión seria no tenerlas en cuenta en los siguientes análisis."
   ]
  },
  {
   "cell_type": "code",
   "execution_count": null,
   "id": "824ca5f7-1dd6-4e37-a6c0-0386c38353bd",
   "metadata": {},
   "outputs": [],
   "source": [
    "df.drop(columns = ['tipo_prestamo_movimiento','nombre_local_histo','fecha_extraccion_movimiento'], inplace=True)"
   ]
  },
  {
   "cell_type": "markdown",
   "id": "b99ef03e-4738-41e2-830e-7c3ce34e9d80",
   "metadata": {},
   "source": [
    "#### Datos Faltantes Personales de los clientes"
   ]
  },
  {
   "cell_type": "code",
   "execution_count": null,
   "id": "c61312ea-4718-4e60-83ed-8986ebb207ac",
   "metadata": {},
   "outputs": [],
   "source": [
    "col_pers = ['fecha_nacimiento', 'pais', 'domicilio_codigo_postal', 'sexo_descripcion',\n",
    "           'provincia', 'dni_titular_movimiento', 'ciudad', 'edad_cliente', 'domicilio_barrio']"
   ]
  },
  {
   "cell_type": "code",
   "execution_count": null,
   "id": "369856e3-5e83-4fe7-b7cf-cdcf9b96351b",
   "metadata": {},
   "outputs": [],
   "source": [
    "df_faltante_fech= pd.DataFrame(df[df['fecha_nacimiento'].isna()])\n",
    "df_faltante_fech[col_pers].isna().sum()"
   ]
  },
  {
   "cell_type": "code",
   "execution_count": null,
   "id": "5b0f4e7c-9843-41ff-95c7-542a88e086d4",
   "metadata": {},
   "outputs": [],
   "source": [
    "df_faltante_fech.dni_titular_movimiento.value_counts()"
   ]
  },
  {
   "cell_type": "code",
   "execution_count": null,
   "id": "8fa6f1bd-61e7-4cea-a75c-76daf8a65f7f",
   "metadata": {},
   "outputs": [],
   "source": [
    "dni859 = df[(df[\"dni_titular_movimiento\"] ==\"000cde1ad5d8114e7a5dd977930b8835659\")]\n",
    "dni859.shape"
   ]
  },
  {
   "cell_type": "code",
   "execution_count": null,
   "id": "cf7c9fc8-43d1-4e1a-a4f8-740c3d7c12e5",
   "metadata": {},
   "outputs": [],
   "source": [
    "dni804 = df[(df[\"dni_titular_movimiento\"] ==\"000650e8144e3a42d47a21aee9e48f34804\")]\n",
    "dni804.shape"
   ]
  },
  {
   "cell_type": "code",
   "execution_count": null,
   "id": "f6d11757-9b75-4057-b906-76093c7fd991",
   "metadata": {},
   "outputs": [],
   "source": [
    "dni443 = df[(df[\"dni_titular_movimiento\"] ==\"000b0d85fa8a959e2133328830fff990443\")]\n",
    "dni443.shape"
   ]
  },
  {
   "cell_type": "markdown",
   "id": "48d915ab-6478-40e6-b587-ddfe38a4cdc2",
   "metadata": {},
   "source": [
    "Se observa que son 3 los clientes que tienen valores faltantes en las columnas fecha_nacimiento, sexo_descripcion, pais, provincia, ciudad, domicilio_codigo_postal y domicilio_barrio. Corresponden a información personal de los mismos, que no puede ser recuperada de otra forma. Es una pérdida sistemática NMAR."
   ]
  },
  {
   "cell_type": "code",
   "execution_count": null,
   "id": "2487f100-2ef7-4f7e-84e3-16def6727aeb",
   "metadata": {},
   "outputs": [],
   "source": [
    "df_faltante_sexo = pd.DataFrame(df[df['sexo_descripcion'].isna()])\n",
    "df_faltante_sexo[col_pers].isna().sum()"
   ]
  },
  {
   "cell_type": "code",
   "execution_count": null,
   "id": "9a991126-848c-4d5e-8c74-ffb934d1ca79",
   "metadata": {},
   "outputs": [],
   "source": [
    "df_faltante_sexo.dni_titular_movimiento.value_counts()"
   ]
  },
  {
   "cell_type": "code",
   "execution_count": null,
   "id": "30facbe6-38d1-40d5-a9ca-eb49d2a5937d",
   "metadata": {},
   "outputs": [],
   "source": [
    "dni903 = df[(df[\"dni_titular_movimiento\"] ==\"000055175fe76d2c4b0ca52f904b0c0c903\")]\n",
    "dni903.shape"
   ]
  },
  {
   "cell_type": "code",
   "execution_count": null,
   "id": "b7019929-f8dc-4240-9c70-396875878fca",
   "metadata": {},
   "outputs": [],
   "source": [
    "dni471 = df[(df[\"dni_titular_movimiento\"] ==\"00017733df45bb08ee7abd44e6037cf7471\")]\n",
    "dni471.shape"
   ]
  },
  {
   "cell_type": "code",
   "execution_count": null,
   "id": "9d481228-63e2-47d3-8fd0-2bf5461447fe",
   "metadata": {},
   "outputs": [],
   "source": [
    "dni526 = df[(df[\"dni_titular_movimiento\"] ==\"0006e947a6f89a8bcb835ae85c60ff93526\")]\n",
    "dni526.shape"
   ]
  },
  {
   "cell_type": "code",
   "execution_count": null,
   "id": "13a3a031-7da3-4dd3-b1f8-883d595e6f82",
   "metadata": {},
   "outputs": [],
   "source": [
    "dni617 = df[(df[\"dni_titular_movimiento\"] ==\"000e5f85c3a5e3fe6dc1f214f01f55ae617\")]\n",
    "dni617.shape"
   ]
  },
  {
   "cell_type": "markdown",
   "id": "6d905915-8886-476d-9d61-ee9023a35664",
   "metadata": {},
   "source": [
    "Podemos decir que el resto de los dni a los que les falta el dato de sexo_descripcion tambien corresponden a una perdida sistematica, no puediendose recuperar dicho dato."
   ]
  },
  {
   "cell_type": "markdown",
   "id": "3bddd2b8-266b-4ce3-9d6a-5cddba58f577",
   "metadata": {},
   "source": [
    "Procedemos a imputar con 'Sin Datos' a los valores faltantes en la columna sexo_descripcion."
   ]
  },
  {
   "cell_type": "code",
   "execution_count": null,
   "id": "e528a3e7-61b0-420b-9ba3-f6a0925997cf",
   "metadata": {},
   "outputs": [],
   "source": [
    "columna = ['sexo_descripcion']\n",
    "#df['sexo_descripcion']= df.sexo_descripcion.fillna(value=np.nan)\n",
    "const_imputer = SimpleImputer(missing_values= np.nan, strategy='constant',fill_value=\"Sin Datos\") \n",
    "df.loc[ : , columna] = pd.DataFrame(const_imputer.fit_transform(df.loc[:][columna]) , columns = columna)"
   ]
  },
  {
   "cell_type": "code",
   "execution_count": null,
   "id": "b7eeedde-f667-4398-afe9-e3c85ebb25c1",
   "metadata": {},
   "outputs": [],
   "source": [
    "#df['sexo_descripcion'] = df['sexo_descripcion'].astype(str)\n",
    "df['sexo_descripcion'].value_counts()"
   ]
  },
  {
   "cell_type": "markdown",
   "id": "4f13560b-1478-4f6f-9f26-506cfcff6c02",
   "metadata": {},
   "source": [
    "Procedemos a imputar usando IterativeImputer (en su operación por defecto BayesianRigde) la variable edad_cliente. Para imputar usamos las columnas **edad_cliente** y **antig_cliente**."
   ]
  },
  {
   "cell_type": "code",
   "execution_count": null,
   "id": "2ed5154e-8b17-4e30-8581-08fc058853dc",
   "metadata": {},
   "outputs": [],
   "source": [
    "imp = IterativeImputer(max_iter=10, random_state=0)\n",
    "imp_columns = ['edad_cliente', 'antig_cliente']\n",
    "x_train = df[imp_columns]\n",
    "imp.fit(x_train)\n",
    "\n",
    "x_test = df[imp_columns]\n",
    "x_test = np.round(imp.transform(x_test))\n",
    "x_test = pd.DataFrame(x_test, columns=imp_columns)\n",
    "x_test"
   ]
  },
  {
   "cell_type": "code",
   "execution_count": null,
   "id": "eb2221c0-54f5-41b5-aae0-19bbbe8c5f4d",
   "metadata": {},
   "outputs": [],
   "source": [
    "df['edad_cliente'] = x_test['edad_cliente']"
   ]
  },
  {
   "cell_type": "code",
   "execution_count": null,
   "id": "87a67ebf-cae6-4fd7-a0d5-ef018814e654",
   "metadata": {},
   "outputs": [],
   "source": [
    "df['edad_cliente'].describe().round(2)"
   ]
  },
  {
   "cell_type": "markdown",
   "id": "c5d4de86-e782-456a-b5ef-8f7210977c40",
   "metadata": {},
   "source": [
    "La columna fecha_nacimiento se deja sin imputar debido a que su unica finalidad era obtener la edad del cliente. Por lo tanto, no se tiene en cuenta."
   ]
  },
  {
   "cell_type": "code",
   "execution_count": null,
   "id": "6bda1fb5-3101-438c-b88c-24fe210dda53",
   "metadata": {},
   "outputs": [],
   "source": [
    "df.drop('fecha_nacimiento', inplace=True, axis=1)"
   ]
  },
  {
   "cell_type": "markdown",
   "id": "4c12e835-84fa-455d-a8d7-7e0d67d02756",
   "metadata": {},
   "source": [
    "#### Datos Faltantes Geograficos de los clientes"
   ]
  },
  {
   "cell_type": "markdown",
   "id": "e0f54188-00c7-43a7-8fa1-a67f7546ffda",
   "metadata": {},
   "source": [
    "##### Sistematicidad en la pérdida"
   ]
  },
  {
   "cell_type": "code",
   "execution_count": null,
   "id": "c29dd90b-c99f-453b-a641-a3b3998be34f",
   "metadata": {},
   "outputs": [],
   "source": [
    "col_geo = ['domicilio_codigo_postal', 'pais', 'provincia', 'ciudad', 'domicilio_barrio']\n",
    "df[df['domicilio_codigo_postal'].isna()][col_geo].isna().sum()"
   ]
  },
  {
   "cell_type": "code",
   "execution_count": null,
   "id": "c4f98678-b597-45c0-8257-7095c2458c84",
   "metadata": {},
   "outputs": [],
   "source": [
    "df[df['domicilio_codigo_postal'].isna()].dni_titular_movimiento.value_counts()"
   ]
  },
  {
   "cell_type": "code",
   "execution_count": null,
   "id": "005706fd-362a-4915-9e9a-89e295f15221",
   "metadata": {},
   "outputs": [],
   "source": [
    "dni739 = df[(df[\"dni_titular_movimiento\"] ==\"000ca38416fd465eb043954922c6b585739\")]\n",
    "dni739.shape"
   ]
  },
  {
   "cell_type": "code",
   "execution_count": null,
   "id": "d7276348-8ead-44f6-a91e-aa49b25004bc",
   "metadata": {},
   "outputs": [],
   "source": [
    "dni037 = df[(df[\"dni_titular_movimiento\"] ==\"000edf1f0ef2ba6fb1c639c4fb82133b037\")]\n",
    "dni037.shape"
   ]
  },
  {
   "cell_type": "code",
   "execution_count": null,
   "id": "12661bcf-6d96-40ba-8e47-cc27eeac51a7",
   "metadata": {},
   "outputs": [],
   "source": [
    "dni238 = df[(df[\"dni_titular_movimiento\"] ==\"0002ae4acf8215290b73530d4820e198238\")]\n",
    "dni238.shape"
   ]
  },
  {
   "cell_type": "code",
   "execution_count": null,
   "id": "e81842b7-58cb-4f4c-a5fb-229c45fc4016",
   "metadata": {},
   "outputs": [],
   "source": [
    "dni765 = df[(df[\"dni_titular_movimiento\"] ==\"00080a8a903ba92d2a2a4e0cc28fa9d8765\")]\n",
    "dni765.shape"
   ]
  },
  {
   "cell_type": "code",
   "execution_count": null,
   "id": "0f5f0645-d7ff-4bd0-badf-778ba160fa3c",
   "metadata": {},
   "outputs": [],
   "source": [
    "dni339 = df[(df[\"dni_titular_movimiento\"] ==\"0009b382e7c4e4c8ec4a0b0459ca3ff6339\")]\n",
    "dni339.shape"
   ]
  },
  {
   "cell_type": "markdown",
   "id": "5c3b1000-5187-4027-959c-5cf3cbf5e49b",
   "metadata": {},
   "source": [
    "Podemos decir que a los dni que les faltan todos sus datos geográficos corresponden a una pérdida sistemática, la cual no se puede recuperar. "
   ]
  },
  {
   "cell_type": "markdown",
   "id": "55340a52-d093-4981-89b7-e8a35df1afc7",
   "metadata": {},
   "source": [
    "##### Reimputación con datos geográficos presentes"
   ]
  },
  {
   "cell_type": "markdown",
   "id": "bd996ec4-92f8-4ec5-bf01-44ce9e9b8ca6",
   "metadata": {},
   "source": [
    "Intentaremos recuperar las filas donde haya algún dato geográfico presente que permita reimputar los faltantes. Para esto, observamos la cantidad de provincias en nuestro dataframe."
   ]
  },
  {
   "cell_type": "code",
   "execution_count": null,
   "id": "0ac0a73f-6618-4d27-bdf5-758fa78fe7b4",
   "metadata": {},
   "outputs": [],
   "source": [
    "pd.DataFrame({'Provincias': df['provincia'].unique()})\\\n",
    "    .sort_values(by='Provincias',ascending=True)\\\n",
    "    .reset_index().drop(columns=['index'])"
   ]
  },
  {
   "cell_type": "markdown",
   "id": "00a57526-f44a-4017-bb7d-2ad1d0635b6c",
   "metadata": {},
   "source": [
    "Tenemos un total de 24 provincias, el resto son registros NaN."
   ]
  },
  {
   "cell_type": "code",
   "execution_count": null,
   "id": "00ad481f-2444-404a-953e-8ec861b70e31",
   "metadata": {},
   "outputs": [],
   "source": [
    "df['domicilio_codigo_postal'].unique()"
   ]
  },
  {
   "cell_type": "code",
   "execution_count": null,
   "id": "061ca628-e152-4dde-99fe-80500d1c23d5",
   "metadata": {},
   "outputs": [],
   "source": [
    "df[df['domicilio_codigo_postal'].str.len()<4][['pais','provincia','ciudad','domicilio_codigo_postal']].drop_duplicates()"
   ]
  },
  {
   "cell_type": "markdown",
   "id": "12521fcd-7633-404d-829a-eeaf8b7108e8",
   "metadata": {},
   "source": [
    "Observamos que tenemos datos erróneos de código postal con valores de 0 y 400. \n",
    "\n",
    "Analizaremos si podemos recuperar el código postal de la localidad de **Campo Herrera**. El Código Postal en 0 lo imputaremos por NaN."
   ]
  },
  {
   "cell_type": "code",
   "execution_count": null,
   "id": "ffbe9ff4-2933-43a7-aa5c-53a18b2fa5e3",
   "metadata": {},
   "outputs": [],
   "source": [
    "print('Cantidad de filas con Cero:', len(df[df['domicilio_codigo_postal']=='0']))\n",
    "df[df['domicilio_codigo_postal']=='0'].head()"
   ]
  },
  {
   "cell_type": "code",
   "execution_count": null,
   "id": "9be18fb3-a2a0-4f62-b3f3-ffa11d326738",
   "metadata": {},
   "outputs": [],
   "source": [
    "df['domicilio_codigo_postal'] = df['domicilio_codigo_postal'].replace('0',np.nan)\n",
    "df[df['domicilio_codigo_postal']=='0']"
   ]
  },
  {
   "cell_type": "code",
   "execution_count": null,
   "id": "1b834527-8c0f-4374-afef-84888ad6a53f",
   "metadata": {},
   "outputs": [],
   "source": [
    "df['ciudad'] = df['ciudad'].str.strip()\n",
    "print('Cantidad de filas con 400 en el CP:',len(df[df['ciudad'].isin(['CAMPO HERRERA'])]))\n",
    "df[df['ciudad'].isin(['CAMPO HERRERA'])][['pais','provincia','ciudad','domicilio_codigo_postal']].drop_duplicates()"
   ]
  },
  {
   "cell_type": "markdown",
   "id": "4b3fa02f-4bf8-45cf-9645-827a8c4d847b",
   "metadata": {},
   "source": [
    "Obteniendo el dato de una fuente externa, vamos a reemplazar el código postal de la ciudad Campo Herrera en la provincia Tucumán por el valor correcto.\n",
    "\n",
    "Fuente: https://codigo-postal.co/argentina/tucuman/campo-herrera/"
   ]
  },
  {
   "cell_type": "code",
   "execution_count": null,
   "id": "8fada1c3-830d-4f8c-865c-f8b8989fed85",
   "metadata": {},
   "outputs": [],
   "source": [
    "df.loc[df['ciudad'].isin(['CAMPO HERRERA']),'domicilio_codigo_postal'] = '4105'\n",
    "print('Cantidad de filas con 400 en el CP:',len(df[df['ciudad'].isin(['CAMPO HERRERA'])]))\n",
    "df[df['ciudad'].isin(['CAMPO HERRERA'])][['pais','provincia','ciudad','domicilio_codigo_postal']].drop_duplicates()"
   ]
  },
  {
   "cell_type": "code",
   "execution_count": null,
   "id": "7b8807a5-5b80-4014-a0ec-052ce8b4d2e2",
   "metadata": {},
   "outputs": [],
   "source": [
    "df[df['pais'].isnull() == True][['pais','provincia','ciudad','domicilio_codigo_postal','domicilio_barrio']].drop_duplicates()"
   ]
  },
  {
   "cell_type": "markdown",
   "id": "8781ef7f-fde0-45cc-9edb-26d33fbb81f2",
   "metadata": {},
   "source": [
    "Observamos que cuando **pais** es nulo, tambien lo son las variables **provincia** y **ciudad**. Primero vemos si existen datos dentro del dataset con los cuales imputar. "
   ]
  },
  {
   "cell_type": "code",
   "execution_count": null,
   "id": "2a065c3a-d013-4749-9781-ae6aea3122c8",
   "metadata": {},
   "outputs": [],
   "source": [
    "df[(df['domicilio_codigo_postal'].isna()==True) & (df['ciudad'].isna()!=True)]"
   ]
  },
  {
   "cell_type": "code",
   "execution_count": null,
   "id": "cd0e25dc-b9fc-455c-a7ea-7920f0a1eec8",
   "metadata": {},
   "outputs": [],
   "source": [
    "df[(df['domicilio_codigo_postal'].isna()==True) & (df['provincia'].isna()!=True)]"
   ]
  },
  {
   "cell_type": "markdown",
   "id": "46540879-8b46-460f-8f24-1efe0c4226b5",
   "metadata": {},
   "source": [
    "No es posible recuperar el código postal a través de las variables **provincia** o **ciudad**."
   ]
  },
  {
   "cell_type": "code",
   "execution_count": null,
   "id": "a16754e9-58b2-452c-97d5-4e6bf6c7fdf8",
   "metadata": {},
   "outputs": [],
   "source": [
    "df[(df['domicilio_codigo_postal'].isna()!=True) & (df['ciudad'].isna()==True)][['domicilio_codigo_postal','ciudad']].drop_duplicates()"
   ]
  },
  {
   "cell_type": "markdown",
   "id": "0b080180-d577-4db1-9103-0394ab0c4c46",
   "metadata": {},
   "source": [
    "Sin embargo, analizaremos si podemos recuperar los datos de **provincia** y **ciudad** a través de **domicilio_codigo_postal** dentro de nuestro dataset."
   ]
  },
  {
   "cell_type": "code",
   "execution_count": null,
   "id": "12b99a4e-8463-4e24-bad3-b15c3473390b",
   "metadata": {},
   "outputs": [],
   "source": [
    "cp_ciu_nan = df[(df['domicilio_codigo_postal'].isna()!=True) & (df['ciudad'].isna()==True)]['domicilio_codigo_postal'].unique()\n",
    "df[df['domicilio_codigo_postal'].isin(cp_ciu_nan)][['domicilio_codigo_postal','ciudad']]\\\n",
    ".drop_duplicates().sort_values(by=['domicilio_codigo_postal'])"
   ]
  },
  {
   "cell_type": "code",
   "execution_count": null,
   "id": "acaee07b-dd7b-49a4-a823-2c5d54e973e5",
   "metadata": {},
   "outputs": [],
   "source": [
    "df.loc[:,'ciudad'] = df['ciudad'].str.upper()\n",
    "df_dp_cd = df[(df['domicilio_codigo_postal'].isin(cp_ciu_nan)) & (df['ciudad'].isna()==False)]\\\n",
    "            [['domicilio_codigo_postal','ciudad']]\\\n",
    "            .drop_duplicates()\\\n",
    "            .sort_values(by=['domicilio_codigo_postal'])\n",
    "df_dp_cd = df_dp_cd.rename(columns={'ciudad': 'ciudad_0', 'domicilio_codigo_postal': 'cp'})\n",
    "df_dp_cd"
   ]
  },
  {
   "cell_type": "markdown",
   "id": "e1d47712-0222-44b6-bef8-d6a2e1fd739d",
   "metadata": {},
   "source": [
    "Realizamos merge sobre el dataframe creado, e imputamos los datos de ciudad."
   ]
  },
  {
   "cell_type": "code",
   "execution_count": null,
   "id": "57249d40-daad-419e-9196-01c6a6774a08",
   "metadata": {},
   "outputs": [],
   "source": [
    "df = df.merge(df_dp_cd.drop_duplicates(subset=['cp'], keep='first'), \n",
    "              how='left',\n",
    "              left_on = 'domicilio_codigo_postal', \n",
    "              right_on = 'cp')\\\n",
    "            .drop(columns= ['cp'])\n",
    "df.head()"
   ]
  },
  {
   "cell_type": "code",
   "execution_count": null,
   "id": "415f4b55-474f-4c6e-9bd7-7c64dc2c8f81",
   "metadata": {},
   "outputs": [],
   "source": [
    "# Sustituimos los valores nulos de la columna provincia (provincia_x) por las provincias (en mayus) de la columna\n",
    "# provincia creada en la anterior unión.\n",
    "df.loc[df['ciudad'].isnull(), 'ciudad'] = df['ciudad_0'].str.upper()\n",
    "\n",
    "df[(df['domicilio_codigo_postal'].isin(cp_ciu_nan)) & (df['ciudad'].isna()==True)]\\\n",
    "    [['domicilio_codigo_postal','ciudad','ciudad_0']].drop_duplicates().sort_values(by=['domicilio_codigo_postal'])"
   ]
  },
  {
   "cell_type": "code",
   "execution_count": null,
   "id": "e516eb88-9c78-440a-8e67-d14dfaa1d5a4",
   "metadata": {},
   "outputs": [],
   "source": [
    "df = df.drop(columns=['ciudad_0'])"
   ]
  },
  {
   "cell_type": "markdown",
   "id": "b030f129-1bf8-429a-a4f4-c5a707be64ef",
   "metadata": {},
   "source": [
    "Procedemos a imputar **provincia** de la misma manera que **ciudad**."
   ]
  },
  {
   "cell_type": "code",
   "execution_count": null,
   "id": "1d37f79c-ef13-44c6-be24-97cbffa45fa3",
   "metadata": {},
   "outputs": [],
   "source": [
    "cp_prov_nan = df[(df['domicilio_codigo_postal'].isna()!=True) & (df['provincia'].isna()==True)]['domicilio_codigo_postal'].unique()\n",
    "df[df['domicilio_codigo_postal'].isin(cp_prov_nan)][['domicilio_codigo_postal','provincia']]\\\n",
    ".drop_duplicates().sort_values(by=['domicilio_codigo_postal'])"
   ]
  },
  {
   "cell_type": "code",
   "execution_count": null,
   "id": "8556fea6-6277-4233-9c54-bd6f29e35d90",
   "metadata": {},
   "outputs": [],
   "source": [
    "df.loc[:,'provincia'] = df['provincia'].str.upper()\n",
    "df_dp_pv = df[(df['domicilio_codigo_postal'].isin(cp_ciu_nan)) & (df['provincia'].isna()==False)]\\\n",
    "            [['domicilio_codigo_postal','provincia']]\\\n",
    "            .drop_duplicates()\\\n",
    "            .sort_values(by=['domicilio_codigo_postal'])\n",
    "df_dp_pv = df_dp_pv.rename(columns={'provincia': 'provincia_0', 'domicilio_codigo_postal': 'cp'})\n",
    "df_dp_pv"
   ]
  },
  {
   "cell_type": "code",
   "execution_count": null,
   "id": "0d267474-3aed-4594-ad9b-117cb9d554a5",
   "metadata": {},
   "outputs": [],
   "source": [
    "df = df.merge(df_dp_pv.drop_duplicates(subset=['cp'], keep='first'), \n",
    "              how='left',\n",
    "              left_on = 'domicilio_codigo_postal', \n",
    "              right_on = 'cp')\\\n",
    "            .drop(columns= ['cp'])\n",
    "df.head()"
   ]
  },
  {
   "cell_type": "code",
   "execution_count": null,
   "id": "a7f929bb-90a5-4f07-805c-b2a8777c68bd",
   "metadata": {},
   "outputs": [],
   "source": [
    "# Sustituimos los valores nulos de la columna provincia (provincia_0) por las provincias (en mayus) de la columna\n",
    "# provincia creada en la anterior unión.\n",
    "\n",
    "df.loc[df['provincia'].isnull(), 'provincia'] = df['provincia_0'].str.upper()\n",
    "\n",
    "df[(df['domicilio_codigo_postal'].isin(cp_ciu_nan)) & (df['provincia'].isna()==True)]\\\n",
    "    [['domicilio_codigo_postal','provincia','provincia_0']].drop_duplicates().sort_values(by=['domicilio_codigo_postal'])"
   ]
  },
  {
   "cell_type": "code",
   "execution_count": null,
   "id": "4dfa9bf8-2d5c-4616-a492-4d2e160e88f6",
   "metadata": {},
   "outputs": [],
   "source": [
    "df = df.drop(columns=['provincia_0'])"
   ]
  },
  {
   "cell_type": "code",
   "execution_count": null,
   "id": "d5d77f7b-a2c1-4e3b-a966-f252d0734dc7",
   "metadata": {},
   "outputs": [],
   "source": [
    "df[col_geo].isna().sum()"
   ]
  },
  {
   "cell_type": "markdown",
   "id": "c564463e-4fbb-4b13-8fa1-723d764b1b89",
   "metadata": {},
   "source": [
    "Como podemos observar, existen datos nulos en **provincia** y **ciudad** que persistieron a la imputación anterior, por lo que decidimos buscar en un CSV externo los datos de Códigos Postales, Localidades y Provincias de Argentina."
   ]
  },
  {
   "cell_type": "markdown",
   "id": "8a021fcc-0fd7-4c38-91cd-7e02351afd5d",
   "metadata": {},
   "source": [
    "##### Imputación con dataset externo"
   ]
  },
  {
   "cell_type": "code",
   "execution_count": null,
   "id": "0dcacaa8-097b-4b74-ac45-f6072b379213",
   "metadata": {},
   "outputs": [],
   "source": [
    "df_cp = pd.read_csv('https://raw.githubusercontent.com/JIBarrionuevoGaltier/localidades_AR/master/localidades_cp_maestro.csv')\n",
    "df_cp.head()"
   ]
  },
  {
   "cell_type": "code",
   "execution_count": null,
   "id": "1d8845da-7eba-44c8-a514-047840b0692d",
   "metadata": {},
   "outputs": [],
   "source": [
    "# Realizamos una curación de datos sobre este dataset.\n",
    "\n",
    "df_cp.cp = df_cp[df_cp['cp'].isna()!=True]['cp'].apply(int).apply(str)\n",
    "df_cp.head()"
   ]
  },
  {
   "cell_type": "markdown",
   "id": "1b2ed05b-b37c-46e4-aafe-e1fca7ebd4c8",
   "metadata": {},
   "source": [
    "Observamos si todos los Códigos Postales de nuestro DataFrame original se encuentran en los objetos del merge."
   ]
  },
  {
   "cell_type": "code",
   "execution_count": null,
   "id": "1415e6fa-6f4b-4952-8ce3-ef1b80aa75bc",
   "metadata": {},
   "outputs": [],
   "source": [
    "df_cp = df_cp[~df_cp['cp'].isnull()]\n",
    "df_cp.isna().sum()"
   ]
  },
  {
   "cell_type": "code",
   "execution_count": null,
   "id": "52b16719-167c-4a2a-bbe8-b491af7a5a4e",
   "metadata": {},
   "outputs": [],
   "source": [
    "pd.DataFrame({'Provincias': df_cp['provincia'].unique()})\\\n",
    "    .sort_values(by='Provincias',ascending=True)\\\n",
    "    .reset_index().drop(columns=['index'])"
   ]
  },
  {
   "cell_type": "code",
   "execution_count": null,
   "id": "b7245877-50c2-481a-96d5-a45a3536eafd",
   "metadata": {},
   "outputs": [],
   "source": [
    "df_cp.loc[df_cp['provincia'] == 'Ciudad Autonoma de Buenos Aires', 'provincia'] = 'CAPITAL FEDERAL'\n",
    "df_cp.loc[df_cp['provincia'] == 'Santiago del Estero', 'provincia'] = 'SGO DEL ESTERO'\n",
    "df_cp['provincia'].unique()"
   ]
  },
  {
   "cell_type": "code",
   "execution_count": null,
   "id": "f8cf3e75-a5be-4b81-8007-753c5d82f37a",
   "metadata": {},
   "outputs": [],
   "source": [
    "df_cp.loc[:,'provincia'] = df_cp['provincia'].str.upper()\n",
    "df_cp.loc[:,'localidad'] = df_cp['localidad'].str.upper()\n",
    "df_cp[['provincia','localidad']].drop_duplicates()"
   ]
  },
  {
   "cell_type": "code",
   "execution_count": null,
   "id": "065d87a7-c936-4170-a631-a8d9cce888ca",
   "metadata": {},
   "outputs": [],
   "source": [
    "df_cp = df_cp.rename(columns={'provincia': 'provincia_0'})\n",
    "df_cp.head()"
   ]
  },
  {
   "cell_type": "code",
   "execution_count": null,
   "id": "6a116f2b-9766-463a-82d0-c2d19b01d933",
   "metadata": {},
   "outputs": [],
   "source": [
    "df.shape"
   ]
  },
  {
   "cell_type": "markdown",
   "id": "05aa9aa5-d5a4-4484-b3c5-70b2c45e60cf",
   "metadata": {
    "id": "agH_T_lUbOsq"
   },
   "source": [
    "Procedemos a hacer el merge de los datasets, a través de la columna cp (Codigo Postal)"
   ]
  },
  {
   "cell_type": "code",
   "execution_count": null,
   "id": "f7b2832b-e3fa-4eec-958a-2c9453b14904",
   "metadata": {
    "colab": {
     "base_uri": "https://localhost:8080/",
     "height": 490
    },
    "id": "0yJnz2cG7UCJ",
    "outputId": "302064dd-4446-4130-c0f5-4a8c45de09ad"
   },
   "outputs": [],
   "source": [
    "# Unimos por cp, eliminamos duplicados, conservamos solo cps del dataframe original\n",
    "df = df.merge(df_cp[['provincia_0','localidad','cp']].drop_duplicates(subset=['cp'], keep='first'), \n",
    "                           how='left',\n",
    "                           left_on = 'domicilio_codigo_postal', \n",
    "                           right_on = 'cp')\\\n",
    "                    .drop(columns= ['cp'])\n",
    "df.head()"
   ]
  },
  {
   "cell_type": "code",
   "execution_count": null,
   "id": "a025ca52-fd2f-4942-a1ca-72804ab05563",
   "metadata": {},
   "outputs": [],
   "source": [
    "df.loc[df['provincia'].isnull(), 'provincia'] = df['provincia_0'].str.upper()\n",
    "df.loc[df['ciudad'].isnull(), 'ciudad'] = df['localidad'].str.upper()"
   ]
  },
  {
   "cell_type": "code",
   "execution_count": null,
   "id": "a245f8ed-2ac4-4c55-940c-f4ede27d4ce5",
   "metadata": {},
   "outputs": [],
   "source": [
    "df = df.drop(columns=['provincia_0','localidad'])"
   ]
  },
  {
   "cell_type": "code",
   "execution_count": null,
   "id": "87df4e6e-1a67-40aa-b129-01a2800a5638",
   "metadata": {},
   "outputs": [],
   "source": [
    "df[col_geo].isna().sum()"
   ]
  },
  {
   "cell_type": "markdown",
   "id": "68b9e60c-4703-4668-94ff-130a4a0df70b",
   "metadata": {},
   "source": [
    "##### Conclusiones y decisiones\n",
    "\n",
    "* La columna **pais** tiene una sola categoria: 'Argentina'. Sabiendo que todas los registros de la columna **provincia** que tienen datos pertenecen al territorio argentino, se puede descartar ya que no aporta información.\n",
    "* La columna **domicilio_barrio** no aporta mayor información a la que ya se obtiene con el resto de las columnas geograficas, por lo que tambien se descarta. \n",
    "* Los valores faltantes de las columnas **domicilio_codigo_postal**, **provincia** y **ciudad** se imputaran con 'Sin Datos'"
   ]
  },
  {
   "cell_type": "code",
   "execution_count": null,
   "id": "df4c5cbe-6241-483a-b907-c0d038306165",
   "metadata": {},
   "outputs": [],
   "source": [
    "df.drop(columns=['pais','domicilio_barrio'], inplace=True)"
   ]
  },
  {
   "cell_type": "code",
   "execution_count": null,
   "id": "3ad39ded-ff0e-4ff1-bdb0-58469361db3d",
   "metadata": {},
   "outputs": [],
   "source": [
    "columna = ['domicilio_codigo_postal', 'provincia', 'ciudad']\n",
    "#df['sexo_descripcion']= df.sexo_descripcion.fillna(value=np.nan)\n",
    "const_imputer = SimpleImputer(missing_values= np.nan, strategy='constant',fill_value=\"Sin Datos\") \n",
    "df.loc[ : , columna] = pd.DataFrame(const_imputer.fit_transform(df.loc[:][columna]) , columns = columna)"
   ]
  },
  {
   "cell_type": "code",
   "execution_count": null,
   "id": "90d54b91-0641-4023-a605-78f10f03416c",
   "metadata": {},
   "outputs": [],
   "source": [
    "df[['domicilio_codigo_postal', 'provincia', 'ciudad']].isna().sum()"
   ]
  },
  {
   "cell_type": "markdown",
   "id": "c18e8b80-1617-40e4-9338-39aeb92d90aa",
   "metadata": {},
   "source": [
    "#### Datos faltantes Nivel de Estudio"
   ]
  },
  {
   "cell_type": "code",
   "execution_count": null,
   "id": "94fd1392-a64b-4f37-b397-523e6d33c8d3",
   "metadata": {},
   "outputs": [],
   "source": [
    "df.nivel_estudio_descripcion_histo.value_counts()"
   ]
  },
  {
   "cell_type": "code",
   "execution_count": null,
   "id": "8a377c14-d930-4076-9b6a-0298b33b7854",
   "metadata": {},
   "outputs": [],
   "source": [
    "columna = ['nivel_estudio_descripcion_histo']\n",
    "#df[\"nivel_estudio_descripcion_histo\"]= df.nivel_estudio_descripcion_histo.fillna(value=np.nan)\n",
    "frec_imputer = SimpleImputer(missing_values = np.nan, strategy='most_frequent')\n",
    "df.loc[ : , columna] = pd.DataFrame(frec_imputer.fit_transform(df.loc[:][columna]) , columns = columna)"
   ]
  },
  {
   "cell_type": "code",
   "execution_count": null,
   "id": "00e8b07e-0085-465a-91a2-2b285509598f",
   "metadata": {},
   "outputs": [],
   "source": [
    "df.nivel_estudio_descripcion_histo.value_counts()"
   ]
  },
  {
   "cell_type": "markdown",
   "id": "ff932aa4-ff65-4753-b6c3-f7d0774cd5c6",
   "metadata": {},
   "source": [
    "Se imputaron los valores nulos del nivel de estudio utilizando SimpleImputer con estrategia 'mas frecuente'"
   ]
  },
  {
   "cell_type": "markdown",
   "id": "7cb8b796-be30-4b33-9bed-c44c4e201300",
   "metadata": {},
   "source": [
    "#### Datos faltantes Vivienda"
   ]
  },
  {
   "cell_type": "code",
   "execution_count": null,
   "id": "6feebbe5-51d3-49c8-84ff-425804c39cde",
   "metadata": {},
   "outputs": [],
   "source": [
    "df.rel_vivienda_descripcion_histo.value_counts()"
   ]
  },
  {
   "cell_type": "code",
   "execution_count": null,
   "id": "c62ad5c3-0e43-41f7-9d08-30bb2ebc3b60",
   "metadata": {},
   "outputs": [],
   "source": [
    "columna = ['rel_vivienda_descripcion_histo']\n",
    "#df[\"nivel_estudio_descripcion_histo\"]= df.nivel_estudio_descripcion_histo.fillna(value=np.nan)\n",
    "frec_imputer = SimpleImputer(missing_values = np.nan, strategy='most_frequent')\n",
    "df.loc[ : , columna] = pd.DataFrame(frec_imputer.fit_transform(df.loc[:][columna]) , columns = columna)"
   ]
  },
  {
   "cell_type": "code",
   "execution_count": null,
   "id": "0ba67cb1-ed29-48f4-bbfc-84355ad56a06",
   "metadata": {},
   "outputs": [],
   "source": [
    "df.rel_vivienda_descripcion_histo.value_counts()"
   ]
  },
  {
   "cell_type": "markdown",
   "id": "f6108fa2-7b16-4e46-84cf-be5098701728",
   "metadata": {},
   "source": [
    "Se imputaron los valores nulos de la vivienda utilizando SimpleImputer con estrategia 'mas frecuente'"
   ]
  },
  {
   "cell_type": "code",
   "execution_count": null,
   "id": "9575ed57-a900-4e16-adbd-47e961d861bc",
   "metadata": {},
   "outputs": [],
   "source": [
    "df.isna().sum()"
   ]
  },
  {
   "cell_type": "markdown",
   "id": "643633de-77c1-4b29-aa78-e3b523b9b5dd",
   "metadata": {},
   "source": [
    "### 3.2 Valores Atípicos"
   ]
  },
  {
   "cell_type": "markdown",
   "id": "4230754d-95ab-4dcd-a114-6bd3c5419164",
   "metadata": {},
   "source": [
    "#### Variables numericas (Analisis de outliers)"
   ]
  },
  {
   "cell_type": "markdown",
   "id": "d5ae203d-bb58-419e-be4d-a83e2c1534ba",
   "metadata": {
    "tags": []
   },
   "source": [
    "##### Valores atípicos en monto_ajustado"
   ]
  },
  {
   "cell_type": "code",
   "execution_count": null,
   "id": "a498cbfb-da44-4e88-a97e-23eabb9f3dc5",
   "metadata": {
    "tags": []
   },
   "outputs": [],
   "source": [
    "plt.figure(figsize=(10,3))\n",
    "sns.boxenplot(data=df, x='monto_ajustado')"
   ]
  },
  {
   "cell_type": "code",
   "execution_count": null,
   "id": "2b7aec2c-2640-417d-9f95-27634d20bdf9",
   "metadata": {
    "tags": []
   },
   "outputs": [],
   "source": [
    "df['monto_ajustado'].describe().round(2)"
   ]
  },
  {
   "cell_type": "code",
   "execution_count": null,
   "id": "99effc6e-d9f3-43ad-8f56-7d719e87dce4",
   "metadata": {
    "tags": []
   },
   "outputs": [],
   "source": [
    "print('0.5% <', df['monto_ajustado'].quantile(.005))\n",
    "print('1% <', df['monto_ajustado'].quantile(.01))\n",
    "print('5% <', df['monto_ajustado'].quantile(.05))\n",
    "print('10% <', df['monto_ajustado'].quantile(.1))"
   ]
  },
  {
   "cell_type": "code",
   "execution_count": null,
   "id": "1d16d0e8-b641-4931-8ede-f5a29d7440a0",
   "metadata": {
    "tags": []
   },
   "outputs": [],
   "source": [
    "print('10% >', df['monto_ajustado'].quantile(.90))\n",
    "print('5% >', df['monto_ajustado'].quantile(.95))\n",
    "print('1% >', df['monto_ajustado'].quantile(.99))\n",
    "print('0.5% >', df['monto_ajustado'].quantile(.995))\n",
    "print('0.05% >', df['monto_ajustado'].quantile(.9995))"
   ]
  },
  {
   "cell_type": "markdown",
   "id": "f20b18f8-12e0-421a-bb8d-b03775b5c2af",
   "metadata": {
    "tags": []
   },
   "source": [
    "Observamos que existe una muy baja probabilidad de que un cliente tenga consumos mayores a 64710 pesos, por lo que decidimos eliminar outliers por la derecha de ese valor.\n",
    "\n",
    "Al existir consumos negativos que se corresponden (cancelan) con otros positivos, tomamos la decisión de eliminar outliers negativos usando el mismo limite con el que eliminamos outliers en el lado derecho."
   ]
  },
  {
   "cell_type": "code",
   "execution_count": null,
   "id": "45af36b0-a09c-431d-88a5-9520eb380372",
   "metadata": {
    "tags": []
   },
   "outputs": [],
   "source": [
    "df[df['monto_ajustado'] > 64710.09].shape"
   ]
  },
  {
   "cell_type": "code",
   "execution_count": null,
   "id": "2c6bd5e7-ada0-4b43-8f59-5f9c2ffeb695",
   "metadata": {
    "tags": []
   },
   "outputs": [],
   "source": [
    "df[df['monto_ajustado'] < -64710.09].shape"
   ]
  },
  {
   "cell_type": "code",
   "execution_count": null,
   "id": "5008d696-243d-437c-bd4f-7f41f42249a8",
   "metadata": {
    "tags": []
   },
   "outputs": [],
   "source": [
    "plt.figure(figsize=(10,3))\n",
    "sns.boxenplot(data=df[(df['monto_ajustado'] < 64710.09) & (df['monto_ajustado'] > -64710.09)], x='monto_ajustado')"
   ]
  },
  {
   "cell_type": "markdown",
   "id": "23ab5588-96f2-4ae0-90b6-5a0abc370bde",
   "metadata": {
    "tags": []
   },
   "source": [
    "##### Valores atípicos en edad_cliente"
   ]
  },
  {
   "cell_type": "code",
   "execution_count": null,
   "id": "ca1f9211-d9a0-4949-9e88-fbbf5ece89a9",
   "metadata": {
    "tags": []
   },
   "outputs": [],
   "source": [
    "plt.figure(figsize=(10,3))\n",
    "sns.boxplot(data=df, x='edad_cliente')"
   ]
  },
  {
   "cell_type": "code",
   "execution_count": null,
   "id": "30da9811-c56e-4a38-a17a-a8334ce4983b",
   "metadata": {
    "tags": []
   },
   "outputs": [],
   "source": [
    "print('0.5% <', df['edad_cliente'].quantile(.005))\n",
    "print('1% <', df['edad_cliente'].quantile(.01))\n",
    "print('5% <', df['edad_cliente'].quantile(.05))\n",
    "print('10% <', df['edad_cliente'].quantile(.1))\n",
    "print('10% >', df['edad_cliente'].quantile(.90))\n",
    "print('5% >', df['edad_cliente'].quantile(.95))\n",
    "print('1% >', df['edad_cliente'].quantile(.99))\n",
    "print('0.5% >', df['edad_cliente'].quantile(.995))"
   ]
  },
  {
   "cell_type": "code",
   "execution_count": null,
   "id": "aad3da98-107f-419a-bcc6-46495bedec28",
   "metadata": {
    "tags": []
   },
   "outputs": [],
   "source": [
    "df[df['edad_cliente'] < 22].edad_cliente.value_counts()"
   ]
  },
  {
   "cell_type": "code",
   "execution_count": null,
   "id": "ca272cd5-375f-438f-bb27-e245f6ab09f2",
   "metadata": {
    "tags": []
   },
   "outputs": [],
   "source": [
    "df[df['edad_cliente'] > 90].edad_cliente.value_counts()"
   ]
  },
  {
   "cell_type": "markdown",
   "id": "d553704f-ef21-4c5b-b89b-d7045bd8be98",
   "metadata": {
    "tags": []
   },
   "source": [
    "Observamos que existen edades en ambos extremos con muy baja probabilidad de ocurrencia. Decidimos entonces, eliminar del dataset aquellas filas que correspondan a clientes mayores a 90 años y menores a 22."
   ]
  },
  {
   "cell_type": "code",
   "execution_count": null,
   "id": "02482bb7-3b63-4af5-b5e5-2bd74c6deef7",
   "metadata": {
    "tags": []
   },
   "outputs": [],
   "source": [
    "plt.figure(figsize=(10,3))\n",
    "sns.boxplot(data=df[(df['edad_cliente'] >= 22) & (df['edad_cliente'] <= 90)], x='edad_cliente')\n",
    "print('Filas elminadas:', len(df[(df['edad_cliente'] < 22) | (df['edad_cliente'] > 90)]))"
   ]
  },
  {
   "cell_type": "markdown",
   "id": "31a84a49-9ecf-4cdb-817e-a58910844214",
   "metadata": {
    "tags": []
   },
   "source": [
    "##### Valores atípicos en antig_cliente"
   ]
  },
  {
   "cell_type": "code",
   "execution_count": null,
   "id": "a172a5c6-b30f-4d30-aca0-b8e167dc0bc7",
   "metadata": {
    "tags": []
   },
   "outputs": [],
   "source": [
    "plt.figure(figsize=(10,3))\n",
    "sns.boxplot(data=df, x='antig_cliente')"
   ]
  },
  {
   "cell_type": "code",
   "execution_count": null,
   "id": "96de594b-953e-4036-a02f-4d8f7c64cf07",
   "metadata": {
    "tags": []
   },
   "outputs": [],
   "source": [
    "# 400 corresponderia a unos 33 años de antigüedad\n",
    "\n",
    "print('10% >', df['antig_cliente'].quantile(.90))\n",
    "print('5% >', df['antig_cliente'].quantile(.95))\n",
    "print('1% >', df['antig_cliente'].quantile(.99))\n",
    "print('0.5% >', df['antig_cliente'].quantile(.995))"
   ]
  },
  {
   "cell_type": "code",
   "execution_count": null,
   "id": "2938890f-316c-430e-ae2b-70fc672e74de",
   "metadata": {
    "tags": []
   },
   "outputs": [],
   "source": [
    "df[df['antig_cliente'] > 360].antig_cliente.value_counts()"
   ]
  },
  {
   "cell_type": "markdown",
   "id": "4d36195c-7fcc-4348-89d1-1cd75539c97f",
   "metadata": {
    "tags": []
   },
   "source": [
    "Observamos que existen cuentas con antigüedad en el extremo derecho con muy baja probabilidad de ocurrencia. Decidimos entonces, eliminar del dataset aquellas filas que correspondan a clientes con antigüedad mayor a 360."
   ]
  },
  {
   "cell_type": "code",
   "execution_count": null,
   "id": "7611bc86-fd7d-4253-8d7a-1c178551b203",
   "metadata": {
    "tags": []
   },
   "outputs": [],
   "source": [
    "plt.figure(figsize=(10,3))\n",
    "sns.boxplot(data=df[df['antig_cliente'] <= 360], x='antig_cliente')\n",
    "print('Filas elminadas:', len(df[df['antig_cliente'] > 360]))\n"
   ]
  },
  {
   "cell_type": "markdown",
   "id": "3408d503-2829-4b74-bbe5-1f27c9213b00",
   "metadata": {
    "tags": []
   },
   "source": [
    "#### Variables categoricas (Reagrupación)"
   ]
  },
  {
   "cell_type": "markdown",
   "id": "fb959ba9-4f38-49fb-91ca-5529e809c1fa",
   "metadata": {
    "tags": []
   },
   "source": [
    "##### Producto Naranja"
   ]
  },
  {
   "cell_type": "code",
   "execution_count": null,
   "id": "6f16f318-231e-42be-ae40-ec3dad6347d6",
   "metadata": {
    "tags": []
   },
   "outputs": [],
   "source": [
    "fig, ax = plt.subplots(figsize=(12,8))\n",
    "sns.countplot(df['producto_naranja_movimiento'], palette=\"pastel\")\n",
    "ax.tick_params(labelsize=12)\n",
    "ax.set_yscale('log')"
   ]
  },
  {
   "cell_type": "code",
   "execution_count": null,
   "id": "d83ac4fc-c37c-4c3e-9e17-95cc67bd9530",
   "metadata": {
    "tags": []
   },
   "outputs": [],
   "source": [
    "df_prod = df['producto_naranja_movimiento'].value_counts().to_frame().reset_index().rename(\n",
    "                                    {'index':'producto_naranja_movimiento',\n",
    "                                     'producto_naranja_movimiento':'frecuencia_pr'}, axis=1)\n",
    "\n",
    "df_prod_dni = pd.DataFrame(df.groupby(['producto_naranja_movimiento'])['dni_titular_movimiento'].nunique() \\\n",
    "                            .sort_values(ascending=True)) \\\n",
    "                            .reset_index()\n",
    "\n",
    "df_prod_dni = df_prod_dni.merge(df_prod, on='producto_naranja_movimiento', how='inner')\n",
    "df_prod_dni"
   ]
  },
  {
   "cell_type": "markdown",
   "id": "ae1053a4-b30a-45d7-8ed4-de834dd162c1",
   "metadata": {
    "tags": []
   },
   "source": [
    "Productos:\n",
    "\n",
    "* PL: Plan largo \n",
    "* ZE: Zeta\n",
    "* VI: Visa\n",
    "* SM: Mensajes de texto a celulares\n",
    "* PC: Plan de Cuotas\n",
    "* AV: Revista Convivimos\n",
    "* PN: Prestamos Personales PN\n",
    "* PP: Plan de Pago Propuesto\n",
    "* MC: MasterCard\n",
    "* EX: Extraccion de Cajeros Nacionales\n",
    "* TA: Transferencia Naranja Arg.\n",
    "* AX: American Express"
   ]
  },
  {
   "cell_type": "code",
   "execution_count": null,
   "id": "033eeb4b-5b0a-4d98-affe-d13dda7b162a",
   "metadata": {
    "tags": []
   },
   "outputs": [],
   "source": [
    "df['productos_recat'] = df['producto_naranja_movimiento']\n",
    "\n",
    "producto_dict = {'Tarjetas': ['AX', 'MC', 'VI'],\n",
    "                 'Productos Fijos': ['AV', 'SM'],\n",
    "                 'Otras Financiaciones':['PC', 'PP', 'PN', 'EX', 'TA'],\n",
    "                 'Plan Largo': ['PL'],\n",
    "                 'Zeta': ['ZE']}\n",
    "\n",
    "for producto in producto_dict:\n",
    "    df['productos_recat'] = df['productos_recat'].replace(producto_dict[producto], producto)\n",
    "    \n",
    "df['productos_recat'].value_counts()"
   ]
  },
  {
   "cell_type": "code",
   "execution_count": null,
   "id": "85d86610-3155-4414-b679-e3e6dbf2d517",
   "metadata": {
    "tags": []
   },
   "outputs": [],
   "source": [
    "fig, ax = plt.subplots(figsize=(12,8))\n",
    "sns.countplot(df['productos_recat'], palette=\"pastel\")\n",
    "ax.tick_params(labelsize=12)"
   ]
  },
  {
   "cell_type": "markdown",
   "id": "27e34a9d-258e-4901-a89b-9a153af1fb48",
   "metadata": {
    "tags": []
   },
   "source": [
    "Reagrupaciones\n",
    "\n",
    "* Plan Largo y Zeta se conservan como categorias debido a la alta cantidad de transacciones y de DNIs.\n",
    "* American Express, MasterCard y Visa se recategorizan en 'Tarjetas'. Teniendo en cuenta la baja cantidad de transacciones para MC y AX, la nueva categoria tendra un comportamiento similar a Visa.\n",
    "* Revista Convivimos y Mensajes de texto se categorizan como 'Productos Fijos'.\n",
    "* El resto de los productos, que corresponden a financiaciones y movimientos de dinero, se categorizan en 'Otras Financiaciones'."
   ]
  },
  {
   "cell_type": "markdown",
   "id": "b0c6e3eb-5b2d-4948-be34-509784d240ef",
   "metadata": {
    "tags": []
   },
   "source": [
    "##### Estado Civil"
   ]
  },
  {
   "cell_type": "code",
   "execution_count": null,
   "id": "3ae60fab-6261-4695-aa0a-e794bb1d4a10",
   "metadata": {
    "tags": []
   },
   "outputs": [],
   "source": [
    "df.estado_civil_descripcion.value_counts()"
   ]
  },
  {
   "cell_type": "markdown",
   "id": "eb8f42e6-9fc5-478b-9d7f-7dc41ddb1ba3",
   "metadata": {
    "tags": []
   },
   "source": [
    "Observamos que existe una alta frecuencia en las categorías Solteros y Casados, perdiendo representativadad en el resto de los estados civiles, por lo cual decidimos agrupar a la mismas en una misma categoría."
   ]
  },
  {
   "cell_type": "code",
   "execution_count": null,
   "id": "8b5cf707-d27f-4e0b-aa5f-e0c832b636f1",
   "metadata": {
    "tags": []
   },
   "outputs": [],
   "source": [
    "soltero = ['Solteroa']\n",
    "casado = ['Casadoa']\n",
    "otros = ['Divorciadoa','Viudoa','Concubinoa','Separacion de hecho','Novioa']\n",
    "sin_datos = ['Sin Datos']\n",
    "\n",
    "df.loc[df['estado_civil_descripcion'].str.contains('|'.join(soltero)),'estado_civil_cat'] = 'Soltero'\n",
    "df.loc[df['estado_civil_descripcion'].str.contains('|'.join(casado)),'estado_civil_cat'] = 'Casado'\n",
    "df.loc[df['estado_civil_descripcion'].str.contains('|'.join(otros)),'estado_civil_cat'] = 'Otros'\n",
    "df.loc[df['estado_civil_descripcion'].str.contains('|'.join(sin_datos)),'estado_civil_cat'] = 'Sin_datos'"
   ]
  },
  {
   "cell_type": "code",
   "execution_count": null,
   "id": "821cb893-5e1d-4ec0-add8-485405d3528d",
   "metadata": {
    "tags": []
   },
   "outputs": [],
   "source": [
    "df.estado_civil_cat.value_counts()"
   ]
  },
  {
   "cell_type": "code",
   "execution_count": null,
   "id": "3e7a1ec4-22a5-407a-be85-e54a48bd46b5",
   "metadata": {
    "tags": []
   },
   "outputs": [],
   "source": [
    "fig, axes = plt.subplots(ncols=2, figsize=(16,6))\n",
    "g = sns.countplot(y=df.estado_civil_descripcion, ax=axes[0],palette=\"pastel\")\n",
    "g =  sns.countplot(y=df.estado_civil_cat, ax=axes[1],palette=\"pastel\")\n",
    "\n",
    "for ax in axes:\n",
    "    ax.tick_params(labelsize=12)\n",
    "    ax.set_xlabel(\"Estado Civil\")"
   ]
  },
  {
   "cell_type": "markdown",
   "id": "af6e1ac9-8e63-4c64-9802-9e2d1ba56c75",
   "metadata": {},
   "source": [
    "##### Provincias por Regiones"
   ]
  },
  {
   "cell_type": "code",
   "execution_count": null,
   "id": "7ada1a53-e5ff-4afd-9804-8069031eb406",
   "metadata": {},
   "outputs": [],
   "source": [
    "df[['provincia']].groupby(by=['provincia']).size()\\\n",
    "                .to_frame()\\\n",
    "                .reset_index(level=['provincia'])\\\n",
    "                .rename(columns = {0:'Cantidad_Transacciones'})\\\n",
    "                .sort_values(by='Cantidad_Transacciones',ascending=False)"
   ]
  },
  {
   "cell_type": "markdown",
   "id": "089b82c7-e7d0-4db6-9abf-343b17d9f455",
   "metadata": {},
   "source": [
    "Viendo las frecuencias por provincias, vamos a recategorizar sobre una nueva columna, las provincias por regiones."
   ]
  },
  {
   "cell_type": "code",
   "execution_count": null,
   "id": "56e8b97e-7de5-4f3a-9735-eec03ba242c7",
   "metadata": {},
   "outputs": [],
   "source": [
    "dic_region = {'REGION NOROESTE': ['JUJUY','SALTA','TUCUMAN','CATAMARCA','SGO DEL ESTERO'],\n",
    "              'REGION NORDESTE': ['CHACO','FORMOSA','CORRIENTES','MISIONES'], \n",
    "              'REGION PAMPEANA': ['CORDOBA','BUENOS AIRES','CAPITAL FEDERAL','ENTRE RIOS','LA PAMPA','SANTA FE'], \n",
    "              'REGION CUYO': ['SAN JUAN','SAN LUIS','LA RIOJA','MENDOZA'], \n",
    "              'REGION PATAGONIA': ['SANTA CRUZ','TIERRA DEL FUEGO','RIO NEGRO','NEUQUEN','CHUBUT'],\n",
    "              'SIN DATOS': ['Sin Datos']}\n",
    "\n",
    "df['region']= df['provincia']\n",
    "for i in dic_region:\n",
    "    df['region'] = df['region'].replace(dic_region[i], i)\n",
    "df.head()"
   ]
  },
  {
   "cell_type": "code",
   "execution_count": null,
   "id": "6cc8d507-36eb-4f7e-8221-b74ef576a4c8",
   "metadata": {},
   "outputs": [],
   "source": [
    "df[['region']].groupby(by=['region']).size()"
   ]
  },
  {
   "cell_type": "code",
   "execution_count": null,
   "id": "376360a2-c01d-4414-8cd3-45411007fca5",
   "metadata": {},
   "outputs": [],
   "source": [
    "fig, axes = plt.subplots(1, 2,figsize=(16, 7))\n",
    "\n",
    "sns.countplot(data=df, x='provincia', ax=axes[0], palette='pastel')\n",
    "axes[0].title.set_text('Provincias')\n",
    "axes[0].tick_params('x', rotation=90)\n",
    "sns.countplot(data=df, x='region', ax=axes[1], palette='pastel')\n",
    "axes[1].title.set_text('Regiones')\n",
    "axes[1].tick_params('x', rotation=90)\n",
    "\n",
    "axes[0].set_ylabel('')\n",
    "axes[0].set_xlabel('')\n",
    "axes[1].set_ylabel('')\n",
    "axes[1].set_xlabel('')\n",
    "\n",
    "fig.suptitle('Frecuencia', fontsize=16)\n",
    "plt.show()"
   ]
  },
  {
   "cell_type": "markdown",
   "id": "27a4af9f-6792-45ab-8d71-08e64c4450ae",
   "metadata": {},
   "source": [
    "#### Fechas"
   ]
  },
  {
   "cell_type": "markdown",
   "id": "78aaca62-f29d-4254-91e3-660014f67e43",
   "metadata": {},
   "source": [
    "Veremos las relaciones entre las distintas columnas de fecha para ver si podemos descartar algunas."
   ]
  },
  {
   "cell_type": "code",
   "execution_count": null,
   "id": "059c5444-51a9-4c11-9598-9bd2dad69181",
   "metadata": {},
   "outputs": [],
   "source": [
    "fecha = 'fecha_cupon_movimiento'\n",
    "\n",
    "fig, ax = plt.subplots(figsize=(14,7))\n",
    "ax.tick_params(axis='x',rotation = 45,labelsize = 13)\n",
    "ax.set_xlabel(\"Fecha de compra\")\n",
    "ax.set_yscale(\"log\")\n",
    "sns.histplot(data=df, x=fecha, bins=80, color=\"#3182bd\", alpha=0.5)\n",
    "ax.set_title('Histograma de frecuencia para fecha de cupón')"
   ]
  },
  {
   "cell_type": "code",
   "execution_count": null,
   "id": "64a6efa1-0a09-4a8e-b3d5-1e2fc5702b5e",
   "metadata": {},
   "outputs": [],
   "source": [
    "print('Cantidad de casos antes de Abril 2020:', len(df[df['fecha_cupon_movimiento'] < pd.to_datetime('2020-04-01')]))\n",
    "print('Cantidad de casos antes de Mayo 2020:', len(df[df['fecha_cupon_movimiento'] < pd.to_datetime('2020-05-01')]))\n",
    "print('Cantidad de casos antes de Junio 2020:', len(df[df['fecha_cupon_movimiento'] < pd.to_datetime('2020-06-01')]))\n",
    "print('Cantidad de casos antes de Julio 2020:', len(df[df['fecha_cupon_movimiento'] < pd.to_datetime('2020-07-01')]))\n",
    "print('Cantidad de casos antes de Agosto 2020:', len(df[df['fecha_cupon_movimiento'] < pd.to_datetime('2020-08-01')]))"
   ]
  },
  {
   "cell_type": "code",
   "execution_count": null,
   "id": "7f455807-ea7a-4f1b-96e9-11c5e3cf841c",
   "metadata": {},
   "outputs": [],
   "source": [
    "print('Cantidad de casos despues de Abril 2021:', len(df[df['fecha_cupon_movimiento'] > pd.to_datetime('2021-04-01')]))\n",
    "print('Cantidad de casos despues de Mayo 2021:', len(df[df['fecha_cupon_movimiento'] > pd.to_datetime('2021-05-01')]))\n",
    "print('Cantidad de casos despues de Junio 2021:', len(df[df['fecha_cupon_movimiento'] > pd.to_datetime('2021-06-01')]))"
   ]
  },
  {
   "cell_type": "markdown",
   "id": "a3fa3c1e-764a-418c-ab72-ad18dafae9dc",
   "metadata": {},
   "source": [
    "Desde Agosto del 2020, la cantidad de transacciones aumenta significativamente en comparación con meses anteriores. Decidimos conservar solo los meses donde haya suficiente representacion de casos.\n",
    "\n",
    "Haciendo un cálculo similar a los ultimos meses analizados, vemos que Mayo y Abril del 2021 están bien representados, por lo que se decide conservarlos."
   ]
  },
  {
   "cell_type": "code",
   "execution_count": null,
   "id": "3ba92710-188f-43c0-acc8-8e6acf369b40",
   "metadata": {},
   "outputs": [],
   "source": [
    "df[df['fecha_cupon_movimiento'] < pd.to_datetime('2020-07-01')]"
   ]
  },
  {
   "cell_type": "markdown",
   "id": "d7470777-f9d1-40c9-83f6-74da12cb993a",
   "metadata": {
    "tags": []
   },
   "source": [
    "#### Elimnacion de outliers"
   ]
  },
  {
   "cell_type": "code",
   "execution_count": null,
   "id": "4c83d357-547b-4f33-bdaa-ad57fab5a43c",
   "metadata": {},
   "outputs": [],
   "source": [
    "df = df[(df['monto_ajustado'] > -64710.09) & (df['monto_ajustado'] < 64710.09)]\n",
    "\n",
    "df = df[(df['edad_cliente'] <= 90) & (df['edad_cliente'] >= 22)]\n",
    "\n",
    "df = df[df['antig_cliente'] <= 360]\n",
    "\n",
    "df = df[df['fecha_cupon_movimiento'] > pd.to_datetime('2020-07-01')]"
   ]
  },
  {
   "cell_type": "code",
   "execution_count": null,
   "id": "104f459a-bdf7-4a43-968d-2a05828dfcbf",
   "metadata": {},
   "outputs": [],
   "source": [
    "df.shape"
   ]
  },
  {
   "cell_type": "markdown",
   "id": "5c6a5963-c54f-4952-9cba-0f7b6c5cd703",
   "metadata": {},
   "source": [
    "### 3.3 Normalización de antiguedad y/o monto_compra_movimiento"
   ]
  },
  {
   "cell_type": "code",
   "execution_count": null,
   "id": "eacb6514-1b3c-4750-9308-3150774b6d91",
   "metadata": {},
   "outputs": [],
   "source": [
    "from sklearn.preprocessing import Normalizer\n",
    "\n",
    "x_test = df[[\"monto_ajustado\",\"antig_cliente\"]].values #returns a numpy array\n",
    "transformer = Normalizer(norm='l1').fit(x_test)\n",
    "x_norm = transformer.transform(x_test)\n",
    "dff = pd.DataFrame(x_norm).rename(columns={0: 'monto_ajustado', 1: 'antig_cliente'})"
   ]
  },
  {
   "cell_type": "code",
   "execution_count": null,
   "id": "a16c52a5-4084-4f3d-a352-ff3bef18e626",
   "metadata": {},
   "outputs": [],
   "source": [
    "dff"
   ]
  },
  {
   "cell_type": "code",
   "execution_count": null,
   "id": "2886a3b1-c0b9-4995-b49e-154e0b9df7f2",
   "metadata": {},
   "outputs": [],
   "source": [
    "#scaled_df = pd.DataFrame(\n",
    "colums_norm = [\"monto_compra_movimiento\",\"antig_cliente\"] \n",
    "df_scaled = pd.DataFrame(preprocessing.StandardScaler().fit_transform(df[colums_norm])).rename(columns={'0': 'monto_compra_movimiento', '1': 'antig_cliente'})\n",
    "df_scaled "
   ]
  },
  {
   "cell_type": "code",
   "execution_count": null,
   "id": "40e47464-e920-47d7-accc-1f80ee559c05",
   "metadata": {},
   "outputs": [],
   "source": [
    "monto = df.monto_ajustado.values.copy()\n",
    "antig = df.antig_cliente.values.copy()\n",
    "monto_norm = dff.monto_ajustado\n",
    "antig_norm = dff.antig_cliente"
   ]
  },
  {
   "cell_type": "code",
   "execution_count": null,
   "id": "e1d4a7b9-ab51-4568-aeaa-6bf523de2885",
   "metadata": {},
   "outputs": [],
   "source": [
    "fig, ax=plt.subplots(1,2, figsize=(14,8))\n",
    "sns.distplot(monto,ax=ax[0],color='Green')\n",
    "ax[0].set_title(\"Monto sin normalizar\")\n",
    "sns.distplot(monto_norm, ax=ax[1])\n",
    "ax[1].set_title(\"Monto normalizado\")"
   ]
  },
  {
   "cell_type": "markdown",
   "id": "5fb7d478-09a3-44fd-90e8-9d07924b67d2",
   "metadata": {},
   "source": [
    "Podemos observar que la distribución de la variable transformada difiere mucho de la normal. Los consumos de los clientes no necesariamente se van a distribuir de manera normal. Uno de los objetivos de esta mentoria es encontrar clusters de consumo, por lo cual partimos de la premisa de que no vamos a tener una distribucion normal donde la media represente de manera significativa a todos los clientes. Por lo tanto transformar esta distribucion a una normal no nos parece conveniente."
   ]
  },
  {
   "cell_type": "code",
   "execution_count": null,
   "id": "cca2bb49-3227-4383-a864-efcc56dc7d25",
   "metadata": {},
   "outputs": [],
   "source": [
    "fig, ax=plt.subplots(1,2, figsize=(14,8))\n",
    "sns.distplot(antig,ax=ax[0],color='Green')\n",
    "ax[0].set_title(\"Antiguedad sin normalizar\")\n",
    "sns.distplot(antig_norm, ax=ax[1])\n",
    "ax[1].set_title(\"Antiguedad normalizada\")"
   ]
  },
  {
   "cell_type": "markdown",
   "id": "fdf9deec-6316-4ff8-857a-63ef4c713668",
   "metadata": {},
   "source": [
    "Observamos que la distribución que resulta de esta transformacion no se parece a una normal. Por lo tanto, concluimos que se pierde mucha información y las ganancias obtenidas son bajas. Decidimos entonces, conservar la distribución original de esta variable."
   ]
  },
  {
   "cell_type": "markdown",
   "id": "aabffae1-ec6b-4e7c-8a46-6df39f40b119",
   "metadata": {},
   "source": [
    "### 3.4 Análisis del PCA"
   ]
  },
  {
   "cell_type": "markdown",
   "id": "487d68f4-45bb-4b25-ae0b-afa7df43399c",
   "metadata": {},
   "source": [
    "Primero se debe procesar las columnas antes de aplicar el PCA, es decir dejarlas en formato de matríz y estandarizarlas para el mejor uso del algoritmo."
   ]
  },
  {
   "cell_type": "code",
   "execution_count": null,
   "id": "eeb7a815-561d-4dd7-8504-11ca9b6ca70d",
   "metadata": {},
   "outputs": [],
   "source": [
    "colum_pca = [\"monto_compra_movimiento\", \"edad_cliente\",\"antig_cliente\"] "
   ]
  },
  {
   "cell_type": "code",
   "execution_count": null,
   "id": "a113f2ae-3ea5-4ff7-ab61-5d7022a954ce",
   "metadata": {},
   "outputs": [],
   "source": [
    "df_pca = df[colum_pca]"
   ]
  },
  {
   "cell_type": "code",
   "execution_count": null,
   "id": "25de49ca-9aea-40c9-a10c-5954b6bd67f5",
   "metadata": {},
   "outputs": [],
   "source": [
    "df_pca_stand = preprocessing.StandardScaler().fit_transform(df_pca)\n",
    "df_pca_stand"
   ]
  },
  {
   "cell_type": "code",
   "execution_count": null,
   "id": "c852ccf1-c33e-4702-a88c-909c51701d04",
   "metadata": {},
   "outputs": [],
   "source": [
    "pca2 = PCA(n_components=3)\n",
    "pca2.fit(df_pca_stand)\n",
    "proyected_features_2 = pca2.transform(df_pca_stand)\n",
    "proyected_features_2.shape"
   ]
  },
  {
   "cell_type": "code",
   "execution_count": null,
   "id": "8e493bcf-df6f-49aa-b4c0-5ef7d6f42985",
   "metadata": {},
   "outputs": [],
   "source": [
    "explained_variance_2 = pca2.explained_variance_ratio_\n",
    "explained_variance_2"
   ]
  },
  {
   "cell_type": "code",
   "execution_count": null,
   "id": "3fef3494-f56b-4517-9597-050a06956dd4",
   "metadata": {},
   "outputs": [],
   "source": [
    "acc_variance_percent_2 = np.cumsum(np.round(explained_variance_2, decimals=4) * 100)\n",
    "acc_variance_percent_2"
   ]
  },
  {
   "cell_type": "code",
   "execution_count": null,
   "id": "e413c5e8-f00f-4b9c-a0ef-ae19fe1879cf",
   "metadata": {},
   "outputs": [],
   "source": [
    "plt.figure(figsize=(10, 5))\n",
    "plt.ylabel('% de varianza explicada')\n",
    "plt.xlabel('Componentes Principales')\n",
    "plt.title('PCA')\n",
    "plt.ylim(20, 110)\n",
    "plt.xticks(range(pca2.n_components))\n",
    "plt.plot(acc_variance_percent_2)"
   ]
  },
  {
   "cell_type": "markdown",
   "id": "6b4786d0-b1c4-4de7-b4af-7dd0c303c244",
   "metadata": {},
   "source": [
    "Existen dos componentes principales que explican un 79.4% de la variabilidad de los datos."
   ]
  },
  {
   "cell_type": "code",
   "execution_count": null,
   "id": "e413b0c7-df35-4e24-9d1e-8b22b9ac41c9",
   "metadata": {},
   "outputs": [],
   "source": [
    "df_pca_final = df[colum_pca]\n",
    "df_pca_final[[\"pca1\",\"pca2\"]] = proyected_features_2[:,:2]\n",
    "df_pca_final"
   ]
  },
  {
   "cell_type": "code",
   "execution_count": null,
   "id": "eae9d84e-4249-4423-aca9-06eb863cd810",
   "metadata": {},
   "outputs": [],
   "source": [
    "cols = ['edad_cliente', 'antig_cliente']\n",
    "data = df_pca_final[cols + ['pca1', 'pca2']][0:50000]\n",
    "fig, axes = plt.subplots(1, 2, figsize=(20, 10))\n",
    "sns.scatterplot(data=data, x='pca1', y='pca2',\n",
    "                    hue='edad_cliente', ax=axes[0])  \n",
    "sns.scatterplot(data=data, x='pca1', y='pca2',\n",
    "                    hue='antig_cliente', ax=axes[1]) "
   ]
  },
  {
   "cell_type": "markdown",
   "id": "fd64a414-514b-4499-a742-ba49387168fa",
   "metadata": {},
   "source": [
    "Se puede observar tanto la edad como la antigüedad del cliente parecieran estar influenciando fuertemente la variabilidad de los datos. Decidimos incorporar estas dos columnas al dataset."
   ]
  },
  {
   "cell_type": "markdown",
   "id": "f22be251-d001-4c39-ac85-dd01f82bf82f",
   "metadata": {
    "tags": []
   },
   "source": [
    "### Creacion de dataset a guardar"
   ]
  },
  {
   "cell_type": "markdown",
   "id": "e1450acd-29ed-48bb-b875-83ca66ac2aa2",
   "metadata": {
    "tags": []
   },
   "source": [
    "#### Calculos de correlaciones numericas"
   ]
  },
  {
   "cell_type": "code",
   "execution_count": null,
   "id": "8da95688-0c29-4cf5-bbb1-04e7c3c051bb",
   "metadata": {
    "tags": []
   },
   "outputs": [],
   "source": [
    "print('fecha_cupon vs fecha_presentacion:')\n",
    "df[\"fecha_cupon_movimiento\"].dt.date.corr(\n",
    "    df[\"fecha_presentacion_movimiento\"].dt.date, method = 'spearman', min_periods = 1)"
   ]
  },
  {
   "cell_type": "code",
   "execution_count": null,
   "id": "a6a7b955-0fd5-4247-9a43-1fb7ca60edd4",
   "metadata": {},
   "outputs": [],
   "source": [
    "print('fecha_cupon vs fecha_vto:')\n",
    "df[\"fecha_cupon_movimiento\"].dt.date.corr(\n",
    "    df['fecha_vto_cupon_movimiento'].dt.date, method = 'spearman', min_periods = 1)"
   ]
  },
  {
   "cell_type": "code",
   "execution_count": null,
   "id": "09f668ac-a20c-4272-9fb8-b61a2f8d3800",
   "metadata": {},
   "outputs": [],
   "source": [
    "df[[\"monto_compra_movimiento\", \"importe_cuota_movimiento\"]].corr()"
   ]
  },
  {
   "cell_type": "code",
   "execution_count": null,
   "id": "10d29e84-08b8-452c-a5ae-072866a7d380",
   "metadata": {},
   "outputs": [],
   "source": [
    "df[[\"id_comercio_otras_marcas_movimiento\", \"id_comercio_movimiento\"]].corr()"
   ]
  },
  {
   "cell_type": "code",
   "execution_count": null,
   "id": "438533bf-4b1e-4486-bdd8-940bb262e2d9",
   "metadata": {},
   "outputs": [],
   "source": [
    "df[[\"local_venta_producto\", \"id_comercio_movimiento\"]].corr()"
   ]
  },
  {
   "cell_type": "code",
   "execution_count": null,
   "id": "429a30eb-bc74-44a1-958b-5672cd6e29ea",
   "metadata": {},
   "outputs": [],
   "source": [
    "df.groupby(['nivel_estudio_descripcion_histo'])['monto_ajustado'].describe().round(2).sort_values(by=\"nivel_estudio_descripcion_histo\", ascending=True)"
   ]
  },
  {
   "cell_type": "code",
   "execution_count": null,
   "id": "3acfeccd-1d87-4c10-a8d0-90f531430e33",
   "metadata": {},
   "outputs": [],
   "source": [
    "df.groupby(['rel_vivienda_descripcion_histo'])['monto_ajustado'].describe().round(2).sort_values(by=\"rel_vivienda_descripcion_histo\", ascending=True)"
   ]
  },
  {
   "cell_type": "markdown",
   "id": "26d86d2f-1621-4597-8634-535e5479f8c9",
   "metadata": {
    "tags": []
   },
   "source": [
    "### Eliminación de columnas"
   ]
  },
  {
   "cell_type": "markdown",
   "id": "332bc601-644c-4710-9e14-d9b365349e10",
   "metadata": {
    "tags": []
   },
   "source": [
    "Algunas columnas se eliminaron en analisis anteriores. Procedemos a seleccionar las columnas que mejor nos ayudaran a predecir la próxima compra"
   ]
  },
  {
   "cell_type": "markdown",
   "id": "c4afb1b2-985d-4279-9b1f-708609d20d3d",
   "metadata": {
    "tags": []
   },
   "source": [
    "* **dni_titular_movimiento: Se conserva por ser ID único de cliente**\n",
    "* moneda_movimiento: Se descarta ya que se va a utilizar monto_ajustada, que tiene todos los montos en pesos\n",
    "* id_comercio_movimiento: Se descarta porque conservamos nombre_comercio_cat que surge a partir de esta misma variable\n",
    "* nombre_comercio_histo: Se descarta por usar nombre_comercio_cat\n",
    "* numero_cupon_movimiento: Se descarta por no aportar informacion util a la predicción de la compra\n",
    "* debito_credito_movimiento: Solo permite diferenciar movimientos positivos de negativos, informacion presente en la variable monto.\n",
    "* producto_naranja_movimiento: Se descarta para usar la variable recategorizada\n",
    "* codigo_empresa_movimiento: Se descarta por no aportar informacion util a la predicción de la compra\n",
    "* tipo_producto_tarjeta_movimiento: Se descarta porque conservamos la clasificación por producto_naranja, y decidimos quedarnos con una sola manera de clasificar las transacciones\n",
    "* plan_movimiento: Se descarta por no aportar informacion util a la predicción de la compra\n",
    "* **fecha_cupon_movimiento: Se conserva**\n",
    "* monto_compra_movimiento: Se descarta, ya que se conserva monto_ajustado, que es el resultado de su transformación\n",
    "* importe_cuota_movimiento: Se descarta por su fuerte correlación con monto_compra_movimiento\n",
    "* interes_movimiento: Se descarta por su falta de datos significativos\n",
    "* cargo_adm_seguro_movimiento, cargo_otorgamiento_movimiento, cargo_seguro_vida_movimiento, cargo_administrativo_movimiento: Se descartan por tener mayoria de datos en 0.\n",
    "* seleccionado_ng: Se descarta por no representar nada significativo\n",
    "* codigo_contable_movimiento: Se descarta por su baja interpretabilidad\n",
    "* local_venta_producto: Se descarta por aportar la misma información que id_comercio_movimiento\n",
    "* marca_debito_automatico: Se descarta por no aportar informacion util a la predicción de la compra\n",
    "* id_comercio_otras_marcas_movimiento: Se descarta por tener mayoria de datos en 0 y una correlación fuerte con id_comercio\n",
    "* estado_civil_descripcion: Se descarta por recategorización\n",
    "* **sexo_descripcion: Se conserva**\n",
    "* provincia: Se descarta por recategorizacion en regiones\n",
    "* ciudad: Se descarta para tener un analisis geografico limitado hasta regiones\n",
    "* domicilio_codigo_postal: Se descarta para tener un analisis geografico limitado hasta regiones\n",
    "* fecha_de_ingreso_histo: Se descarta porque su único objetivo era calcular la antigüedad del cliente\n",
    "* fecha_presentacion_movimiento: Se descarta por su fuerte correlación con fecha_cupon_movimiento\n",
    "* fecha_vto_cupon_movimiento: Se descarta por su fuerte correlación con fecha_cupon_movimiento\n",
    "* cargo_descripcion_histo: Se descarta por recategorizacion\n",
    "* nivel_estudio_descripcion_histo: Se descarta por tener distribuciones parecidas para cada categoría\n",
    "* rel_vivienda_descripcion_histo: Se descarta por tener distribuciones parecidas para cada categoría"
   ]
  },
  {
   "cell_type": "code",
   "execution_count": null,
   "id": "990fc1bb-9b91-454f-8427-cd0ee26c2d19",
   "metadata": {
    "tags": []
   },
   "outputs": [],
   "source": [
    "df_final = df[['dni_titular_movimiento', 'fecha_cupon_movimiento', 'sexo_descripcion', 'monto_ajustado',\n",
    "         'nombre_comercio_concat', 'cargo_sector_desc_hist', 'edad_cliente', 'antig_cliente', 'comercio_cat',\n",
    "         'productos_recat', 'estado_civil_cat', 'region']]"
   ]
  },
  {
   "cell_type": "code",
   "execution_count": null,
   "id": "76bc73fd-956d-4303-ba13-debfa97006bc",
   "metadata": {
    "tags": []
   },
   "outputs": [],
   "source": [
    "df_pca_final.shape"
   ]
  },
  {
   "cell_type": "markdown",
   "id": "bd6f67b2-657c-4fbf-ada1-1d43ed370c70",
   "metadata": {
    "tags": []
   },
   "source": [
    "#### Union de las columnas resultantes de PCA"
   ]
  },
  {
   "cell_type": "code",
   "execution_count": null,
   "id": "12df811c-fd81-4f29-846a-ffd37bd238b4",
   "metadata": {},
   "outputs": [],
   "source": [
    "df_final = df_final.merge(df_pca_final[['pca1', 'pca2']], left_index=True, right_index=True)\n",
    "df_final.shape"
   ]
  },
  {
   "cell_type": "markdown",
   "id": "442c3b84-98e5-4357-8a42-9a0ba1c7987c",
   "metadata": {},
   "source": [
    "### Codificación"
   ]
  },
  {
   "cell_type": "code",
   "execution_count": null,
   "id": "8d156e33-a592-4b84-b443-fa953f73d1de",
   "metadata": {},
   "outputs": [],
   "source": [
    "# Transformacion de fecha_cupon_movimiento a numerica\n",
    "\n",
    "df_final['fecha_cupon_movimiento'] = df_final['fecha_cupon_movimiento'].astype(int)"
   ]
  },
  {
   "cell_type": "code",
   "execution_count": null,
   "id": "aac9b628-fcc4-4ced-963c-0667b39b01ac",
   "metadata": {},
   "outputs": [],
   "source": [
    "df_final.info()"
   ]
  },
  {
   "cell_type": "code",
   "execution_count": null,
   "id": "18b1ac34-01fa-4347-aa2f-22cfdc1e4161",
   "metadata": {},
   "outputs": [],
   "source": [
    "# A efectos de corroborar la cantidad de columnas de nuestra matriz\n",
    "\n",
    "print(\"dni_titular_movimiento\", df_final.dni_titular_movimiento.nunique())\n",
    "print(\"sexo_descripcion\", df_final.sexo_descripcion.nunique())\n",
    "print(\"nombre_comercio_concat\", df_final.nombre_comercio_concat.nunique())\n",
    "print(\"cargo_sector_desc_hist\", df_final.cargo_sector_desc_hist.nunique())\n",
    "print(\"comercio_cat\", df_final.comercio_cat.nunique())\n",
    "print(\"productos_recat\", df_final.productos_recat.nunique())\n",
    "print(\"estado_civil_cat\", df_final.estado_civil_cat.nunique())\n",
    "print(\"region\", df_final.region.nunique())"
   ]
  },
  {
   "cell_type": "code",
   "execution_count": null,
   "id": "2f625d4b-a160-40f2-b63c-03279b6b0a94",
   "metadata": {},
   "outputs": [],
   "source": [
    "from sklearn.preprocessing import OneHotEncoder\n",
    "\n",
    "new_columns = []\n",
    "\n",
    "categorical_cols = ['dni_titular_movimiento', 'sexo_descripcion',\n",
    "         'nombre_comercio_concat', 'cargo_sector_desc_hist', 'comercio_cat',\n",
    "         'productos_recat', 'estado_civil_cat', 'region']\n",
    "\n",
    "encoder = OneHotEncoder(handle_unknown='ignore', sparse=False)\n",
    "X_cat = encoder.fit_transform(df_final[categorical_cols])\n",
    "for col, col_values in zip(categorical_cols, encoder.categories_):\n",
    "    for col_value in col_values:\n",
    "        new_columns.append('{}={}'.format(col, col_value))\n",
    "#print(\"Matrix has shape {}, with columns: {}\".format(X_cat.shape, new_columns))"
   ]
  },
  {
   "cell_type": "code",
   "execution_count": null,
   "id": "ca41c433-9cab-4f6a-aff4-b9a207cdf6b9",
   "metadata": {
    "tags": []
   },
   "outputs": [],
   "source": [
    "numerical_cols = ['fecha_cupon_movimiento','monto_ajustado',\n",
    "         'edad_cliente', 'antig_cliente', 'pca1', 'pca2']"
   ]
  },
  {
   "cell_type": "code",
   "execution_count": null,
   "id": "56dcb5ea-643d-4690-889e-3d7a28931415",
   "metadata": {
    "tags": []
   },
   "outputs": [],
   "source": [
    "import numpy\n",
    "\n",
    "X = numpy.hstack([X_cat, df_final[numerical_cols].values])\n",
    "new_columns.extend(numerical_cols)\n",
    "#print(\"Matrix has shape {}, with columns: {}\".format(X_cat.shape, new_columns))"
   ]
  },
  {
   "cell_type": "code",
   "execution_count": null,
   "id": "aa48c089-82fb-49fa-b626-3677d7fbc2f4",
   "metadata": {
    "tags": []
   },
   "outputs": [],
   "source": [
    "X.shape"
   ]
  },
  {
   "cell_type": "code",
   "execution_count": null,
   "id": "185a0a2e-2a90-4001-9a3f-c486db0c7acf",
   "metadata": {
    "tags": []
   },
   "outputs": [],
   "source": [
    "df_guardado = pd.DataFrame(data=X, columns=new_columns)"
   ]
  },
  {
   "cell_type": "markdown",
   "id": "62673d9e-f490-4ac7-9f3f-0f75cd91c602",
   "metadata": {},
   "source": [
    "### Guardado"
   ]
  },
  {
   "cell_type": "code",
   "execution_count": null,
   "id": "d923b108-6819-445c-8745-9b317446875d",
   "metadata": {},
   "outputs": [],
   "source": [
    "df_guardado.to_pickle('df_final.pkl')"
   ]
  },
  {
   "cell_type": "markdown",
   "id": "0f4c58bb-09b1-4cd2-a18d-024ec7fc2e66",
   "metadata": {},
   "source": [
    "-----"
   ]
  },
  {
   "cell_type": "markdown",
   "id": "11fc1a21-5dfe-480e-9af8-f41246d96f7b",
   "metadata": {},
   "source": [
    "FIN"
   ]
  }
 ],
 "metadata": {
  "kernelspec": {
   "display_name": "Python 3",
   "language": "python",
   "name": "python3"
  },
  "language_info": {
   "codemirror_mode": {
    "name": "ipython",
    "version": 3
   },
   "file_extension": ".py",
   "mimetype": "text/x-python",
   "name": "python",
   "nbconvert_exporter": "python",
   "pygments_lexer": "ipython3",
   "version": "3.6.13"
  },
  "toc-showcode": false
 },
 "nbformat": 4,
 "nbformat_minor": 5
}
